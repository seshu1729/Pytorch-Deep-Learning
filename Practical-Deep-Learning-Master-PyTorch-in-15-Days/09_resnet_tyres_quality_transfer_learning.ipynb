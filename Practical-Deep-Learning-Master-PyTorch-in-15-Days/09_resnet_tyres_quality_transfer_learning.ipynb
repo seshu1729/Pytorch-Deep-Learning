{
 "cells": [
  {
   "cell_type": "markdown",
   "id": "23586b75-9320-4714-b402-4e31310b17b7",
   "metadata": {},
   "source": [
    "- [Main code](#main-code)\n",
    "- [Step by step code](#step-by-step-code)"
   ]
  },
  {
   "cell_type": "markdown",
   "id": "ed0effb8-4291-41d4-aee0-127529839a30",
   "metadata": {},
   "source": [
    "### Main code"
   ]
  },
  {
   "cell_type": "code",
   "execution_count": 18,
   "id": "16cf910e-07f0-4701-87f0-e55a7fcf21e7",
   "metadata": {},
   "outputs": [
    {
     "name": "stdout",
     "output_type": "stream",
     "text": [
      "Using device: xpu\n",
      "tensor([[0.0012]], device='xpu:0')\n"
     ]
    }
   ],
   "source": [
    "\"\"\"\n",
    "Now do the prediction\n",
    "\"\"\"\n",
    "\n",
    "import sys\n",
    "import torch\n",
    "import torch.nn as nn\n",
    "import torchvision\n",
    "from torchvision import transforms\n",
    "from tqdm import tqdm\n",
    "from torch.utils.data import random_split, DataLoader\n",
    "from PIL import Image\n",
    "\n",
    "if torch.cuda.is_available():\n",
    "  device=\"cuda\"\n",
    "elif torch.xpu.is_available():\n",
    "  device=\"xpu\"\n",
    "elif torch.mps.is_available():\n",
    "  device=\"mps\"    \n",
    "else:\n",
    "  device=\"cpu\"\n",
    "\n",
    "print(\"Using device:\", device)\n",
    "\n",
    "preprocess = transforms.Compose([\n",
    "    transforms.Resize((224, 224)),\n",
    "    transforms.ToTensor(),\n",
    "    transforms.Normalize(mean=[0.485, 0.456, 0.406], std=[0.229, 0.224, 0.225]),\n",
    "])\n",
    "\n",
    "\n",
    "resnet50_model = torchvision.models.resnet50(\n",
    "    weights=torchvision.models.ResNet50_Weights.IMAGENET1K_V1\n",
    ")\n",
    "resnet50_model.fc = nn.Identity()\n",
    "resnet50_model = resnet50_model.to(device)\n",
    "\n",
    "fc_model = nn.Sequential(\n",
    "    nn.Linear(2048, 1024),\n",
    "    nn.ReLU(),\n",
    "    nn.Linear(1024, 1)\n",
    ")\n",
    "fc_state_dict = torch.load(\"./data/09_Images/fc_model_3.pth\", weights_only=True)\n",
    "fc_model.load_state_dict(fc_state_dict)\n",
    "fc_model = fc_model.to(device)\n",
    "\n",
    "model = nn.Sequential(\n",
    "    resnet50_model,\n",
    "    fc_model\n",
    ")\n",
    "model = model.to(device)\n",
    "model.eval()\n",
    "\n",
    "tire = Image.open(\"./data/09_Images/prediction/tire3.jpg\")\n",
    "tire_tensor = preprocess(tire)\n",
    "# print(tire1_tensor)\n",
    "# print(tire1_tensor.shape)\n",
    "tire_tensor = tire_tensor.unsqueeze(dim=0)\n",
    "# print(tire1_tensor)\n",
    "# print(tire1_tensor.shape)\n",
    "tire_tensor = tire_tensor.to(device)\n",
    "\n",
    "with torch.no_grad():\n",
    "    y_pred = torch.sigmoid(model(tire_tensor))\n",
    "    print(y_pred)\n",
    "    pass"
   ]
  },
  {
   "cell_type": "markdown",
   "id": "402d7d6f-5c5d-4884-921b-a0e97c7aa293",
   "metadata": {},
   "source": [
    "### Step by step code"
   ]
  },
  {
   "cell_type": "code",
   "execution_count": 1,
   "id": "07972a03-0da9-4636-bdda-a8caef3e64e4",
   "metadata": {
    "scrolled": true
   },
   "outputs": [
    {
     "name": "stdout",
     "output_type": "stream",
     "text": [
      "Using device: xpu\n",
      "Egyptian cat 0.6402460932731628\n",
      "plastic bag 0.08858644962310791\n",
      "tiger cat 0.08119015395641327\n",
      "sleeping bag 0.07152608036994934\n",
      "tabby 0.029940713196992874\n"
     ]
    }
   ],
   "source": [
    "\"\"\"\n",
    "Basic Resnet code\n",
    "Doc. Ref.: https://pytorch.org/hub/pytorch_vision_resnet/\n",
    "\"\"\"\n",
    "\n",
    "import sys\n",
    "import torch\n",
    "import torchvision\n",
    "\n",
    "from PIL import Image\n",
    "from torchvision import transforms\n",
    "\n",
    "if torch.cuda.is_available():\n",
    "  device=\"cuda\"\n",
    "elif torch.xpu.is_available():\n",
    "  device=\"xpu\"\n",
    "elif torch.mps.is_available():\n",
    "  device=\"mps\"    \n",
    "else:\n",
    "  device=\"cpu\"\n",
    "\n",
    "print(\"Using device:\", device)\n",
    "\n",
    "# model = torch.hub.load('pytorch/vision:v0.10.0', 'resnet101', pretrained=True) # Mentioned in pytorch website\n",
    "# model = torchvision.models.resnet50(weights=torchvision.models.ResNet50_Weights.DEFAULT) # Default resnet model\n",
    "model = torchvision.models.resnet50(weights=torchvision.models.ResNet50_Weights.IMAGENET1K_V1)\n",
    "model.eval()\n",
    "\n",
    "filename = \"./data/09_Images/cat.jpg\"\n",
    "input_image = Image.open(filename)\n",
    "\n",
    "preprocess = transforms.Compose([\n",
    "    transforms.Resize(256),\n",
    "    transforms.CenterCrop(224),\n",
    "    transforms.ToTensor(),\n",
    "    transforms.Normalize(mean=[0.485, 0.456, 0.406], std=[0.229, 0.224, 0.225]),\n",
    "])\n",
    "input_tensor = preprocess(input_image)\n",
    "input_batch = input_tensor.unsqueeze(0) # create a mini-batch as expected by the model\n",
    "\n",
    "\n",
    "input_batch = input_batch.to(device)\n",
    "model.to(device)\n",
    "\n",
    "with torch.no_grad():\n",
    "    output = model(input_batch)\n",
    "# Tensor of shape 1000, with confidence scores over ImageNet's 1000 classes\n",
    "# print(output[0])\n",
    "# The output has unnormalized scores. To get probabilities, you can run a softmax on it.\n",
    "probabilities = torch.nn.functional.softmax(output[0], dim=0)\n",
    "# print(probabilities)\n",
    "\n",
    "# Read the categories\n",
    "with open(\"./data/09_Images/imagenet_classes.txt\", \"r\") as f:\n",
    "    categories = [s.strip() for s in f.readlines()]\n",
    "# Show top categories per image\n",
    "top5_prob, top5_catid = torch.topk(probabilities, 5)\n",
    "for i in range(top5_prob.size(0)):\n",
    "    print(categories[top5_catid[i]], top5_prob[i].item())\n"
   ]
  },
  {
   "cell_type": "code",
   "execution_count": 2,
   "id": "635dc84d-3c6a-49f3-9093-e638a86dfed9",
   "metadata": {},
   "outputs": [
    {
     "name": "stdout",
     "output_type": "stream",
     "text": [
      "tensor([0.6402, 0.0886, 0.0812, 0.0715, 0.0299], device='xpu:0')\n"
     ]
    }
   ],
   "source": [
    "print(top5_prob)"
   ]
  },
  {
   "cell_type": "code",
   "execution_count": 3,
   "id": "f892e7aa-a0eb-4979-80dc-ce1c858003d1",
   "metadata": {},
   "outputs": [
    {
     "name": "stdout",
     "output_type": "stream",
     "text": [
      "tensor([285, 728, 282, 797, 281], device='xpu:0')\n"
     ]
    }
   ],
   "source": [
    "print(top5_catid)"
   ]
  },
  {
   "cell_type": "code",
   "execution_count": 4,
   "id": "da9a9622-0731-463a-9039-8699ed80d635",
   "metadata": {},
   "outputs": [
    {
     "name": "stdout",
     "output_type": "stream",
     "text": [
      "{'defective': 0, 'good': 1}\n",
      "(tensor([[[-0.2342, -0.1143,  0.1254,  ..., -0.4911, -0.4568, -0.4911],\n",
      "         [-0.2856, -0.0629,  0.0741,  ..., -0.4911, -0.4568, -0.3712],\n",
      "         [-0.2684, -0.0287, -0.0287,  ..., -0.4397, -0.4568, -0.3198],\n",
      "         ...,\n",
      "         [-0.3369, -0.2856, -0.1486,  ..., -0.6965, -0.7993, -0.7650],\n",
      "         [-0.1143, -0.0287,  0.1597,  ..., -0.6109, -0.6965, -0.6623],\n",
      "         [ 0.4679,  0.6563,  0.7762,  ..., -0.4054, -0.4568, -0.4397]],\n",
      "\n",
      "        [[-0.0399,  0.1001,  0.3277,  ..., -0.2150, -0.1800, -0.2150],\n",
      "         [-0.0924,  0.1352,  0.2927,  ..., -0.2500, -0.2150, -0.1099],\n",
      "         [-0.0924,  0.1527,  0.1877,  ..., -0.1975, -0.1800, -0.0399],\n",
      "         ...,\n",
      "         [-0.0224,  0.0476,  0.1702,  ..., -0.3725, -0.4776, -0.4601],\n",
      "         [ 0.1877,  0.2927,  0.4853,  ..., -0.3025, -0.4076, -0.3901],\n",
      "         [ 0.7479,  0.9580,  1.0805,  ..., -0.1099, -0.1800, -0.1625]],\n",
      "\n",
      "        [[ 0.0256,  0.2173,  0.4962,  ..., -0.0615, -0.0092, -0.0267],\n",
      "         [-0.0615,  0.2696,  0.4962,  ..., -0.1138, -0.0441,  0.0779],\n",
      "         [-0.0441,  0.3045,  0.3568,  ..., -0.0441, -0.0441,  0.1302],\n",
      "         ...,\n",
      "         [ 0.0082,  0.0953,  0.2522,  ..., -0.1835, -0.2881, -0.2707],\n",
      "         [ 0.2696,  0.3742,  0.6182,  ..., -0.1312, -0.2010, -0.1835],\n",
      "         [ 0.9494,  1.1759,  1.3328,  ...,  0.0953,  0.0256,  0.0256]]]), 1)\n",
      "1485\n",
      "371\n"
     ]
    }
   ],
   "source": [
    "\"\"\"\n",
    "Load the data now\n",
    "\"\"\"\n",
    "\n",
    "import sys\n",
    "import torch\n",
    "import torchvision\n",
    "from torchvision import transforms\n",
    "from torch.utils.data import random_split, DataLoader\n",
    "\n",
    "preprocess = transforms.Compose([\n",
    "    transforms.Resize(256),\n",
    "    transforms.CenterCrop(224),\n",
    "    transforms.ToTensor(),\n",
    "    transforms.Normalize(mean=[0.485, 0.456, 0.406], std=[0.229, 0.224, 0.225]),\n",
    "])\n",
    "\n",
    "dataset = torchvision.datasets.ImageFolder(\n",
    "    root='./data/09_Images/',\n",
    "    transform=preprocess\n",
    ")\n",
    "print(dataset.class_to_idx)\n",
    "print(dataset[1400])\n",
    "\n",
    "train_dataset, val_dataset = random_split(dataset, [0.8, 0.2])\n",
    "print(len(train_dataset))\n",
    "print(len(val_dataset))\n",
    "\n",
    "train_dataloader = DataLoader(train_dataset, batch_size=32, shuffle=True)\n",
    "val_dataloader = DataLoader(val_dataset, batch_size=32, shuffle=True)\n"
   ]
  },
  {
   "cell_type": "code",
   "execution_count": 6,
   "id": "23ee90a4-da62-4073-8495-cde9fea05f29",
   "metadata": {},
   "outputs": [
    {
     "name": "stdout",
     "output_type": "stream",
     "text": [
      "torch.Size([32, 2048])\n",
      "tensor([[0.0336, 0.6679, 0.1666,  ..., 0.4760, 0.5207, 0.3837],\n",
      "        [0.1866, 0.1911, 0.0767,  ..., 0.2048, 0.0745, 0.1339],\n",
      "        [0.3993, 0.2582, 0.3951,  ..., 0.0889, 0.1884, 0.3733],\n",
      "        ...,\n",
      "        [0.2678, 1.3730, 0.0567,  ..., 0.3261, 0.4469, 0.8907],\n",
      "        [0.7721, 1.1602, 0.3235,  ..., 0.1784, 0.2367, 0.5428],\n",
      "        [0.0028, 0.4231, 0.0084,  ..., 0.0350, 0.1405, 0.2168]],\n",
      "       grad_fn=<ViewBackward0>)\n"
     ]
    }
   ],
   "source": [
    "import sys\n",
    "import torch\n",
    "import torch.nn as nn\n",
    "import torchvision\n",
    "from torchvision import transforms\n",
    "from torch.utils.data import random_split, DataLoader\n",
    "\n",
    "preprocess = transforms.Compose([\n",
    "    transforms.Resize(256),\n",
    "    transforms.CenterCrop(224),\n",
    "    transforms.ToTensor(),\n",
    "    transforms.Normalize(mean=[0.485, 0.456, 0.406], std=[0.229, 0.224, 0.225]),\n",
    "])\n",
    "\n",
    "dataset = torchvision.datasets.ImageFolder(\n",
    "    root='./data/09_Images/',\n",
    "    transform=preprocess\n",
    ")\n",
    "train_dataset, val_dataset = random_split(dataset, [0.8, 0.2])\n",
    "\n",
    "train_dataloader = DataLoader(train_dataset, batch_size=32, shuffle=True)\n",
    "val_dataloader = DataLoader(val_dataset, batch_size=32, shuffle=True)\n",
    "\n",
    "resnet50_model = torchvision.models.resnet50(\n",
    "    weights=torchvision.models.ResNet50_Weights.IMAGENET1K_V1\n",
    ")\n",
    "resnet50_model.fc = nn.Identity() # Instead of removing the fully connected layer. We'll replace fc layer with nn.Identity() layer.\n",
    "resnet50_model.eval()\n",
    "\n",
    "for X, y in train_dataloader:\n",
    "    print(resnet50_model(X).shape)\n",
    "    print(resnet50_model(X))\n",
    "    break\n",
    "\n"
   ]
  },
  {
   "cell_type": "code",
   "execution_count": 8,
   "id": "e32eb10b-9759-47c0-8a5d-0219f37b5e95",
   "metadata": {
    "scrolled": true
   },
   "outputs": [
    {
     "name": "stdout",
     "output_type": "stream",
     "text": [
      "Sequential(\n",
      "  (0): ResNet(\n",
      "    (conv1): Conv2d(3, 64, kernel_size=(7, 7), stride=(2, 2), padding=(3, 3), bias=False)\n",
      "    (bn1): BatchNorm2d(64, eps=1e-05, momentum=0.1, affine=True, track_running_stats=True)\n",
      "    (relu): ReLU(inplace=True)\n",
      "    (maxpool): MaxPool2d(kernel_size=3, stride=2, padding=1, dilation=1, ceil_mode=False)\n",
      "    (layer1): Sequential(\n",
      "      (0): Bottleneck(\n",
      "        (conv1): Conv2d(64, 64, kernel_size=(1, 1), stride=(1, 1), bias=False)\n",
      "        (bn1): BatchNorm2d(64, eps=1e-05, momentum=0.1, affine=True, track_running_stats=True)\n",
      "        (conv2): Conv2d(64, 64, kernel_size=(3, 3), stride=(1, 1), padding=(1, 1), bias=False)\n",
      "        (bn2): BatchNorm2d(64, eps=1e-05, momentum=0.1, affine=True, track_running_stats=True)\n",
      "        (conv3): Conv2d(64, 256, kernel_size=(1, 1), stride=(1, 1), bias=False)\n",
      "        (bn3): BatchNorm2d(256, eps=1e-05, momentum=0.1, affine=True, track_running_stats=True)\n",
      "        (relu): ReLU(inplace=True)\n",
      "        (downsample): Sequential(\n",
      "          (0): Conv2d(64, 256, kernel_size=(1, 1), stride=(1, 1), bias=False)\n",
      "          (1): BatchNorm2d(256, eps=1e-05, momentum=0.1, affine=True, track_running_stats=True)\n",
      "        )\n",
      "      )\n",
      "      (1): Bottleneck(\n",
      "        (conv1): Conv2d(256, 64, kernel_size=(1, 1), stride=(1, 1), bias=False)\n",
      "        (bn1): BatchNorm2d(64, eps=1e-05, momentum=0.1, affine=True, track_running_stats=True)\n",
      "        (conv2): Conv2d(64, 64, kernel_size=(3, 3), stride=(1, 1), padding=(1, 1), bias=False)\n",
      "        (bn2): BatchNorm2d(64, eps=1e-05, momentum=0.1, affine=True, track_running_stats=True)\n",
      "        (conv3): Conv2d(64, 256, kernel_size=(1, 1), stride=(1, 1), bias=False)\n",
      "        (bn3): BatchNorm2d(256, eps=1e-05, momentum=0.1, affine=True, track_running_stats=True)\n",
      "        (relu): ReLU(inplace=True)\n",
      "      )\n",
      "      (2): Bottleneck(\n",
      "        (conv1): Conv2d(256, 64, kernel_size=(1, 1), stride=(1, 1), bias=False)\n",
      "        (bn1): BatchNorm2d(64, eps=1e-05, momentum=0.1, affine=True, track_running_stats=True)\n",
      "        (conv2): Conv2d(64, 64, kernel_size=(3, 3), stride=(1, 1), padding=(1, 1), bias=False)\n",
      "        (bn2): BatchNorm2d(64, eps=1e-05, momentum=0.1, affine=True, track_running_stats=True)\n",
      "        (conv3): Conv2d(64, 256, kernel_size=(1, 1), stride=(1, 1), bias=False)\n",
      "        (bn3): BatchNorm2d(256, eps=1e-05, momentum=0.1, affine=True, track_running_stats=True)\n",
      "        (relu): ReLU(inplace=True)\n",
      "      )\n",
      "    )\n",
      "    (layer2): Sequential(\n",
      "      (0): Bottleneck(\n",
      "        (conv1): Conv2d(256, 128, kernel_size=(1, 1), stride=(1, 1), bias=False)\n",
      "        (bn1): BatchNorm2d(128, eps=1e-05, momentum=0.1, affine=True, track_running_stats=True)\n",
      "        (conv2): Conv2d(128, 128, kernel_size=(3, 3), stride=(2, 2), padding=(1, 1), bias=False)\n",
      "        (bn2): BatchNorm2d(128, eps=1e-05, momentum=0.1, affine=True, track_running_stats=True)\n",
      "        (conv3): Conv2d(128, 512, kernel_size=(1, 1), stride=(1, 1), bias=False)\n",
      "        (bn3): BatchNorm2d(512, eps=1e-05, momentum=0.1, affine=True, track_running_stats=True)\n",
      "        (relu): ReLU(inplace=True)\n",
      "        (downsample): Sequential(\n",
      "          (0): Conv2d(256, 512, kernel_size=(1, 1), stride=(2, 2), bias=False)\n",
      "          (1): BatchNorm2d(512, eps=1e-05, momentum=0.1, affine=True, track_running_stats=True)\n",
      "        )\n",
      "      )\n",
      "      (1): Bottleneck(\n",
      "        (conv1): Conv2d(512, 128, kernel_size=(1, 1), stride=(1, 1), bias=False)\n",
      "        (bn1): BatchNorm2d(128, eps=1e-05, momentum=0.1, affine=True, track_running_stats=True)\n",
      "        (conv2): Conv2d(128, 128, kernel_size=(3, 3), stride=(1, 1), padding=(1, 1), bias=False)\n",
      "        (bn2): BatchNorm2d(128, eps=1e-05, momentum=0.1, affine=True, track_running_stats=True)\n",
      "        (conv3): Conv2d(128, 512, kernel_size=(1, 1), stride=(1, 1), bias=False)\n",
      "        (bn3): BatchNorm2d(512, eps=1e-05, momentum=0.1, affine=True, track_running_stats=True)\n",
      "        (relu): ReLU(inplace=True)\n",
      "      )\n",
      "      (2): Bottleneck(\n",
      "        (conv1): Conv2d(512, 128, kernel_size=(1, 1), stride=(1, 1), bias=False)\n",
      "        (bn1): BatchNorm2d(128, eps=1e-05, momentum=0.1, affine=True, track_running_stats=True)\n",
      "        (conv2): Conv2d(128, 128, kernel_size=(3, 3), stride=(1, 1), padding=(1, 1), bias=False)\n",
      "        (bn2): BatchNorm2d(128, eps=1e-05, momentum=0.1, affine=True, track_running_stats=True)\n",
      "        (conv3): Conv2d(128, 512, kernel_size=(1, 1), stride=(1, 1), bias=False)\n",
      "        (bn3): BatchNorm2d(512, eps=1e-05, momentum=0.1, affine=True, track_running_stats=True)\n",
      "        (relu): ReLU(inplace=True)\n",
      "      )\n",
      "      (3): Bottleneck(\n",
      "        (conv1): Conv2d(512, 128, kernel_size=(1, 1), stride=(1, 1), bias=False)\n",
      "        (bn1): BatchNorm2d(128, eps=1e-05, momentum=0.1, affine=True, track_running_stats=True)\n",
      "        (conv2): Conv2d(128, 128, kernel_size=(3, 3), stride=(1, 1), padding=(1, 1), bias=False)\n",
      "        (bn2): BatchNorm2d(128, eps=1e-05, momentum=0.1, affine=True, track_running_stats=True)\n",
      "        (conv3): Conv2d(128, 512, kernel_size=(1, 1), stride=(1, 1), bias=False)\n",
      "        (bn3): BatchNorm2d(512, eps=1e-05, momentum=0.1, affine=True, track_running_stats=True)\n",
      "        (relu): ReLU(inplace=True)\n",
      "      )\n",
      "    )\n",
      "    (layer3): Sequential(\n",
      "      (0): Bottleneck(\n",
      "        (conv1): Conv2d(512, 256, kernel_size=(1, 1), stride=(1, 1), bias=False)\n",
      "        (bn1): BatchNorm2d(256, eps=1e-05, momentum=0.1, affine=True, track_running_stats=True)\n",
      "        (conv2): Conv2d(256, 256, kernel_size=(3, 3), stride=(2, 2), padding=(1, 1), bias=False)\n",
      "        (bn2): BatchNorm2d(256, eps=1e-05, momentum=0.1, affine=True, track_running_stats=True)\n",
      "        (conv3): Conv2d(256, 1024, kernel_size=(1, 1), stride=(1, 1), bias=False)\n",
      "        (bn3): BatchNorm2d(1024, eps=1e-05, momentum=0.1, affine=True, track_running_stats=True)\n",
      "        (relu): ReLU(inplace=True)\n",
      "        (downsample): Sequential(\n",
      "          (0): Conv2d(512, 1024, kernel_size=(1, 1), stride=(2, 2), bias=False)\n",
      "          (1): BatchNorm2d(1024, eps=1e-05, momentum=0.1, affine=True, track_running_stats=True)\n",
      "        )\n",
      "      )\n",
      "      (1): Bottleneck(\n",
      "        (conv1): Conv2d(1024, 256, kernel_size=(1, 1), stride=(1, 1), bias=False)\n",
      "        (bn1): BatchNorm2d(256, eps=1e-05, momentum=0.1, affine=True, track_running_stats=True)\n",
      "        (conv2): Conv2d(256, 256, kernel_size=(3, 3), stride=(1, 1), padding=(1, 1), bias=False)\n",
      "        (bn2): BatchNorm2d(256, eps=1e-05, momentum=0.1, affine=True, track_running_stats=True)\n",
      "        (conv3): Conv2d(256, 1024, kernel_size=(1, 1), stride=(1, 1), bias=False)\n",
      "        (bn3): BatchNorm2d(1024, eps=1e-05, momentum=0.1, affine=True, track_running_stats=True)\n",
      "        (relu): ReLU(inplace=True)\n",
      "      )\n",
      "      (2): Bottleneck(\n",
      "        (conv1): Conv2d(1024, 256, kernel_size=(1, 1), stride=(1, 1), bias=False)\n",
      "        (bn1): BatchNorm2d(256, eps=1e-05, momentum=0.1, affine=True, track_running_stats=True)\n",
      "        (conv2): Conv2d(256, 256, kernel_size=(3, 3), stride=(1, 1), padding=(1, 1), bias=False)\n",
      "        (bn2): BatchNorm2d(256, eps=1e-05, momentum=0.1, affine=True, track_running_stats=True)\n",
      "        (conv3): Conv2d(256, 1024, kernel_size=(1, 1), stride=(1, 1), bias=False)\n",
      "        (bn3): BatchNorm2d(1024, eps=1e-05, momentum=0.1, affine=True, track_running_stats=True)\n",
      "        (relu): ReLU(inplace=True)\n",
      "      )\n",
      "      (3): Bottleneck(\n",
      "        (conv1): Conv2d(1024, 256, kernel_size=(1, 1), stride=(1, 1), bias=False)\n",
      "        (bn1): BatchNorm2d(256, eps=1e-05, momentum=0.1, affine=True, track_running_stats=True)\n",
      "        (conv2): Conv2d(256, 256, kernel_size=(3, 3), stride=(1, 1), padding=(1, 1), bias=False)\n",
      "        (bn2): BatchNorm2d(256, eps=1e-05, momentum=0.1, affine=True, track_running_stats=True)\n",
      "        (conv3): Conv2d(256, 1024, kernel_size=(1, 1), stride=(1, 1), bias=False)\n",
      "        (bn3): BatchNorm2d(1024, eps=1e-05, momentum=0.1, affine=True, track_running_stats=True)\n",
      "        (relu): ReLU(inplace=True)\n",
      "      )\n",
      "      (4): Bottleneck(\n",
      "        (conv1): Conv2d(1024, 256, kernel_size=(1, 1), stride=(1, 1), bias=False)\n",
      "        (bn1): BatchNorm2d(256, eps=1e-05, momentum=0.1, affine=True, track_running_stats=True)\n",
      "        (conv2): Conv2d(256, 256, kernel_size=(3, 3), stride=(1, 1), padding=(1, 1), bias=False)\n",
      "        (bn2): BatchNorm2d(256, eps=1e-05, momentum=0.1, affine=True, track_running_stats=True)\n",
      "        (conv3): Conv2d(256, 1024, kernel_size=(1, 1), stride=(1, 1), bias=False)\n",
      "        (bn3): BatchNorm2d(1024, eps=1e-05, momentum=0.1, affine=True, track_running_stats=True)\n",
      "        (relu): ReLU(inplace=True)\n",
      "      )\n",
      "      (5): Bottleneck(\n",
      "        (conv1): Conv2d(1024, 256, kernel_size=(1, 1), stride=(1, 1), bias=False)\n",
      "        (bn1): BatchNorm2d(256, eps=1e-05, momentum=0.1, affine=True, track_running_stats=True)\n",
      "        (conv2): Conv2d(256, 256, kernel_size=(3, 3), stride=(1, 1), padding=(1, 1), bias=False)\n",
      "        (bn2): BatchNorm2d(256, eps=1e-05, momentum=0.1, affine=True, track_running_stats=True)\n",
      "        (conv3): Conv2d(256, 1024, kernel_size=(1, 1), stride=(1, 1), bias=False)\n",
      "        (bn3): BatchNorm2d(1024, eps=1e-05, momentum=0.1, affine=True, track_running_stats=True)\n",
      "        (relu): ReLU(inplace=True)\n",
      "      )\n",
      "    )\n",
      "    (layer4): Sequential(\n",
      "      (0): Bottleneck(\n",
      "        (conv1): Conv2d(1024, 512, kernel_size=(1, 1), stride=(1, 1), bias=False)\n",
      "        (bn1): BatchNorm2d(512, eps=1e-05, momentum=0.1, affine=True, track_running_stats=True)\n",
      "        (conv2): Conv2d(512, 512, kernel_size=(3, 3), stride=(2, 2), padding=(1, 1), bias=False)\n",
      "        (bn2): BatchNorm2d(512, eps=1e-05, momentum=0.1, affine=True, track_running_stats=True)\n",
      "        (conv3): Conv2d(512, 2048, kernel_size=(1, 1), stride=(1, 1), bias=False)\n",
      "        (bn3): BatchNorm2d(2048, eps=1e-05, momentum=0.1, affine=True, track_running_stats=True)\n",
      "        (relu): ReLU(inplace=True)\n",
      "        (downsample): Sequential(\n",
      "          (0): Conv2d(1024, 2048, kernel_size=(1, 1), stride=(2, 2), bias=False)\n",
      "          (1): BatchNorm2d(2048, eps=1e-05, momentum=0.1, affine=True, track_running_stats=True)\n",
      "        )\n",
      "      )\n",
      "      (1): Bottleneck(\n",
      "        (conv1): Conv2d(2048, 512, kernel_size=(1, 1), stride=(1, 1), bias=False)\n",
      "        (bn1): BatchNorm2d(512, eps=1e-05, momentum=0.1, affine=True, track_running_stats=True)\n",
      "        (conv2): Conv2d(512, 512, kernel_size=(3, 3), stride=(1, 1), padding=(1, 1), bias=False)\n",
      "        (bn2): BatchNorm2d(512, eps=1e-05, momentum=0.1, affine=True, track_running_stats=True)\n",
      "        (conv3): Conv2d(512, 2048, kernel_size=(1, 1), stride=(1, 1), bias=False)\n",
      "        (bn3): BatchNorm2d(2048, eps=1e-05, momentum=0.1, affine=True, track_running_stats=True)\n",
      "        (relu): ReLU(inplace=True)\n",
      "      )\n",
      "      (2): Bottleneck(\n",
      "        (conv1): Conv2d(2048, 512, kernel_size=(1, 1), stride=(1, 1), bias=False)\n",
      "        (bn1): BatchNorm2d(512, eps=1e-05, momentum=0.1, affine=True, track_running_stats=True)\n",
      "        (conv2): Conv2d(512, 512, kernel_size=(3, 3), stride=(1, 1), padding=(1, 1), bias=False)\n",
      "        (bn2): BatchNorm2d(512, eps=1e-05, momentum=0.1, affine=True, track_running_stats=True)\n",
      "        (conv3): Conv2d(512, 2048, kernel_size=(1, 1), stride=(1, 1), bias=False)\n",
      "        (bn3): BatchNorm2d(2048, eps=1e-05, momentum=0.1, affine=True, track_running_stats=True)\n",
      "        (relu): ReLU(inplace=True)\n",
      "      )\n",
      "    )\n",
      "    (avgpool): AdaptiveAvgPool2d(output_size=(1, 1))\n",
      "    (fc): Identity()\n",
      "  )\n",
      "  (1): Sequential(\n",
      "    (0): Linear(in_features=2048, out_features=1024, bias=True)\n",
      "    (1): ReLU()\n",
      "    (2): Linear(in_features=1024, out_features=1, bias=True)\n",
      "  )\n",
      ")\n",
      "torch.Size([32, 1])\n"
     ]
    }
   ],
   "source": [
    "\"\"\"\n",
    "model transfer\n",
    "\"\"\"\n",
    "\n",
    "import sys\n",
    "import torch\n",
    "import torch.nn as nn\n",
    "import torchvision\n",
    "from torchvision import transforms\n",
    "from torch.utils.data import random_split, DataLoader\n",
    "\n",
    "preprocess = transforms.Compose([\n",
    "    transforms.Resize(256),\n",
    "    transforms.CenterCrop(224),\n",
    "    transforms.ToTensor(),\n",
    "    transforms.Normalize(mean=[0.485, 0.456, 0.406], std=[0.229, 0.224, 0.225]),\n",
    "])\n",
    "\n",
    "dataset = torchvision.datasets.ImageFolder(\n",
    "    root='./data/09_Images/',\n",
    "    transform=preprocess\n",
    ")\n",
    "train_dataset, val_dataset = random_split(dataset, [0.8, 0.2])\n",
    "\n",
    "train_dataloader = DataLoader(train_dataset, batch_size=32, shuffle=True)\n",
    "val_dataloader = DataLoader(val_dataset, batch_size=32, shuffle=True)\n",
    "\n",
    "resnet50_model = torchvision.models.resnet50(\n",
    "    weights=torchvision.models.ResNet50_Weights.IMAGENET1K_V1\n",
    ")\n",
    "resnet50_model.fc = nn.Identity()\n",
    "for param in resnet50_model.parameters():\n",
    "    param.requires_grad = False\n",
    "resnet50_model.eval()\n",
    "\n",
    "fc_model = nn.Sequential(\n",
    "    nn.Linear(2048, 1024),\n",
    "    nn.ReLU(),\n",
    "    nn.Linear(1024, 1)\n",
    ")\n",
    "\n",
    "model = nn.Sequential(\n",
    "    resnet50_model,\n",
    "    fc_model\n",
    ")\n",
    "\n",
    "optimizer = torch.optim.Adam(fc_model.parameters(), lr=0.001)\n",
    "\n",
    "print(model)\n",
    "\n",
    "for X, y in train_dataloader:\n",
    "    out = model(X)\n",
    "    print(out.shape)\n",
    "    break\n",
    "\n"
   ]
  },
  {
   "cell_type": "code",
   "execution_count": 9,
   "id": "ef3ef3ff-c4d9-4ae3-9582-4f25ba8d16d3",
   "metadata": {},
   "outputs": [
    {
     "name": "stdout",
     "output_type": "stream",
     "text": [
      "Using device: xpu\n",
      "19.529963448643684\n",
      "9.51763753220439\n",
      "8.801081113517284\n",
      "6.877262387424707\n",
      "6.687844231724739\n",
      "6.036806099116802\n",
      "5.204704511910677\n",
      "6.267987970262766\n",
      "3.9412702145054936\n",
      "3.2025185767561197\n"
     ]
    }
   ],
   "source": [
    "\"\"\"\n",
    "Model training\n",
    "\"\"\"\n",
    "\n",
    "import sys\n",
    "import torch\n",
    "import torch.nn as nn\n",
    "import torchvision\n",
    "from torchvision import transforms\n",
    "from torch.utils.data import random_split, DataLoader\n",
    "\n",
    "if torch.cuda.is_available():\n",
    "  device=\"cuda\"\n",
    "elif torch.xpu.is_available():\n",
    "  device=\"xpu\"\n",
    "elif torch.mps.is_available():\n",
    "  device=\"mps\"    \n",
    "else:\n",
    "  device=\"cpu\"\n",
    "\n",
    "print(\"Using device:\", device)\n",
    "\n",
    "\n",
    "preprocess = transforms.Compose([\n",
    "    transforms.Resize(256),\n",
    "    transforms.CenterCrop(224),\n",
    "    transforms.ToTensor(),\n",
    "    transforms.Normalize(mean=[0.485, 0.456, 0.406], std=[0.229, 0.224, 0.225]),\n",
    "])\n",
    "\n",
    "dataset = torchvision.datasets.ImageFolder(\n",
    "    root='./data/09_Images/',\n",
    "    transform=preprocess\n",
    ")\n",
    "train_dataset, val_dataset = random_split(dataset, [0.8, 0.2])\n",
    "\n",
    "train_dataloader = DataLoader(train_dataset, batch_size=32, shuffle=True)\n",
    "val_dataloader = DataLoader(val_dataset, batch_size=32, shuffle=True)\n",
    "\n",
    "resnet50_model = torchvision.models.resnet50(\n",
    "    weights=torchvision.models.ResNet50_Weights.IMAGENET1K_V1\n",
    ")\n",
    "resnet50_model.fc = nn.Identity()\n",
    "for param in resnet50_model.parameters():\n",
    "    param.requires_grad = False\n",
    "resnet50_model.eval()\n",
    "resnet50_model = resnet50_model.to(device)\n",
    "\n",
    "fc_model = nn.Sequential(\n",
    "    nn.Linear(2048, 1024),\n",
    "    nn.ReLU(),\n",
    "    nn.Linear(1024, 1)\n",
    ")\n",
    "fc_model = fc_model.to(device)\n",
    "\n",
    "model = nn.Sequential(\n",
    "    resnet50_model,\n",
    "    fc_model\n",
    ")\n",
    "model = model.to(device)\n",
    "\n",
    "optimizer = torch.optim.Adam(fc_model.parameters(), lr=0.001)\n",
    "loss_fn = nn.BCEWithLogitsLoss()\n",
    "\n",
    "for epoch in range(10):\n",
    "    \n",
    "    loss_sum = 0\n",
    "    for X, y in train_dataloader:\n",
    "        X = X.to(device)\n",
    "        y = y.to(device).type(torch.float).reshape(-1, 1)\n",
    "\n",
    "        outputs = model(X)\n",
    "        optimizer.zero_grad()\n",
    "        loss = loss_fn(outputs, y)\n",
    "        loss_sum+=loss.item()\n",
    "        loss.backward()\n",
    "        optimizer.step()\n",
    "    print(loss_sum)\n",
    "\n"
   ]
  },
  {
   "cell_type": "code",
   "execution_count": 10,
   "id": "d915403f-adee-4d93-a481-32feecef6fc1",
   "metadata": {
    "scrolled": true
   },
   "outputs": [
    {
     "name": "stdout",
     "output_type": "stream",
     "text": [
      "Using device: xpu\n",
      "Training loss:  0.335767554792952\n",
      "Training accuracy:  0.8417508417508418\n",
      "Validation loss:  0.2318673146267732\n",
      "Validation accuracy:  0.9191374663072777\n",
      "Training loss:  0.20077281778163097\n",
      "Training accuracy:  0.9151515151515152\n",
      "Validation loss:  0.1930123958736658\n",
      "Validation accuracy:  0.9245283018867925\n",
      "Training loss:  0.15930183255609046\n",
      "Training accuracy:  0.94006734006734\n",
      "Validation loss:  0.18241715617477894\n",
      "Validation accuracy:  0.9353099730458221\n",
      "Training loss:  0.13320306831217826\n",
      "Training accuracy:  0.9562289562289562\n",
      "Validation loss:  0.17697014256070057\n",
      "Validation accuracy:  0.9353099730458221\n",
      "Training loss:  0.1328073742383338\n",
      "Training accuracy:  0.9521885521885521\n",
      "Validation loss:  0.2291285196940104\n",
      "Validation accuracy:  0.9029649595687331\n",
      "Training loss:  0.128340371270129\n",
      "Training accuracy:  0.9474747474747475\n",
      "Validation loss:  0.28640378390749294\n",
      "Validation accuracy:  0.8787061994609164\n",
      "Training loss:  0.10056740972906986\n",
      "Training accuracy:  0.958922558922559\n",
      "Validation loss:  0.188664760440588\n",
      "Validation accuracy:  0.9353099730458221\n",
      "Training loss:  0.0942077628396293\n",
      "Training accuracy:  0.9649831649831649\n",
      "Validation loss:  0.18536588425437608\n",
      "Validation accuracy:  0.9326145552560647\n",
      "Training loss:  0.06432748969862277\n",
      "Training accuracy:  0.9838383838383838\n",
      "Validation loss:  0.18793358312298855\n",
      "Validation accuracy:  0.9272237196765498\n",
      "Training loss:  0.06002691277164094\n",
      "Training accuracy:  0.9872053872053872\n",
      "Validation loss:  0.20771508353451887\n",
      "Validation accuracy:  0.921832884097035\n"
     ]
    }
   ],
   "source": [
    "\"\"\"\n",
    "Model training 2\n",
    "\"\"\"\n",
    "\n",
    "import sys\n",
    "import torch\n",
    "import torch.nn as nn\n",
    "import torchvision\n",
    "from torchvision import transforms\n",
    "from torch.utils.data import random_split, DataLoader\n",
    "\n",
    "if torch.cuda.is_available():\n",
    "  device=\"cuda\"\n",
    "elif torch.xpu.is_available():\n",
    "  device=\"xpu\"\n",
    "elif torch.mps.is_available():\n",
    "  device=\"mps\"    \n",
    "else:\n",
    "  device=\"cpu\"\n",
    "\n",
    "print(\"Using device:\", device)\n",
    "\n",
    "preprocess = transforms.Compose([\n",
    "    transforms.Resize(256),\n",
    "    transforms.CenterCrop(224),\n",
    "    transforms.ToTensor(),\n",
    "    transforms.Normalize(mean=[0.485, 0.456, 0.406], std=[0.229, 0.224, 0.225]),\n",
    "])\n",
    "\n",
    "dataset = torchvision.datasets.ImageFolder(\n",
    "    root='./data/09_Images/',\n",
    "    transform=preprocess\n",
    ")\n",
    "train_dataset, val_dataset = random_split(dataset, [0.8, 0.2])\n",
    "\n",
    "train_dataloader = DataLoader(train_dataset, batch_size=32, shuffle=True)\n",
    "val_dataloader = DataLoader(val_dataset, batch_size=32, shuffle=True)\n",
    "\n",
    "resnet50_model = torchvision.models.resnet50(\n",
    "    weights=torchvision.models.ResNet50_Weights.IMAGENET1K_V1\n",
    ")\n",
    "resnet50_model.fc = nn.Identity()\n",
    "for param in resnet50_model.parameters():\n",
    "    param.requires_grad = False\n",
    "resnet50_model.eval()\n",
    "resnet50_model = resnet50_model.to(device)\n",
    "\n",
    "fc_model = nn.Sequential(\n",
    "    nn.Linear(2048, 1024),\n",
    "    nn.ReLU(),\n",
    "    nn.Linear(1024, 1)\n",
    ")\n",
    "fc_model = fc_model.to(device)\n",
    "\n",
    "model = nn.Sequential(\n",
    "    resnet50_model,\n",
    "    fc_model\n",
    ")\n",
    "model = model.to(device)\n",
    "\n",
    "optimizer = torch.optim.Adam(fc_model.parameters(), lr=0.00025)\n",
    "loss_fn = nn.BCEWithLogitsLoss()\n",
    "\n",
    "for epoch in range(10):\n",
    "    model.train()\n",
    "    resnet50_model.eval()\n",
    "    \n",
    "    loss_sum = 0\n",
    "    train_accurate = 0\n",
    "    train_sum = 0\n",
    "    for X, y in train_dataloader:\n",
    "        X = X.to(device)\n",
    "        y = y.to(device).type(torch.float).reshape(-1, 1)\n",
    "\n",
    "        outputs = model(X)\n",
    "        optimizer.zero_grad()\n",
    "        loss = loss_fn(outputs, y)\n",
    "        loss_sum+=loss.item()\n",
    "        loss.backward()\n",
    "        optimizer.step()\n",
    "\n",
    "        predictions = torch.sigmoid(outputs) > 0.5\n",
    "        accurate = (predictions == y).sum().item()\n",
    "        train_accurate+=accurate\n",
    "        train_sum+=y.size(0)\n",
    "    print(\"Training loss: \", loss_sum / len(train_dataloader))\n",
    "    print(\"Training accuracy: \", train_accurate / train_sum)\n",
    "\n",
    "\n",
    "    model.eval()\n",
    "    val_loss_sum = 0\n",
    "    val_accurate = 0\n",
    "    val_sum = 0\n",
    "    with torch.no_grad():\n",
    "        for X, y in val_dataloader:\n",
    "            X = X.to(device)\n",
    "            y = y.to(device).type(torch.float).reshape(-1, 1)\n",
    "\n",
    "            outputs = model(X)\n",
    "            loss = loss_fn(outputs, y)\n",
    "            val_loss_sum+=loss.item()\n",
    "\n",
    "            predictions = torch.sigmoid(outputs) > 0.5\n",
    "            accurate = (predictions == y).sum().item()\n",
    "            val_accurate+=accurate\n",
    "            val_sum+=y.size(0)\n",
    "    print(\"Validation loss: \", val_loss_sum / len(val_dataloader))\n",
    "    print(\"Validation accuracy: \", val_accurate / val_sum)\n"
   ]
  },
  {
   "cell_type": "code",
   "execution_count": 11,
   "id": "e3d9f30a-0da9-4482-9d0a-9bea9b06b8ff",
   "metadata": {},
   "outputs": [
    {
     "data": {
      "image/jpeg": "[encoded data removed]",
      "image/png": "[encoded data removed]",
      "text/plain": [
       "<PIL.Image.Image image mode=RGB size=224x224>"
      ]
     },
     "execution_count": 11,
     "metadata": {},
     "output_type": "execute_result"
    }
   ],
   "source": [
    "\"\"\"\n",
    "Overfitting may occur, as we have lesser data.\n",
    "So we don't have more data to train. So use existing data.\n",
    "Transform and generate new images\n",
    "\"\"\"\n",
    "\n",
    "import torch\n",
    "import torch.nn as nn\n",
    "import torchvision\n",
    "from torchvision import transforms\n",
    "from torch.utils.data import random_split, DataLoader\n",
    "from PIL import Image\n",
    "\n",
    "preprocess = transforms.Compose([\n",
    "    transforms.RandomRotation(10),\n",
    "    transforms.RandomVerticalFlip(),\n",
    "    transforms.RandomHorizontalFlip(),\n",
    "    transforms.ColorJitter(brightness=0.2, contrast=0.2, saturation=0.2, hue=0.2),\n",
    "    transforms.Resize(256),\n",
    "    transforms.CenterCrop(224),\n",
    "    # transforms.ToTensor(),\n",
    "    # transforms.Normalize(mean=[0.485, 0.456, 0.406], std=[0.229, 0.224, 0.225]),\n",
    "])\n",
    "\n",
    "image = Image.open(\"./data/09_Images/good/good (9).jpg\")\n",
    "preprocess(image)"
   ]
  },
  {
   "cell_type": "code",
   "execution_count": 12,
   "id": "613b750b-1131-4eed-808c-7f7827b6c048",
   "metadata": {
    "scrolled": true
   },
   "outputs": [
    {
     "name": "stdout",
     "output_type": "stream",
     "text": [
      "Using device: xpu\n",
      "--- EPOCH: 0 ---\n"
     ]
    },
    {
     "name": "stderr",
     "output_type": "stream",
     "text": [
      "100%|██████████████████████████████████████████████████████████████████████████████████| 47/47 [02:02<00:00,  2.61s/it]\n"
     ]
    },
    {
     "name": "stdout",
     "output_type": "stream",
     "text": [
      "Training loss:  0.33478361431588516\n",
      "Training accuracy:  0.8572390572390572\n"
     ]
    },
    {
     "name": "stderr",
     "output_type": "stream",
     "text": [
      "100%|██████████████████████████████████████████████████████████████████████████████████| 12/12 [00:30<00:00,  2.54s/it]\n"
     ]
    },
    {
     "name": "stdout",
     "output_type": "stream",
     "text": [
      "Validation loss:  0.22818842406074205\n",
      "Validation accuracy:  0.9056603773584906\n",
      "--- EPOCH: 1 ---\n"
     ]
    },
    {
     "name": "stderr",
     "output_type": "stream",
     "text": [
      "100%|██████████████████████████████████████████████████████████████████████████████████| 47/47 [02:05<00:00,  2.67s/it]\n"
     ]
    },
    {
     "name": "stdout",
     "output_type": "stream",
     "text": [
      "Training loss:  0.2078779344546034\n",
      "Training accuracy:  0.907070707070707\n"
     ]
    },
    {
     "name": "stderr",
     "output_type": "stream",
     "text": [
      "100%|██████████████████████████████████████████████████████████████████████████████████| 12/12 [00:32<00:00,  2.68s/it]\n"
     ]
    },
    {
     "name": "stdout",
     "output_type": "stream",
     "text": [
      "Validation loss:  0.24489726622899374\n",
      "Validation accuracy:  0.8921832884097035\n",
      "--- EPOCH: 2 ---\n"
     ]
    },
    {
     "name": "stderr",
     "output_type": "stream",
     "text": [
      "100%|██████████████████████████████████████████████████████████████████████████████████| 47/47 [02:04<00:00,  2.66s/it]\n"
     ]
    },
    {
     "name": "stdout",
     "output_type": "stream",
     "text": [
      "Training loss:  0.2107811668451796\n",
      "Training accuracy:  0.9144781144781144\n"
     ]
    },
    {
     "name": "stderr",
     "output_type": "stream",
     "text": [
      "100%|██████████████████████████████████████████████████████████████████████████████████| 12/12 [00:32<00:00,  2.72s/it]\n"
     ]
    },
    {
     "name": "stdout",
     "output_type": "stream",
     "text": [
      "Validation loss:  0.26162708178162575\n",
      "Validation accuracy:  0.8840970350404312\n",
      "--- EPOCH: 3 ---\n"
     ]
    },
    {
     "name": "stderr",
     "output_type": "stream",
     "text": [
      "100%|██████████████████████████████████████████████████████████████████████████████████| 47/47 [02:03<00:00,  2.62s/it]\n"
     ]
    },
    {
     "name": "stdout",
     "output_type": "stream",
     "text": [
      "Training loss:  0.19367148156495803\n",
      "Training accuracy:  0.9225589225589226\n"
     ]
    },
    {
     "name": "stderr",
     "output_type": "stream",
     "text": [
      "100%|██████████████████████████████████████████████████████████████████████████████████| 12/12 [00:31<00:00,  2.64s/it]\n"
     ]
    },
    {
     "name": "stdout",
     "output_type": "stream",
     "text": [
      "Validation loss:  0.2035110785315434\n",
      "Validation accuracy:  0.9110512129380054\n",
      "--- EPOCH: 4 ---\n"
     ]
    },
    {
     "name": "stderr",
     "output_type": "stream",
     "text": [
      "100%|██████████████████████████████████████████████████████████████████████████████████| 47/47 [02:05<00:00,  2.66s/it]\n"
     ]
    },
    {
     "name": "stdout",
     "output_type": "stream",
     "text": [
      "Training loss:  0.15702663354100066\n",
      "Training accuracy:  0.934006734006734\n"
     ]
    },
    {
     "name": "stderr",
     "output_type": "stream",
     "text": [
      "100%|██████████████████████████████████████████████████████████████████████████████████| 12/12 [00:31<00:00,  2.64s/it]\n"
     ]
    },
    {
     "name": "stdout",
     "output_type": "stream",
     "text": [
      "Validation loss:  0.23202294949442148\n",
      "Validation accuracy:  0.9164420485175202\n",
      "--- EPOCH: 5 ---\n"
     ]
    },
    {
     "name": "stderr",
     "output_type": "stream",
     "text": [
      "100%|██████████████████████████████████████████████████████████████████████████████████| 47/47 [02:03<00:00,  2.63s/it]\n"
     ]
    },
    {
     "name": "stdout",
     "output_type": "stream",
     "text": [
      "Training loss:  0.15406728845010412\n",
      "Training accuracy:  0.9326599326599326\n"
     ]
    },
    {
     "name": "stderr",
     "output_type": "stream",
     "text": [
      "100%|██████████████████████████████████████████████████████████████████████████████████| 12/12 [00:32<00:00,  2.70s/it]\n"
     ]
    },
    {
     "name": "stdout",
     "output_type": "stream",
     "text": [
      "Validation loss:  0.14195101195946336\n",
      "Validation accuracy:  0.9407008086253369\n",
      "--- EPOCH: 6 ---\n"
     ]
    },
    {
     "name": "stderr",
     "output_type": "stream",
     "text": [
      "100%|██████████████████████████████████████████████████████████████████████████████████| 47/47 [02:05<00:00,  2.67s/it]\n"
     ]
    },
    {
     "name": "stdout",
     "output_type": "stream",
     "text": [
      "Training loss:  0.1409106674663564\n",
      "Training accuracy:  0.9427609427609428\n"
     ]
    },
    {
     "name": "stderr",
     "output_type": "stream",
     "text": [
      "100%|██████████████████████████████████████████████████████████████████████████████████| 12/12 [00:31<00:00,  2.59s/it]\n"
     ]
    },
    {
     "name": "stdout",
     "output_type": "stream",
     "text": [
      "Validation loss:  0.18800713556508222\n",
      "Validation accuracy:  0.921832884097035\n",
      "--- EPOCH: 7 ---\n"
     ]
    },
    {
     "name": "stderr",
     "output_type": "stream",
     "text": [
      "100%|██████████████████████████████████████████████████████████████████████████████████| 47/47 [02:05<00:00,  2.66s/it]\n"
     ]
    },
    {
     "name": "stdout",
     "output_type": "stream",
     "text": [
      "Training loss:  0.1413612593203149\n",
      "Training accuracy:  0.9461279461279462\n"
     ]
    },
    {
     "name": "stderr",
     "output_type": "stream",
     "text": [
      "100%|██████████████████████████████████████████████████████████████████████████████████| 12/12 [00:32<00:00,  2.68s/it]\n"
     ]
    },
    {
     "name": "stdout",
     "output_type": "stream",
     "text": [
      "Validation loss:  0.15613140972952047\n",
      "Validation accuracy:  0.9272237196765498\n",
      "--- EPOCH: 8 ---\n"
     ]
    },
    {
     "name": "stderr",
     "output_type": "stream",
     "text": [
      "100%|██████████████████████████████████████████████████████████████████████████████████| 47/47 [02:02<00:00,  2.61s/it]\n"
     ]
    },
    {
     "name": "stdout",
     "output_type": "stream",
     "text": [
      "Training loss:  0.13992134568856118\n",
      "Training accuracy:  0.9474747474747475\n"
     ]
    },
    {
     "name": "stderr",
     "output_type": "stream",
     "text": [
      "100%|██████████████████████████████████████████████████████████████████████████████████| 12/12 [00:33<00:00,  2.77s/it]\n"
     ]
    },
    {
     "name": "stdout",
     "output_type": "stream",
     "text": [
      "Validation loss:  0.15532356345405182\n",
      "Validation accuracy:  0.9272237196765498\n",
      "--- EPOCH: 9 ---\n"
     ]
    },
    {
     "name": "stderr",
     "output_type": "stream",
     "text": [
      "100%|██████████████████████████████████████████████████████████████████████████████████| 47/47 [02:06<00:00,  2.70s/it]\n"
     ]
    },
    {
     "name": "stdout",
     "output_type": "stream",
     "text": [
      "Training loss:  0.12090985940650423\n",
      "Training accuracy:  0.9542087542087542\n"
     ]
    },
    {
     "name": "stderr",
     "output_type": "stream",
     "text": [
      "100%|██████████████████████████████████████████████████████████████████████████████████| 12/12 [00:31<00:00,  2.62s/it]\n"
     ]
    },
    {
     "name": "stdout",
     "output_type": "stream",
     "text": [
      "Validation loss:  0.17062187132736048\n",
      "Validation accuracy:  0.9299191374663073\n",
      "--- EPOCH: 10 ---\n"
     ]
    },
    {
     "name": "stderr",
     "output_type": "stream",
     "text": [
      "100%|██████████████████████████████████████████████████████████████████████████████████| 47/47 [02:05<00:00,  2.67s/it]\n"
     ]
    },
    {
     "name": "stdout",
     "output_type": "stream",
     "text": [
      "Training loss:  0.11666833474598032\n",
      "Training accuracy:  0.9569023569023569\n"
     ]
    },
    {
     "name": "stderr",
     "output_type": "stream",
     "text": [
      "100%|██████████████████████████████████████████████████████████████████████████████████| 12/12 [00:31<00:00,  2.65s/it]\n"
     ]
    },
    {
     "name": "stdout",
     "output_type": "stream",
     "text": [
      "Validation loss:  0.15759600512683392\n",
      "Validation accuracy:  0.9460916442048517\n",
      "--- EPOCH: 11 ---\n"
     ]
    },
    {
     "name": "stderr",
     "output_type": "stream",
     "text": [
      "100%|██████████████████████████████████████████████████████████████████████████████████| 47/47 [02:03<00:00,  2.63s/it]\n"
     ]
    },
    {
     "name": "stdout",
     "output_type": "stream",
     "text": [
      "Training loss:  0.11995246289099784\n",
      "Training accuracy:  0.960942760942761\n"
     ]
    },
    {
     "name": "stderr",
     "output_type": "stream",
     "text": [
      "100%|██████████████████████████████████████████████████████████████████████████████████| 12/12 [00:31<00:00,  2.62s/it]\n"
     ]
    },
    {
     "name": "stdout",
     "output_type": "stream",
     "text": [
      "Validation loss:  0.1689252957391242\n",
      "Validation accuracy:  0.9326145552560647\n",
      "--- EPOCH: 12 ---\n"
     ]
    },
    {
     "name": "stderr",
     "output_type": "stream",
     "text": [
      "100%|██████████████████████████████████████████████████████████████████████████████████| 47/47 [02:00<00:00,  2.56s/it]\n"
     ]
    },
    {
     "name": "stdout",
     "output_type": "stream",
     "text": [
      "Training loss:  0.10830550846901346\n",
      "Training accuracy:  0.9582491582491582\n"
     ]
    },
    {
     "name": "stderr",
     "output_type": "stream",
     "text": [
      "100%|██████████████████████████████████████████████████████████████████████████████████| 12/12 [00:30<00:00,  2.56s/it]\n"
     ]
    },
    {
     "name": "stdout",
     "output_type": "stream",
     "text": [
      "Validation loss:  0.17369929421693087\n",
      "Validation accuracy:  0.9164420485175202\n",
      "--- EPOCH: 13 ---\n"
     ]
    },
    {
     "name": "stderr",
     "output_type": "stream",
     "text": [
      "100%|██████████████████████████████████████████████████████████████████████████████████| 47/47 [02:01<00:00,  2.58s/it]\n"
     ]
    },
    {
     "name": "stdout",
     "output_type": "stream",
     "text": [
      "Training loss:  0.10537206817497598\n",
      "Training accuracy:  0.9582491582491582\n"
     ]
    },
    {
     "name": "stderr",
     "output_type": "stream",
     "text": [
      "100%|██████████████████████████████████████████████████████████████████████████████████| 12/12 [00:31<00:00,  2.60s/it]\n"
     ]
    },
    {
     "name": "stdout",
     "output_type": "stream",
     "text": [
      "Validation loss:  0.18331425171345472\n",
      "Validation accuracy:  0.9110512129380054\n",
      "--- EPOCH: 14 ---\n"
     ]
    },
    {
     "name": "stderr",
     "output_type": "stream",
     "text": [
      "100%|██████████████████████████████████████████████████████████████████████████████████| 47/47 [02:00<00:00,  2.57s/it]\n"
     ]
    },
    {
     "name": "stdout",
     "output_type": "stream",
     "text": [
      "Training loss:  0.12293699316363385\n",
      "Training accuracy:  0.9535353535353536\n"
     ]
    },
    {
     "name": "stderr",
     "output_type": "stream",
     "text": [
      "100%|██████████████████████████████████████████████████████████████████████████████████| 12/12 [00:30<00:00,  2.56s/it]"
     ]
    },
    {
     "name": "stdout",
     "output_type": "stream",
     "text": [
      "Validation loss:  0.18072351720184088\n",
      "Validation accuracy:  0.9272237196765498\n"
     ]
    },
    {
     "name": "stderr",
     "output_type": "stream",
     "text": [
      "\n"
     ]
    }
   ],
   "source": [
    "\"\"\"\n",
    "Now add the training data.\n",
    "\"\"\"\n",
    "\n",
    "import sys\n",
    "import torch\n",
    "import torch.nn as nn\n",
    "import torchvision\n",
    "from torchvision import transforms\n",
    "from tqdm import tqdm\n",
    "from torch.utils.data import random_split, DataLoader\n",
    "\n",
    "if torch.cuda.is_available():\n",
    "  device=\"cuda\"\n",
    "elif torch.xpu.is_available():\n",
    "  device=\"xpu\"\n",
    "elif torch.mps.is_available():\n",
    "  device=\"mps\"    \n",
    "else:\n",
    "  device=\"cpu\"\n",
    "\n",
    "print(\"Using device:\", device)\n",
    "\n",
    "preprocess = transforms.Compose([\n",
    "    transforms.Resize(512),\n",
    "    transforms.RandomRotation(10),\n",
    "    transforms.RandomVerticalFlip(),\n",
    "    transforms.RandomHorizontalFlip(),\n",
    "    transforms.ColorJitter(brightness=0.2, contrast=0.2, saturation=0.2, hue=0.2),\n",
    "\n",
    "    transforms.Resize(256),\n",
    "    transforms.CenterCrop(224),\n",
    "    transforms.ToTensor(),\n",
    "    transforms.Normalize(mean=[0.485, 0.456, 0.406], std=[0.229, 0.224, 0.225]),\n",
    "])\n",
    "\n",
    "dataset = torchvision.datasets.ImageFolder(\n",
    "    root='./data/09_Images',\n",
    "    transform=preprocess\n",
    ")\n",
    "\n",
    "train_dataset, val_dataset = random_split(dataset, [0.8, 0.2])\n",
    "\n",
    "train_dataloader = DataLoader(train_dataset, batch_size=32, shuffle=True)\n",
    "val_dataloader = DataLoader(val_dataset, batch_size=32, shuffle=True)\n",
    "\n",
    "resnet50_model = torchvision.models.resnet50(\n",
    "    weights=torchvision.models.ResNet50_Weights.IMAGENET1K_V1\n",
    ")\n",
    "resnet50_model.fc = nn.Identity()\n",
    "for param in resnet50_model.parameters():\n",
    "    param.requires_grad = False\n",
    "resnet50_model.eval()\n",
    "resnet50_model = resnet50_model.to(device)\n",
    "\n",
    "fc_model = nn.Sequential(\n",
    "    nn.Linear(2048, 1024),\n",
    "    nn.ReLU(),\n",
    "    nn.Linear(1024, 1)\n",
    ")\n",
    "fc_model = fc_model.to(device)\n",
    "\n",
    "model = nn.Sequential(\n",
    "    resnet50_model,\n",
    "    fc_model\n",
    ")\n",
    "model = model.to(device)\n",
    "\n",
    "optimizer = torch.optim.Adam(fc_model.parameters(), lr=0.00025)\n",
    "loss_fn = nn.BCEWithLogitsLoss()\n",
    "\n",
    "for epoch in range(15):\n",
    "    print(f\"--- EPOCH: {epoch} ---\")\n",
    "    model.train()\n",
    "    resnet50_model.eval()\n",
    "    \n",
    "    loss_sum = 0\n",
    "    train_accurate = 0\n",
    "    train_sum = 0\n",
    "    for X, y in tqdm(train_dataloader):\n",
    "        X = X.to(device)\n",
    "        y = y.to(device).type(torch.float).reshape(-1, 1)\n",
    "\n",
    "        outputs = model(X)\n",
    "        optimizer.zero_grad()\n",
    "        loss = loss_fn(outputs, y)\n",
    "        loss_sum+=loss.item()\n",
    "        loss.backward()\n",
    "        optimizer.step()\n",
    "\n",
    "        predictions = torch.sigmoid(outputs) > 0.5\n",
    "        accurate = (predictions == y).sum().item()\n",
    "        train_accurate+=accurate\n",
    "        train_sum+=y.size(0)\n",
    "    print(\"Training loss: \", loss_sum / len(train_dataloader))\n",
    "    print(\"Training accuracy: \", train_accurate / train_sum)\n",
    "\n",
    "\n",
    "    torch.save(fc_model.state_dict(), f\"fc_model_{epoch}.pth\")\n",
    "\n",
    "    model.eval()\n",
    "    val_loss_sum = 0\n",
    "    val_accurate = 0\n",
    "    val_sum = 0\n",
    "    with torch.no_grad():\n",
    "        for X, y in tqdm(val_dataloader):\n",
    "            X = X.to(device)\n",
    "            y = y.to(device).type(torch.float).reshape(-1, 1)\n",
    "\n",
    "            outputs = model(X)\n",
    "            loss = loss_fn(outputs, y)\n",
    "            val_loss_sum+=loss.item()\n",
    "\n",
    "            predictions = torch.sigmoid(outputs) > 0.5\n",
    "            accurate = (predictions == y).sum().item()\n",
    "            val_accurate+=accurate\n",
    "            val_sum+=y.size(0)\n",
    "    print(\"Validation loss: \", val_loss_sum / len(val_dataloader))\n",
    "    print(\"Validation accuracy: \", val_accurate / val_sum)"
   ]
  },
  {
   "cell_type": "code",
   "execution_count": 14,
   "id": "ad127476-1d05-4c1f-86dc-2e7b6568ae9d",
   "metadata": {},
   "outputs": [
    {
     "name": "stdout",
     "output_type": "stream",
     "text": [
      "OrderedDict({'0.weight': tensor([[ 0.0050,  0.0138,  0.0057,  ..., -0.0037, -0.0151,  0.0166],\n",
      "        [-0.0009,  0.0169, -0.0065,  ...,  0.0111,  0.0083, -0.0181],\n",
      "        [ 0.0077, -0.0076, -0.0025,  ..., -0.0133,  0.0173,  0.0163],\n",
      "        ...,\n",
      "        [ 0.0166, -0.0009, -0.0075,  ...,  0.0039,  0.0019, -0.0056],\n",
      "        [ 0.0031,  0.0141, -0.0005,  ...,  0.0050,  0.0197, -0.0171],\n",
      "        [-0.0172, -0.0189, -0.0035,  ..., -0.0157,  0.0108,  0.0006]]), '0.bias': tensor([-0.0061,  0.0015,  0.0086,  ..., -0.0143,  0.0148, -0.0024]), '2.weight': tensor([[-0.0187, -0.0193,  0.0122,  ...,  0.0282, -0.0251,  0.0048]]), '2.bias': tensor([0.0205])})\n"
     ]
    }
   ],
   "source": [
    "\"\"\"\n",
    "Adapting model weights for Universal compatibility\n",
    "\"\"\"\n",
    "\n",
    "import torch\n",
    "\n",
    "weights = torch.load(\"fc_model_3.pth\", weights_only=True, map_location=\"cpu\")\n",
    "torch.save(weights, \"./data/09_Images/fc_model_3.pth\")\n",
    "print(weights)"
   ]
  },
  {
   "cell_type": "code",
   "execution_count": 17,
   "id": "11429709-2f95-447a-9d12-1ef0df732ba0",
   "metadata": {},
   "outputs": [
    {
     "name": "stdout",
     "output_type": "stream",
     "text": [
      "Using device: xpu\n",
      "tensor([[0.0012]], device='xpu:0')\n"
     ]
    }
   ],
   "source": [
    "\"\"\"\n",
    "Now do the prediction\n",
    "\"\"\"\n",
    "\n",
    "import sys\n",
    "import torch\n",
    "import torch.nn as nn\n",
    "import torchvision\n",
    "from torchvision import transforms\n",
    "from tqdm import tqdm\n",
    "from torch.utils.data import random_split, DataLoader\n",
    "from PIL import Image\n",
    "\n",
    "if torch.cuda.is_available():\n",
    "  device=\"cuda\"\n",
    "elif torch.xpu.is_available():\n",
    "  device=\"xpu\"\n",
    "elif torch.mps.is_available():\n",
    "  device=\"mps\"    \n",
    "else:\n",
    "  device=\"cpu\"\n",
    "\n",
    "print(\"Using device:\", device)\n",
    "\n",
    "preprocess = transforms.Compose([\n",
    "    transforms.Resize((224, 224)),\n",
    "    transforms.ToTensor(),\n",
    "    transforms.Normalize(mean=[0.485, 0.456, 0.406], std=[0.229, 0.224, 0.225]),\n",
    "])\n",
    "\n",
    "\n",
    "resnet50_model = torchvision.models.resnet50(\n",
    "    weights=torchvision.models.ResNet50_Weights.IMAGENET1K_V1\n",
    ")\n",
    "resnet50_model.fc = nn.Identity()\n",
    "resnet50_model = resnet50_model.to(device)\n",
    "\n",
    "fc_model = nn.Sequential(\n",
    "    nn.Linear(2048, 1024),\n",
    "    nn.ReLU(),\n",
    "    nn.Linear(1024, 1)\n",
    ")\n",
    "fc_state_dict = torch.load(\"./data/09_Images/fc_model_3.pth\", weights_only=True)\n",
    "fc_model.load_state_dict(fc_state_dict)\n",
    "fc_model = fc_model.to(device)\n",
    "\n",
    "model = nn.Sequential(\n",
    "    resnet50_model,\n",
    "    fc_model\n",
    ")\n",
    "model = model.to(device)\n",
    "model.eval()\n",
    "\n",
    "tire = Image.open(\"./data/09_Images/prediction/tire3.jpg\")\n",
    "tire_tensor = preprocess(tire)\n",
    "# print(tire1_tensor)\n",
    "# print(tire1_tensor.shape)\n",
    "tire_tensor = tire_tensor.unsqueeze(dim=0)\n",
    "# print(tire1_tensor)\n",
    "# print(tire1_tensor.shape)\n",
    "tire_tensor = tire_tensor.to(device)\n",
    "\n",
    "with torch.no_grad():\n",
    "    y_pred = torch.sigmoid(model(tire_tensor))\n",
    "    print(y_pred)\n",
    "    pass"
   ]
  },
  {
   "cell_type": "code",
   "execution_count": null,
   "id": "39c47286-419e-4d04-87a2-1418e7865a25",
   "metadata": {},
   "outputs": [],
   "source": []
  }
 ],
 "metadata": {
  "kernelspec": {
   "display_name": "env",
   "language": "python",
   "name": "env"
  },
  "language_info": {
   "codemirror_mode": {
    "name": "ipython",
    "version": 3
   },
   "file_extension": ".py",
   "mimetype": "text/x-python",
   "name": "python",
   "nbconvert_exporter": "python",
   "pygments_lexer": "ipython3",
   "version": "3.12.11"
  }
 },
 "nbformat": 4,
 "nbformat_minor": 5
}
