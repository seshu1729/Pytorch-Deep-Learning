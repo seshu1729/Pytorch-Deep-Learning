{
 "cells": [
  {
   "cell_type": "markdown",
   "id": "be57a0e9",
   "metadata": {},
   "source": [
    "[Main code](#main-code)"
   ]
  },
  {
   "cell_type": "markdown",
   "id": "c7957c24",
   "metadata": {},
   "source": [
    "First lets explore what is the dataset"
   ]
  },
  {
   "cell_type": "code",
   "execution_count": 2,
   "id": "f2b93cee",
   "metadata": {},
   "outputs": [
    {
     "ename": "ParserError",
     "evalue": "Error tokenizing data. C error: Expected 2 fields in line 12, saw 4\n",
     "output_type": "error",
     "traceback": [
      "\u001b[31m---------------------------------------------------------------------------\u001b[39m",
      "\u001b[31mParserError\u001b[39m                               Traceback (most recent call last)",
      "\u001b[36mCell\u001b[39m\u001b[36m \u001b[39m\u001b[32mIn[2]\u001b[39m\u001b[32m, line 3\u001b[39m\n\u001b[32m      1\u001b[39m \u001b[38;5;28;01mimport\u001b[39;00m\u001b[38;5;250m \u001b[39m\u001b[34;01mpandas\u001b[39;00m\u001b[38;5;250m \u001b[39m\u001b[38;5;28;01mas\u001b[39;00m\u001b[38;5;250m \u001b[39m\u001b[34;01mpd\u001b[39;00m\n\u001b[32m----> \u001b[39m\u001b[32m3\u001b[39m df = \u001b[43mpd\u001b[49m\u001b[43m.\u001b[49m\u001b[43mread_csv\u001b[49m\u001b[43m(\u001b[49m\u001b[33;43m\"\u001b[39;49m\u001b[33;43m./data/SMSSpamCollection\u001b[39;49m\u001b[33;43m\"\u001b[39;49m\u001b[43m)\u001b[49m\n\u001b[32m      4\u001b[39m df.head()\n",
      "\u001b[36mFile \u001b[39m\u001b[32m~\\AppData\\Roaming\\Python\\Python313\\site-packages\\pandas\\io\\parsers\\readers.py:1026\u001b[39m, in \u001b[36mread_csv\u001b[39m\u001b[34m(filepath_or_buffer, sep, delimiter, header, names, index_col, usecols, dtype, engine, converters, true_values, false_values, skipinitialspace, skiprows, skipfooter, nrows, na_values, keep_default_na, na_filter, verbose, skip_blank_lines, parse_dates, infer_datetime_format, keep_date_col, date_parser, date_format, dayfirst, cache_dates, iterator, chunksize, compression, thousands, decimal, lineterminator, quotechar, quoting, doublequote, escapechar, comment, encoding, encoding_errors, dialect, on_bad_lines, delim_whitespace, low_memory, memory_map, float_precision, storage_options, dtype_backend)\u001b[39m\n\u001b[32m   1013\u001b[39m kwds_defaults = _refine_defaults_read(\n\u001b[32m   1014\u001b[39m     dialect,\n\u001b[32m   1015\u001b[39m     delimiter,\n\u001b[32m   (...)\u001b[39m\u001b[32m   1022\u001b[39m     dtype_backend=dtype_backend,\n\u001b[32m   1023\u001b[39m )\n\u001b[32m   1024\u001b[39m kwds.update(kwds_defaults)\n\u001b[32m-> \u001b[39m\u001b[32m1026\u001b[39m \u001b[38;5;28;01mreturn\u001b[39;00m \u001b[43m_read\u001b[49m\u001b[43m(\u001b[49m\u001b[43mfilepath_or_buffer\u001b[49m\u001b[43m,\u001b[49m\u001b[43m \u001b[49m\u001b[43mkwds\u001b[49m\u001b[43m)\u001b[49m\n",
      "\u001b[36mFile \u001b[39m\u001b[32m~\\AppData\\Roaming\\Python\\Python313\\site-packages\\pandas\\io\\parsers\\readers.py:626\u001b[39m, in \u001b[36m_read\u001b[39m\u001b[34m(filepath_or_buffer, kwds)\u001b[39m\n\u001b[32m    623\u001b[39m     \u001b[38;5;28;01mreturn\u001b[39;00m parser\n\u001b[32m    625\u001b[39m \u001b[38;5;28;01mwith\u001b[39;00m parser:\n\u001b[32m--> \u001b[39m\u001b[32m626\u001b[39m     \u001b[38;5;28;01mreturn\u001b[39;00m \u001b[43mparser\u001b[49m\u001b[43m.\u001b[49m\u001b[43mread\u001b[49m\u001b[43m(\u001b[49m\u001b[43mnrows\u001b[49m\u001b[43m)\u001b[49m\n",
      "\u001b[36mFile \u001b[39m\u001b[32m~\\AppData\\Roaming\\Python\\Python313\\site-packages\\pandas\\io\\parsers\\readers.py:1923\u001b[39m, in \u001b[36mTextFileReader.read\u001b[39m\u001b[34m(self, nrows)\u001b[39m\n\u001b[32m   1916\u001b[39m nrows = validate_integer(\u001b[33m\"\u001b[39m\u001b[33mnrows\u001b[39m\u001b[33m\"\u001b[39m, nrows)\n\u001b[32m   1917\u001b[39m \u001b[38;5;28;01mtry\u001b[39;00m:\n\u001b[32m   1918\u001b[39m     \u001b[38;5;66;03m# error: \"ParserBase\" has no attribute \"read\"\u001b[39;00m\n\u001b[32m   1919\u001b[39m     (\n\u001b[32m   1920\u001b[39m         index,\n\u001b[32m   1921\u001b[39m         columns,\n\u001b[32m   1922\u001b[39m         col_dict,\n\u001b[32m-> \u001b[39m\u001b[32m1923\u001b[39m     ) = \u001b[38;5;28;43mself\u001b[39;49m\u001b[43m.\u001b[49m\u001b[43m_engine\u001b[49m\u001b[43m.\u001b[49m\u001b[43mread\u001b[49m\u001b[43m(\u001b[49m\u001b[43m  \u001b[49m\u001b[38;5;66;43;03m# type: ignore[attr-defined]\u001b[39;49;00m\n\u001b[32m   1924\u001b[39m \u001b[43m        \u001b[49m\u001b[43mnrows\u001b[49m\n\u001b[32m   1925\u001b[39m \u001b[43m    \u001b[49m\u001b[43m)\u001b[49m\n\u001b[32m   1926\u001b[39m \u001b[38;5;28;01mexcept\u001b[39;00m \u001b[38;5;167;01mException\u001b[39;00m:\n\u001b[32m   1927\u001b[39m     \u001b[38;5;28mself\u001b[39m.close()\n",
      "\u001b[36mFile \u001b[39m\u001b[32m~\\AppData\\Roaming\\Python\\Python313\\site-packages\\pandas\\io\\parsers\\c_parser_wrapper.py:234\u001b[39m, in \u001b[36mCParserWrapper.read\u001b[39m\u001b[34m(self, nrows)\u001b[39m\n\u001b[32m    232\u001b[39m \u001b[38;5;28;01mtry\u001b[39;00m:\n\u001b[32m    233\u001b[39m     \u001b[38;5;28;01mif\u001b[39;00m \u001b[38;5;28mself\u001b[39m.low_memory:\n\u001b[32m--> \u001b[39m\u001b[32m234\u001b[39m         chunks = \u001b[38;5;28;43mself\u001b[39;49m\u001b[43m.\u001b[49m\u001b[43m_reader\u001b[49m\u001b[43m.\u001b[49m\u001b[43mread_low_memory\u001b[49m\u001b[43m(\u001b[49m\u001b[43mnrows\u001b[49m\u001b[43m)\u001b[49m\n\u001b[32m    235\u001b[39m         \u001b[38;5;66;03m# destructive to chunks\u001b[39;00m\n\u001b[32m    236\u001b[39m         data = _concatenate_chunks(chunks)\n",
      "\u001b[36mFile \u001b[39m\u001b[32mpandas/_libs/parsers.pyx:838\u001b[39m, in \u001b[36mpandas._libs.parsers.TextReader.read_low_memory\u001b[39m\u001b[34m()\u001b[39m\n",
      "\u001b[36mFile \u001b[39m\u001b[32mpandas/_libs/parsers.pyx:905\u001b[39m, in \u001b[36mpandas._libs.parsers.TextReader._read_rows\u001b[39m\u001b[34m()\u001b[39m\n",
      "\u001b[36mFile \u001b[39m\u001b[32mpandas/_libs/parsers.pyx:874\u001b[39m, in \u001b[36mpandas._libs.parsers.TextReader._tokenize_rows\u001b[39m\u001b[34m()\u001b[39m\n",
      "\u001b[36mFile \u001b[39m\u001b[32mpandas/_libs/parsers.pyx:891\u001b[39m, in \u001b[36mpandas._libs.parsers.TextReader._check_tokenize_status\u001b[39m\u001b[34m()\u001b[39m\n",
      "\u001b[36mFile \u001b[39m\u001b[32mpandas/_libs/parsers.pyx:2061\u001b[39m, in \u001b[36mpandas._libs.parsers.raise_parser_error\u001b[39m\u001b[34m()\u001b[39m\n",
      "\u001b[31mParserError\u001b[39m: Error tokenizing data. C error: Expected 2 fields in line 12, saw 4\n"
     ]
    }
   ],
   "source": [
    "import pandas as pd\n",
    "\n",
    "df = pd.read_csv(\"./data/SMSSpamCollection\")\n",
    "df.head()"
   ]
  },
  {
   "cell_type": "markdown",
   "id": "8194dd3e",
   "metadata": {},
   "source": [
    "As it was not csv by default, we need to handle the data correctly.."
   ]
  },
  {
   "cell_type": "code",
   "execution_count": 3,
   "id": "951aea72",
   "metadata": {},
   "outputs": [
    {
     "data": {
      "text/html": [
       "<div>\n",
       "<style scoped>\n",
       "    .dataframe tbody tr th:only-of-type {\n",
       "        vertical-align: middle;\n",
       "    }\n",
       "\n",
       "    .dataframe tbody tr th {\n",
       "        vertical-align: top;\n",
       "    }\n",
       "\n",
       "    .dataframe thead th {\n",
       "        text-align: right;\n",
       "    }\n",
       "</style>\n",
       "<table border=\"1\" class=\"dataframe\">\n",
       "  <thead>\n",
       "    <tr style=\"text-align: right;\">\n",
       "      <th></th>\n",
       "      <th>ham</th>\n",
       "      <th>Go until jurong point, crazy.. Available only in bugis n great world la e buffet... Cine there got amore wat...</th>\n",
       "    </tr>\n",
       "  </thead>\n",
       "  <tbody>\n",
       "    <tr>\n",
       "      <th>0</th>\n",
       "      <td>ham</td>\n",
       "      <td>Ok lar... Joking wif u oni...</td>\n",
       "    </tr>\n",
       "    <tr>\n",
       "      <th>1</th>\n",
       "      <td>spam</td>\n",
       "      <td>Free entry in 2 a wkly comp to win FA Cup fina...</td>\n",
       "    </tr>\n",
       "    <tr>\n",
       "      <th>2</th>\n",
       "      <td>ham</td>\n",
       "      <td>U dun say so early hor... U c already then say...</td>\n",
       "    </tr>\n",
       "    <tr>\n",
       "      <th>3</th>\n",
       "      <td>ham</td>\n",
       "      <td>Nah I don't think he goes to usf, he lives aro...</td>\n",
       "    </tr>\n",
       "    <tr>\n",
       "      <th>4</th>\n",
       "      <td>spam</td>\n",
       "      <td>FreeMsg Hey there darling it's been 3 week's n...</td>\n",
       "    </tr>\n",
       "  </tbody>\n",
       "</table>\n",
       "</div>"
      ],
      "text/plain": [
       "    ham  \\\n",
       "0   ham   \n",
       "1  spam   \n",
       "2   ham   \n",
       "3   ham   \n",
       "4  spam   \n",
       "\n",
       "  Go until jurong point, crazy.. Available only in bugis n great world la e buffet... Cine there got amore wat...  \n",
       "0                      Ok lar... Joking wif u oni...                                                               \n",
       "1  Free entry in 2 a wkly comp to win FA Cup fina...                                                               \n",
       "2  U dun say so early hor... U c already then say...                                                               \n",
       "3  Nah I don't think he goes to usf, he lives aro...                                                               \n",
       "4  FreeMsg Hey there darling it's been 3 week's n...                                                               "
      ]
     },
     "execution_count": 3,
     "metadata": {},
     "output_type": "execute_result"
    }
   ],
   "source": [
    "df = pd.read_csv(\"./data/SMSSpamCollection\", sep=\"\\t\")\n",
    "df.head()"
   ]
  },
  {
   "cell_type": "markdown",
   "id": "dbd84106",
   "metadata": {},
   "source": [
    "It was taking the 1st entry into the label"
   ]
  },
  {
   "cell_type": "code",
   "execution_count": 5,
   "id": "1c36ed6a",
   "metadata": {},
   "outputs": [
    {
     "data": {
      "text/html": [
       "<div>\n",
       "<style scoped>\n",
       "    .dataframe tbody tr th:only-of-type {\n",
       "        vertical-align: middle;\n",
       "    }\n",
       "\n",
       "    .dataframe tbody tr th {\n",
       "        vertical-align: top;\n",
       "    }\n",
       "\n",
       "    .dataframe thead th {\n",
       "        text-align: right;\n",
       "    }\n",
       "</style>\n",
       "<table border=\"1\" class=\"dataframe\">\n",
       "  <thead>\n",
       "    <tr style=\"text-align: right;\">\n",
       "      <th></th>\n",
       "      <th>type</th>\n",
       "      <th>message</th>\n",
       "    </tr>\n",
       "  </thead>\n",
       "  <tbody>\n",
       "    <tr>\n",
       "      <th>0</th>\n",
       "      <td>ham</td>\n",
       "      <td>Go until jurong point, crazy.. Available only ...</td>\n",
       "    </tr>\n",
       "    <tr>\n",
       "      <th>1</th>\n",
       "      <td>ham</td>\n",
       "      <td>Ok lar... Joking wif u oni...</td>\n",
       "    </tr>\n",
       "    <tr>\n",
       "      <th>2</th>\n",
       "      <td>spam</td>\n",
       "      <td>Free entry in 2 a wkly comp to win FA Cup fina...</td>\n",
       "    </tr>\n",
       "    <tr>\n",
       "      <th>3</th>\n",
       "      <td>ham</td>\n",
       "      <td>U dun say so early hor... U c already then say...</td>\n",
       "    </tr>\n",
       "    <tr>\n",
       "      <th>4</th>\n",
       "      <td>ham</td>\n",
       "      <td>Nah I don't think he goes to usf, he lives aro...</td>\n",
       "    </tr>\n",
       "  </tbody>\n",
       "</table>\n",
       "</div>"
      ],
      "text/plain": [
       "   type                                            message\n",
       "0   ham  Go until jurong point, crazy.. Available only ...\n",
       "1   ham                      Ok lar... Joking wif u oni...\n",
       "2  spam  Free entry in 2 a wkly comp to win FA Cup fina...\n",
       "3   ham  U dun say so early hor... U c already then say...\n",
       "4   ham  Nah I don't think he goes to usf, he lives aro..."
      ]
     },
     "execution_count": 5,
     "metadata": {},
     "output_type": "execute_result"
    }
   ],
   "source": [
    "df = pd.read_csv(\"./data/SMSSpamCollection\", sep=\"\\t\", names=[\"type\", \"message\"])\n",
    "df.head()"
   ]
  },
  {
   "cell_type": "code",
   "execution_count": 6,
   "id": "52a483d3",
   "metadata": {},
   "outputs": [
    {
     "data": {
      "text/plain": [
       "type                                                     ham\n",
       "message    Go until jurong point, crazy.. Available only ...\n",
       "Name: 0, dtype: object"
      ]
     },
     "execution_count": 6,
     "metadata": {},
     "output_type": "execute_result"
    }
   ],
   "source": [
    "df.iloc[0]"
   ]
  },
  {
   "cell_type": "code",
   "execution_count": 7,
   "id": "87bd766b",
   "metadata": {},
   "outputs": [
    {
     "data": {
      "text/plain": [
       "'Go until jurong point, crazy.. Available only in bugis n great world la e buffet... Cine there got amore wat...'"
      ]
     },
     "execution_count": 7,
     "metadata": {},
     "output_type": "execute_result"
    }
   ],
   "source": [
    "df.iloc[0][\"message\"]"
   ]
  },
  {
   "cell_type": "code",
   "execution_count": 8,
   "id": "3d3072b1",
   "metadata": {},
   "outputs": [
    {
     "data": {
      "text/plain": [
       "\"Free entry in 2 a wkly comp to win FA Cup final tkts 21st May 2005. Text FA to 87121 to receive entry question(std txt rate)T&C's apply 08452810075over18's\""
      ]
     },
     "execution_count": 8,
     "metadata": {},
     "output_type": "execute_result"
    }
   ],
   "source": [
    "df.iloc[2][\"message\"]"
   ]
  },
  {
   "cell_type": "markdown",
   "id": "282c4a14",
   "metadata": {},
   "source": [
    "How to know which message is spam. We can know it by checking type.."
   ]
  },
  {
   "cell_type": "code",
   "execution_count": 9,
   "id": "cfbe3bc5",
   "metadata": {},
   "outputs": [
    {
     "data": {
      "text/plain": [
       "0       False\n",
       "1       False\n",
       "2        True\n",
       "3       False\n",
       "4       False\n",
       "        ...  \n",
       "5567     True\n",
       "5568    False\n",
       "5569    False\n",
       "5570    False\n",
       "5571    False\n",
       "Name: type, Length: 5572, dtype: bool"
      ]
     },
     "execution_count": 9,
     "metadata": {},
     "output_type": "execute_result"
    }
   ],
   "source": [
    "df[\"type\"] == \"spam\""
   ]
  },
  {
   "cell_type": "markdown",
   "id": "845d4157",
   "metadata": {},
   "source": [
    "To make the neuron learn easily, we can keep 0,1 in the column instead of ham and spam"
   ]
  },
  {
   "cell_type": "code",
   "execution_count": 12,
   "id": "25852505",
   "metadata": {},
   "outputs": [
    {
     "data": {
      "text/html": [
       "<div>\n",
       "<style scoped>\n",
       "    .dataframe tbody tr th:only-of-type {\n",
       "        vertical-align: middle;\n",
       "    }\n",
       "\n",
       "    .dataframe tbody tr th {\n",
       "        vertical-align: top;\n",
       "    }\n",
       "\n",
       "    .dataframe thead th {\n",
       "        text-align: right;\n",
       "    }\n",
       "</style>\n",
       "<table border=\"1\" class=\"dataframe\">\n",
       "  <thead>\n",
       "    <tr style=\"text-align: right;\">\n",
       "      <th></th>\n",
       "      <th>type</th>\n",
       "      <th>message</th>\n",
       "      <th>spam</th>\n",
       "    </tr>\n",
       "  </thead>\n",
       "  <tbody>\n",
       "    <tr>\n",
       "      <th>0</th>\n",
       "      <td>ham</td>\n",
       "      <td>Go until jurong point, crazy.. Available only ...</td>\n",
       "      <td>False</td>\n",
       "    </tr>\n",
       "    <tr>\n",
       "      <th>1</th>\n",
       "      <td>ham</td>\n",
       "      <td>Ok lar... Joking wif u oni...</td>\n",
       "      <td>False</td>\n",
       "    </tr>\n",
       "    <tr>\n",
       "      <th>2</th>\n",
       "      <td>spam</td>\n",
       "      <td>Free entry in 2 a wkly comp to win FA Cup fina...</td>\n",
       "      <td>True</td>\n",
       "    </tr>\n",
       "    <tr>\n",
       "      <th>3</th>\n",
       "      <td>ham</td>\n",
       "      <td>U dun say so early hor... U c already then say...</td>\n",
       "      <td>False</td>\n",
       "    </tr>\n",
       "    <tr>\n",
       "      <th>4</th>\n",
       "      <td>ham</td>\n",
       "      <td>Nah I don't think he goes to usf, he lives aro...</td>\n",
       "      <td>False</td>\n",
       "    </tr>\n",
       "    <tr>\n",
       "      <th>...</th>\n",
       "      <td>...</td>\n",
       "      <td>...</td>\n",
       "      <td>...</td>\n",
       "    </tr>\n",
       "    <tr>\n",
       "      <th>5567</th>\n",
       "      <td>spam</td>\n",
       "      <td>This is the 2nd time we have tried 2 contact u...</td>\n",
       "      <td>True</td>\n",
       "    </tr>\n",
       "    <tr>\n",
       "      <th>5568</th>\n",
       "      <td>ham</td>\n",
       "      <td>Will ü b going to esplanade fr home?</td>\n",
       "      <td>False</td>\n",
       "    </tr>\n",
       "    <tr>\n",
       "      <th>5569</th>\n",
       "      <td>ham</td>\n",
       "      <td>Pity, * was in mood for that. So...any other s...</td>\n",
       "      <td>False</td>\n",
       "    </tr>\n",
       "    <tr>\n",
       "      <th>5570</th>\n",
       "      <td>ham</td>\n",
       "      <td>The guy did some bitching but I acted like i'd...</td>\n",
       "      <td>False</td>\n",
       "    </tr>\n",
       "    <tr>\n",
       "      <th>5571</th>\n",
       "      <td>ham</td>\n",
       "      <td>Rofl. Its true to its name</td>\n",
       "      <td>False</td>\n",
       "    </tr>\n",
       "  </tbody>\n",
       "</table>\n",
       "<p>5572 rows × 3 columns</p>\n",
       "</div>"
      ],
      "text/plain": [
       "      type                                            message   spam\n",
       "0      ham  Go until jurong point, crazy.. Available only ...  False\n",
       "1      ham                      Ok lar... Joking wif u oni...  False\n",
       "2     spam  Free entry in 2 a wkly comp to win FA Cup fina...   True\n",
       "3      ham  U dun say so early hor... U c already then say...  False\n",
       "4      ham  Nah I don't think he goes to usf, he lives aro...  False\n",
       "...    ...                                                ...    ...\n",
       "5567  spam  This is the 2nd time we have tried 2 contact u...   True\n",
       "5568   ham               Will ü b going to esplanade fr home?  False\n",
       "5569   ham  Pity, * was in mood for that. So...any other s...  False\n",
       "5570   ham  The guy did some bitching but I acted like i'd...  False\n",
       "5571   ham                         Rofl. Its true to its name  False\n",
       "\n",
       "[5572 rows x 3 columns]"
      ]
     },
     "execution_count": 12,
     "metadata": {},
     "output_type": "execute_result"
    }
   ],
   "source": [
    "df[\"spam\"] = df[\"type\"] == \"spam\"\n",
    "df"
   ]
  },
  {
   "cell_type": "markdown",
   "id": "b178b608",
   "metadata": {},
   "source": [
    "So now we dont need type column"
   ]
  },
  {
   "cell_type": "code",
   "execution_count": 13,
   "id": "03f7cecc",
   "metadata": {},
   "outputs": [
    {
     "data": {
      "text/html": [
       "<div>\n",
       "<style scoped>\n",
       "    .dataframe tbody tr th:only-of-type {\n",
       "        vertical-align: middle;\n",
       "    }\n",
       "\n",
       "    .dataframe tbody tr th {\n",
       "        vertical-align: top;\n",
       "    }\n",
       "\n",
       "    .dataframe thead th {\n",
       "        text-align: right;\n",
       "    }\n",
       "</style>\n",
       "<table border=\"1\" class=\"dataframe\">\n",
       "  <thead>\n",
       "    <tr style=\"text-align: right;\">\n",
       "      <th></th>\n",
       "      <th>type</th>\n",
       "      <th>message</th>\n",
       "      <th>spam</th>\n",
       "    </tr>\n",
       "  </thead>\n",
       "  <tbody>\n",
       "    <tr>\n",
       "      <th>0</th>\n",
       "      <td>ham</td>\n",
       "      <td>Go until jurong point, crazy.. Available only ...</td>\n",
       "      <td>False</td>\n",
       "    </tr>\n",
       "    <tr>\n",
       "      <th>1</th>\n",
       "      <td>ham</td>\n",
       "      <td>Ok lar... Joking wif u oni...</td>\n",
       "      <td>False</td>\n",
       "    </tr>\n",
       "    <tr>\n",
       "      <th>2</th>\n",
       "      <td>spam</td>\n",
       "      <td>Free entry in 2 a wkly comp to win FA Cup fina...</td>\n",
       "      <td>True</td>\n",
       "    </tr>\n",
       "    <tr>\n",
       "      <th>3</th>\n",
       "      <td>ham</td>\n",
       "      <td>U dun say so early hor... U c already then say...</td>\n",
       "      <td>False</td>\n",
       "    </tr>\n",
       "    <tr>\n",
       "      <th>4</th>\n",
       "      <td>ham</td>\n",
       "      <td>Nah I don't think he goes to usf, he lives aro...</td>\n",
       "      <td>False</td>\n",
       "    </tr>\n",
       "  </tbody>\n",
       "</table>\n",
       "</div>"
      ],
      "text/plain": [
       "   type                                            message   spam\n",
       "0   ham  Go until jurong point, crazy.. Available only ...  False\n",
       "1   ham                      Ok lar... Joking wif u oni...  False\n",
       "2  spam  Free entry in 2 a wkly comp to win FA Cup fina...   True\n",
       "3   ham  U dun say so early hor... U c already then say...  False\n",
       "4   ham  Nah I don't think he goes to usf, he lives aro...  False"
      ]
     },
     "execution_count": 13,
     "metadata": {},
     "output_type": "execute_result"
    }
   ],
   "source": [
    "df[\"spam\"] = df[\"type\"] == \"spam\"\n",
    "df.drop(\"type\", axis=1)\n",
    "df.head()"
   ]
  },
  {
   "cell_type": "markdown",
   "id": "3d9eefec",
   "metadata": {},
   "source": [
    "It didn't drop correctly"
   ]
  },
  {
   "cell_type": "code",
   "execution_count": 14,
   "id": "4efee6de",
   "metadata": {},
   "outputs": [
    {
     "data": {
      "text/html": [
       "<div>\n",
       "<style scoped>\n",
       "    .dataframe tbody tr th:only-of-type {\n",
       "        vertical-align: middle;\n",
       "    }\n",
       "\n",
       "    .dataframe tbody tr th {\n",
       "        vertical-align: top;\n",
       "    }\n",
       "\n",
       "    .dataframe thead th {\n",
       "        text-align: right;\n",
       "    }\n",
       "</style>\n",
       "<table border=\"1\" class=\"dataframe\">\n",
       "  <thead>\n",
       "    <tr style=\"text-align: right;\">\n",
       "      <th></th>\n",
       "      <th>message</th>\n",
       "      <th>spam</th>\n",
       "    </tr>\n",
       "  </thead>\n",
       "  <tbody>\n",
       "    <tr>\n",
       "      <th>0</th>\n",
       "      <td>Go until jurong point, crazy.. Available only ...</td>\n",
       "      <td>False</td>\n",
       "    </tr>\n",
       "    <tr>\n",
       "      <th>1</th>\n",
       "      <td>Ok lar... Joking wif u oni...</td>\n",
       "      <td>False</td>\n",
       "    </tr>\n",
       "    <tr>\n",
       "      <th>2</th>\n",
       "      <td>Free entry in 2 a wkly comp to win FA Cup fina...</td>\n",
       "      <td>True</td>\n",
       "    </tr>\n",
       "    <tr>\n",
       "      <th>3</th>\n",
       "      <td>U dun say so early hor... U c already then say...</td>\n",
       "      <td>False</td>\n",
       "    </tr>\n",
       "    <tr>\n",
       "      <th>4</th>\n",
       "      <td>Nah I don't think he goes to usf, he lives aro...</td>\n",
       "      <td>False</td>\n",
       "    </tr>\n",
       "  </tbody>\n",
       "</table>\n",
       "</div>"
      ],
      "text/plain": [
       "                                             message   spam\n",
       "0  Go until jurong point, crazy.. Available only ...  False\n",
       "1                      Ok lar... Joking wif u oni...  False\n",
       "2  Free entry in 2 a wkly comp to win FA Cup fina...   True\n",
       "3  U dun say so early hor... U c already then say...  False\n",
       "4  Nah I don't think he goes to usf, he lives aro...  False"
      ]
     },
     "execution_count": 14,
     "metadata": {},
     "output_type": "execute_result"
    }
   ],
   "source": [
    "df[\"spam\"] = df[\"type\"] == \"spam\"\n",
    "df.drop(\"type\", axis=1, inplace=True)\n",
    "df.head()"
   ]
  },
  {
   "cell_type": "code",
   "execution_count": 16,
   "id": "95175615",
   "metadata": {},
   "outputs": [
    {
     "name": "stdout",
     "output_type": "stream",
     "text": [
      "Number of SPAM messages:\n",
      "747\n"
     ]
    }
   ],
   "source": [
    "print(\"Number of SPAM messages:\")\n",
    "print(len(df[df[\"spam\"]==True]))"
   ]
  },
  {
   "cell_type": "code",
   "execution_count": 18,
   "id": "6d0894c7",
   "metadata": {},
   "outputs": [
    {
     "name": "stdout",
     "output_type": "stream",
     "text": [
      "Number of Not SPAM messages:\n",
      "4825\n"
     ]
    }
   ],
   "source": [
    "print(\"Number of Not SPAM messages:\")\n",
    "print(len(df[df[\"spam\"]==False]))"
   ]
  },
  {
   "cell_type": "markdown",
   "id": "17fd510b",
   "metadata": {},
   "source": [
    "Lets learn how CountVectorizer works"
   ]
  },
  {
   "cell_type": "code",
   "execution_count": 45,
   "id": "98032178",
   "metadata": {},
   "outputs": [
    {
     "name": "stdout",
     "output_type": "stream",
     "text": [
      "['amazing' 'hello' 'is' 'mars' 'perfect' 'today']\n",
      "=======\n",
      "<Compressed Sparse Row sparse matrix of dtype 'int64'\n",
      "\twith 9 stored elements and shape (2, 6)>\n",
      "  Coords\tValues\n",
      "  (0, 0)\t1\n",
      "  (0, 1)\t3\n",
      "  (0, 2)\t1\n",
      "  (0, 5)\t1\n",
      "  (1, 1)\t1\n",
      "  (1, 2)\t1\n",
      "  (1, 3)\t1\n",
      "  (1, 4)\t1\n",
      "  (1, 5)\t1\n",
      "=======\n",
      "[[1 3 1 0 0 1]\n",
      " [0 1 1 1 1 1]]\n"
     ]
    }
   ],
   "source": [
    "from sklearn.feature_extraction.text import CountVectorizer\n",
    "\n",
    "cv = CountVectorizer(max_features=6)\n",
    "documents = [\n",
    "    \"Hello world. Today is amazing. Hello hello\",\n",
    "    \"Hello mars, today is perfect\"\n",
    "]\n",
    "cv.fit(documents)\n",
    "print(cv.get_feature_names_out())\n",
    "out = cv.transform(documents)\n",
    "print(\"=======\")\n",
    "print(out)\n",
    "print(\"=======\")\n",
    "print(out.todense())"
   ]
  },
  {
   "cell_type": "code",
   "execution_count": 44,
   "id": "dd47f61d",
   "metadata": {},
   "outputs": [
    {
     "name": "stdout",
     "output_type": "stream",
     "text": [
      "['amazing' 'hello' 'is' 'mars' 'perfect' 'today' 'world']\n",
      "=======\n",
      "<Compressed Sparse Row sparse matrix of dtype 'int64'\n",
      "\twith 10 stored elements and shape (2, 7)>\n",
      "  Coords\tValues\n",
      "  (0, 0)\t1\n",
      "  (0, 1)\t3\n",
      "  (0, 2)\t1\n",
      "  (0, 5)\t1\n",
      "  (0, 6)\t1\n",
      "  (1, 1)\t1\n",
      "  (1, 2)\t1\n",
      "  (1, 3)\t1\n",
      "  (1, 4)\t1\n",
      "  (1, 5)\t1\n",
      "=======\n",
      "[[1 3 1 0 0 1 1]\n",
      " [0 1 1 1 1 1 0]]\n"
     ]
    }
   ],
   "source": [
    "cv = CountVectorizer(max_features=7) # Change this from 1 to 7.  even if you increase beyond 7, it will not change because there are only 7 unique words here\n",
    "documents = [\n",
    "    \"Hello world. Today is amazing. Hello hello\",\n",
    "    \"Hello mars, today is perfect\"\n",
    "]\n",
    "cv.fit(documents)\n",
    "print(cv.get_feature_names_out())\n",
    "out = cv.transform(documents)\n",
    "print(\"=======\")\n",
    "print(out)\n",
    "print(\"=======\")\n",
    "print(out.todense())"
   ]
  },
  {
   "cell_type": "markdown",
   "id": "536d99d9",
   "metadata": {},
   "source": [
    "Lets apply this CountVectorizer to our problem"
   ]
  },
  {
   "cell_type": "code",
   "execution_count": 47,
   "id": "f8159293",
   "metadata": {},
   "outputs": [
    {
     "name": "stdout",
     "output_type": "stream",
     "text": [
      "<Compressed Sparse Row sparse matrix of dtype 'int64'\n",
      "\twith 12 stored elements and shape (1, 1000)>\n",
      "  Coords\tValues\n",
      "  (0, 349)\t1\n",
      "  (0, 887)\t1\n",
      "  (0, 661)\t1\n",
      "  (0, 206)\t1\n",
      "  (0, 90)\t1\n",
      "  (0, 613)\t1\n",
      "  (0, 429)\t1\n",
      "  (0, 361)\t1\n",
      "  (0, 973)\t1\n",
      "  (0, 830)\t1\n",
      "  (0, 358)\t1\n",
      "  (0, 921)\t1\n",
      "-------\n",
      "up\n"
     ]
    }
   ],
   "source": [
    "cv = CountVectorizer(max_features=1000)\n",
    "messages = cv.fit_transform(df[\"message\"])\n",
    "print(messages[0, :])\n",
    "print(\"-------\")\n",
    "print(cv.get_feature_names_out()[888])"
   ]
  },
  {
   "cell_type": "markdown",
   "id": "87b0ab70",
   "metadata": {},
   "source": [
    "There was an alternative for CountVectorizer. i.e, TFidfVectorizer Which gives slightly better results. \n",
    "Just use this Tfidf inplace of cv. no big change here."
   ]
  },
  {
   "cell_type": "code",
   "execution_count": 48,
   "id": "aa3dfed3",
   "metadata": {},
   "outputs": [
    {
     "name": "stdout",
     "output_type": "stream",
     "text": [
      "<Compressed Sparse Row sparse matrix of dtype 'float64'\n",
      "\twith 12 stored elements and shape (1, 1000)>\n",
      "  Coords\tValues\n",
      "  (0, 349)\t0.21767405036534812\n",
      "  (0, 887)\t0.3385917224021876\n",
      "  (0, 661)\t0.37588329053830144\n",
      "  (0, 206)\t0.3721714491861035\n",
      "  (0, 90)\t0.3594536477277268\n",
      "  (0, 613)\t0.22967925385076954\n",
      "  (0, 429)\t0.15749629055186737\n",
      "  (0, 361)\t0.26546931912738453\n",
      "  (0, 973)\t0.3250709155826965\n",
      "  (0, 830)\t0.2289232644503655\n",
      "  (0, 358)\t0.22529489923658547\n",
      "  (0, 921)\t0.26851543603096684\n",
      "up\n"
     ]
    }
   ],
   "source": [
    "import pandas as pd\n",
    "from sklearn.feature_extraction.text import TfidfVectorizer\n",
    "\n",
    "df = pd.read_csv(\"./data/SMSSpamCollection\", \n",
    "                 sep=\"\\t\", \n",
    "                 names=[\"type\", \"message\"])\n",
    "\n",
    "df[\"spam\"] = df[\"type\"] == \"spam\"\n",
    "df.drop(\"type\", axis=1, inplace=True)\n",
    "\n",
    "vectorizer = TfidfVectorizer(max_features=1000)\n",
    "messages = vectorizer.fit_transform(df[\"message\"])\n",
    "print(messages[0, :])\n",
    "print(vectorizer.get_feature_names_out()[888])"
   ]
  },
  {
   "cell_type": "markdown",
   "id": "fc037c5a",
   "metadata": {},
   "source": [
    "Now lets train the neuron. Lets start with what variables we have"
   ]
  },
  {
   "cell_type": "code",
   "execution_count": 53,
   "id": "0a15d838",
   "metadata": {},
   "outputs": [
    {
     "ename": "TypeError",
     "evalue": "sparse array length is ambiguous; use getnnz() or shape[0]",
     "output_type": "error",
     "traceback": [
      "\u001b[31m---------------------------------------------------------------------------\u001b[39m",
      "\u001b[31mTypeError\u001b[39m                                 Traceback (most recent call last)",
      "\u001b[36mCell\u001b[39m\u001b[36m \u001b[39m\u001b[32mIn[53]\u001b[39m\u001b[32m, line 16\u001b[39m\n\u001b[32m     13\u001b[39m cv = CountVectorizer(max_features=\u001b[32m1000\u001b[39m)\n\u001b[32m     14\u001b[39m messages = cv.fit_transform(df[\u001b[33m\"\u001b[39m\u001b[33mmessage\u001b[39m\u001b[33m\"\u001b[39m])\n\u001b[32m---> \u001b[39m\u001b[32m16\u001b[39m X = \u001b[43mtorch\u001b[49m\u001b[43m.\u001b[49m\u001b[43mtensor\u001b[49m\u001b[43m(\u001b[49m\u001b[43mmessages\u001b[49m\u001b[43m,\u001b[49m\u001b[43m \u001b[49m\u001b[43mdtype\u001b[49m\u001b[43m=\u001b[49m\u001b[43mtorch\u001b[49m\u001b[43m.\u001b[49m\u001b[43mfloat32\u001b[49m\u001b[43m)\u001b[49m\n\u001b[32m     17\u001b[39m \u001b[38;5;28mprint\u001b[39m(X)\n\u001b[32m     18\u001b[39m \u001b[38;5;66;03m# y = torch.tensor(df[\"spam\"], dtype=torch.float32)\\\u001b[39;00m\n\u001b[32m     19\u001b[39m \u001b[38;5;66;03m#         .reshape((-1, 1))\u001b[39;00m\n",
      "\u001b[36mFile \u001b[39m\u001b[32m~\\AppData\\Roaming\\Python\\Python313\\site-packages\\scipy\\sparse\\_base.py:449\u001b[39m, in \u001b[36m_spbase.__len__\u001b[39m\u001b[34m(self)\u001b[39m\n\u001b[32m    448\u001b[39m \u001b[38;5;28;01mdef\u001b[39;00m\u001b[38;5;250m \u001b[39m\u001b[34m__len__\u001b[39m(\u001b[38;5;28mself\u001b[39m):\n\u001b[32m--> \u001b[39m\u001b[32m449\u001b[39m     \u001b[38;5;28;01mraise\u001b[39;00m \u001b[38;5;167;01mTypeError\u001b[39;00m(\u001b[33m\"\u001b[39m\u001b[33msparse array length is ambiguous; use getnnz()\u001b[39m\u001b[33m\"\u001b[39m\n\u001b[32m    450\u001b[39m                     \u001b[33m\"\u001b[39m\u001b[33m or shape[0]\u001b[39m\u001b[33m\"\u001b[39m)\n",
      "\u001b[31mTypeError\u001b[39m: sparse array length is ambiguous; use getnnz() or shape[0]"
     ]
    }
   ],
   "source": [
    "import torch\n",
    "from torch import nn\n",
    "import pandas as pd\n",
    "from sklearn.feature_extraction.text import CountVectorizer\n",
    "\n",
    "df = pd.read_csv(\"./data/SMSSpamCollection\", \n",
    "                 sep=\"\\t\", \n",
    "                 names=[\"type\", \"message\"])\n",
    "\n",
    "df[\"spam\"] = df[\"type\"] == \"spam\"\n",
    "df.drop(\"type\", axis=1, inplace=True)\n",
    "\n",
    "cv = CountVectorizer(max_features=1000)\n",
    "messages = cv.fit_transform(df[\"message\"])\n",
    "\n",
    "X = torch.tensor(messages, dtype=torch.float32)\n",
    "print(X)\n",
    "# y = torch.tensor(df[\"spam\"], dtype=torch.float32)\\\n",
    "#         .reshape((-1, 1))"
   ]
  },
  {
   "cell_type": "markdown",
   "id": "6c408c78",
   "metadata": {},
   "source": [
    "X was giving some errors, the error says it is a sparse matrix while converting it into tensor. We need to convert it into dense"
   ]
  },
  {
   "cell_type": "code",
   "execution_count": 56,
   "id": "409e5df4",
   "metadata": {},
   "outputs": [
    {
     "name": "stdout",
     "output_type": "stream",
     "text": [
      "tensor([[0., 0., 0.,  ..., 0., 0., 0.],\n",
      "        [0., 0., 0.,  ..., 0., 0., 0.],\n",
      "        [0., 0., 0.,  ..., 0., 0., 0.],\n",
      "        ...,\n",
      "        [0., 0., 0.,  ..., 0., 0., 0.],\n",
      "        [0., 0., 0.,  ..., 0., 0., 0.],\n",
      "        [0., 0., 0.,  ..., 0., 0., 0.]])\n",
      "torch.Size([5572, 1000])\n"
     ]
    }
   ],
   "source": [
    "X = torch.tensor(messages.todense(), dtype=torch.float32)\n",
    "# y = torch.tensor(df[\"spam\"], dtype=torch.float32)\\\n",
    "#         .reshape((-1, 1))\n",
    "print(X)\n",
    "print(X.shape)"
   ]
  },
  {
   "cell_type": "markdown",
   "id": "433c2d8b",
   "metadata": {},
   "source": [
    "lets see y data"
   ]
  },
  {
   "cell_type": "code",
   "execution_count": 58,
   "id": "e4ce1c19",
   "metadata": {},
   "outputs": [
    {
     "name": "stdout",
     "output_type": "stream",
     "text": [
      "tensor([0., 0., 1.,  ..., 0., 0., 0.])\n",
      "torch.Size([5572])\n"
     ]
    }
   ],
   "source": [
    "y = torch.tensor(df[\"spam\"], dtype=torch.float32)\n",
    "print(y)\n",
    "print(y.shape)"
   ]
  },
  {
   "cell_type": "code",
   "execution_count": 59,
   "id": "1b367395",
   "metadata": {},
   "outputs": [
    {
     "name": "stdout",
     "output_type": "stream",
     "text": [
      "tensor([[0.],\n",
      "        [0.],\n",
      "        [1.],\n",
      "        ...,\n",
      "        [0.],\n",
      "        [0.],\n",
      "        [0.]])\n",
      "torch.Size([5572, 1])\n"
     ]
    }
   ],
   "source": [
    "y = torch.tensor(df[\"spam\"], dtype=torch.float32).reshape((-1,1))\n",
    "print(y)\n",
    "print(y.shape)"
   ]
  },
  {
   "cell_type": "code",
   "execution_count": 60,
   "id": "be628cec",
   "metadata": {},
   "outputs": [
    {
     "name": "stdout",
     "output_type": "stream",
     "text": [
      "tensor(0.1290, grad_fn=<MseLossBackward0>)\n",
      "tensor(0.1125, grad_fn=<MseLossBackward0>)\n",
      "tensor(0.1027, grad_fn=<MseLossBackward0>)\n",
      "tensor(0.0959, grad_fn=<MseLossBackward0>)\n",
      "tensor(0.0906, grad_fn=<MseLossBackward0>)\n",
      "tensor(0.0861, grad_fn=<MseLossBackward0>)\n",
      "tensor(0.0821, grad_fn=<MseLossBackward0>)\n",
      "tensor(0.0786, grad_fn=<MseLossBackward0>)\n",
      "tensor(0.0755, grad_fn=<MseLossBackward0>)\n",
      "tensor(0.0726, grad_fn=<MseLossBackward0>)\n",
      "tensor(0.0700, grad_fn=<MseLossBackward0>)\n",
      "tensor(0.0676, grad_fn=<MseLossBackward0>)\n",
      "tensor(0.0654, grad_fn=<MseLossBackward0>)\n",
      "tensor(0.0634, grad_fn=<MseLossBackward0>)\n",
      "tensor(0.0616, grad_fn=<MseLossBackward0>)\n",
      "tensor(0.0599, grad_fn=<MseLossBackward0>)\n",
      "tensor(0.0583, grad_fn=<MseLossBackward0>)\n",
      "tensor(0.0569, grad_fn=<MseLossBackward0>)\n",
      "tensor(0.0555, grad_fn=<MseLossBackward0>)\n",
      "tensor(0.0542, grad_fn=<MseLossBackward0>)\n",
      "tensor(0.0531, grad_fn=<MseLossBackward0>)\n",
      "tensor(0.0520, grad_fn=<MseLossBackward0>)\n",
      "tensor(0.0510, grad_fn=<MseLossBackward0>)\n",
      "tensor(0.0500, grad_fn=<MseLossBackward0>)\n",
      "tensor(0.0491, grad_fn=<MseLossBackward0>)\n",
      "tensor(0.0483, grad_fn=<MseLossBackward0>)\n",
      "tensor(0.0475, grad_fn=<MseLossBackward0>)\n",
      "tensor(0.0467, grad_fn=<MseLossBackward0>)\n",
      "tensor(0.0460, grad_fn=<MseLossBackward0>)\n",
      "tensor(0.0453, grad_fn=<MseLossBackward0>)\n",
      "tensor(0.0447, grad_fn=<MseLossBackward0>)\n",
      "tensor(0.0441, grad_fn=<MseLossBackward0>)\n",
      "tensor(0.0435, grad_fn=<MseLossBackward0>)\n",
      "tensor(0.0430, grad_fn=<MseLossBackward0>)\n",
      "tensor(0.0425, grad_fn=<MseLossBackward0>)\n",
      "tensor(0.0420, grad_fn=<MseLossBackward0>)\n",
      "tensor(0.0415, grad_fn=<MseLossBackward0>)\n",
      "tensor(0.0411, grad_fn=<MseLossBackward0>)\n",
      "tensor(0.0406, grad_fn=<MseLossBackward0>)\n",
      "tensor(0.0402, grad_fn=<MseLossBackward0>)\n",
      "tensor(0.0398, grad_fn=<MseLossBackward0>)\n",
      "tensor(0.0394, grad_fn=<MseLossBackward0>)\n",
      "tensor(0.0391, grad_fn=<MseLossBackward0>)\n",
      "tensor(0.0387, grad_fn=<MseLossBackward0>)\n",
      "tensor(0.0384, grad_fn=<MseLossBackward0>)\n",
      "tensor(0.0381, grad_fn=<MseLossBackward0>)\n",
      "tensor(0.0378, grad_fn=<MseLossBackward0>)\n",
      "tensor(0.0375, grad_fn=<MseLossBackward0>)\n",
      "tensor(0.0372, grad_fn=<MseLossBackward0>)\n",
      "tensor(0.0369, grad_fn=<MseLossBackward0>)\n",
      "tensor(0.0366, grad_fn=<MseLossBackward0>)\n",
      "tensor(0.0364, grad_fn=<MseLossBackward0>)\n",
      "tensor(0.0361, grad_fn=<MseLossBackward0>)\n",
      "tensor(0.0359, grad_fn=<MseLossBackward0>)\n",
      "tensor(0.0356, grad_fn=<MseLossBackward0>)\n",
      "tensor(0.0354, grad_fn=<MseLossBackward0>)\n",
      "tensor(0.0352, grad_fn=<MseLossBackward0>)\n",
      "tensor(0.0350, grad_fn=<MseLossBackward0>)\n",
      "tensor(0.0348, grad_fn=<MseLossBackward0>)\n",
      "tensor(0.0345, grad_fn=<MseLossBackward0>)\n",
      "tensor(0.0343, grad_fn=<MseLossBackward0>)\n",
      "tensor(0.0342, grad_fn=<MseLossBackward0>)\n",
      "tensor(0.0340, grad_fn=<MseLossBackward0>)\n",
      "tensor(0.0338, grad_fn=<MseLossBackward0>)\n",
      "tensor(0.0336, grad_fn=<MseLossBackward0>)\n",
      "tensor(0.0334, grad_fn=<MseLossBackward0>)\n",
      "tensor(0.0333, grad_fn=<MseLossBackward0>)\n",
      "tensor(0.0331, grad_fn=<MseLossBackward0>)\n",
      "tensor(0.0329, grad_fn=<MseLossBackward0>)\n",
      "tensor(0.0328, grad_fn=<MseLossBackward0>)\n",
      "tensor(0.0326, grad_fn=<MseLossBackward0>)\n",
      "tensor(0.0325, grad_fn=<MseLossBackward0>)\n",
      "tensor(0.0323, grad_fn=<MseLossBackward0>)\n",
      "tensor(0.0322, grad_fn=<MseLossBackward0>)\n",
      "tensor(0.0320, grad_fn=<MseLossBackward0>)\n",
      "tensor(0.0319, grad_fn=<MseLossBackward0>)\n",
      "tensor(0.0318, grad_fn=<MseLossBackward0>)\n",
      "tensor(0.0316, grad_fn=<MseLossBackward0>)\n",
      "tensor(0.0315, grad_fn=<MseLossBackward0>)\n",
      "tensor(0.0314, grad_fn=<MseLossBackward0>)\n",
      "tensor(0.0312, grad_fn=<MseLossBackward0>)\n",
      "tensor(0.0311, grad_fn=<MseLossBackward0>)\n",
      "tensor(0.0310, grad_fn=<MseLossBackward0>)\n",
      "tensor(0.0309, grad_fn=<MseLossBackward0>)\n",
      "tensor(0.0308, grad_fn=<MseLossBackward0>)\n",
      "tensor(0.0306, grad_fn=<MseLossBackward0>)\n",
      "tensor(0.0305, grad_fn=<MseLossBackward0>)\n",
      "tensor(0.0304, grad_fn=<MseLossBackward0>)\n",
      "tensor(0.0303, grad_fn=<MseLossBackward0>)\n",
      "tensor(0.0302, grad_fn=<MseLossBackward0>)\n",
      "tensor(0.0301, grad_fn=<MseLossBackward0>)\n",
      "tensor(0.0300, grad_fn=<MseLossBackward0>)\n",
      "tensor(0.0299, grad_fn=<MseLossBackward0>)\n",
      "tensor(0.0298, grad_fn=<MseLossBackward0>)\n",
      "tensor(0.0297, grad_fn=<MseLossBackward0>)\n",
      "tensor(0.0296, grad_fn=<MseLossBackward0>)\n",
      "tensor(0.0295, grad_fn=<MseLossBackward0>)\n",
      "tensor(0.0294, grad_fn=<MseLossBackward0>)\n",
      "tensor(0.0293, grad_fn=<MseLossBackward0>)\n",
      "tensor(0.0292, grad_fn=<MseLossBackward0>)\n",
      "tensor([[-0.0028],\n",
      "        [ 0.0315],\n",
      "        [ 0.8789],\n",
      "        ...,\n",
      "        [-0.0185],\n",
      "        [ 0.1793],\n",
      "        [ 0.0741]])\n",
      "tensor(-0.6144)\n",
      "tensor(1.5018)\n"
     ]
    }
   ],
   "source": [
    "import torch\n",
    "from torch import nn\n",
    "import pandas as pd\n",
    "from sklearn.feature_extraction.text import CountVectorizer\n",
    "\n",
    "df = pd.read_csv(\"./data/SMSSpamCollection\", \n",
    "                 sep=\"\\t\", \n",
    "                 names=[\"type\", \"message\"])\n",
    "\n",
    "df[\"spam\"] = df[\"type\"] == \"spam\"\n",
    "df.drop(\"type\", axis=1, inplace=True)\n",
    "\n",
    "cv = CountVectorizer(max_features=1000)\n",
    "messages = cv.fit_transform(df[\"message\"])\n",
    "\n",
    "X = torch.tensor(messages.todense(), dtype=torch.float32)\n",
    "y = torch.tensor(df[\"spam\"], dtype=torch.float32)\\\n",
    "        .reshape((-1, 1))\n",
    "\n",
    "model = nn.Linear(1000, 1)  # our X has 1 thousand entries as input and we need to get only 1 output\n",
    "loss_fn = torch.nn.MSELoss()\n",
    "optimizer = torch.optim.SGD(model.parameters(), lr=0.001)\n",
    "\n",
    "for i in range(0, 10000):\n",
    "    # Training pass\n",
    "    optimizer.zero_grad()\n",
    "    outputs = model(X)\n",
    "    loss = loss_fn(outputs, y)\n",
    "    loss.backward()\n",
    "    optimizer.step()\n",
    "\n",
    "    if i % 100 == 0: \n",
    "        print(loss)\n",
    "\n",
    "model.eval()\n",
    "with torch.no_grad():\n",
    "    y_pred = model(X)\n",
    "    print(y_pred)\n",
    "    print(y_pred.min())\n",
    "    print(y_pred.max())"
   ]
  },
  {
   "cell_type": "markdown",
   "id": "fc0d1ee9",
   "metadata": {},
   "source": [
    "In this use case we should not get negative values of probability. So we need to use a Sigmoid function. Which only gives 0 or 1 as output. Sigmoid example"
   ]
  },
  {
   "cell_type": "code",
   "execution_count": 61,
   "id": "2185ec90",
   "metadata": {},
   "outputs": [],
   "source": [
    "%matplotlib inline\n",
    "\n",
    "import matplotlib.pyplot as plt\n",
    "import torch\n",
    "from torch import nn"
   ]
  },
  {
   "cell_type": "code",
   "execution_count": 62,
   "id": "93ec7094",
   "metadata": {},
   "outputs": [
    {
     "data": {
      "text/plain": [
       "tensor([0.0000, 0.8808, 0.9526])"
      ]
     },
     "execution_count": 62,
     "metadata": {},
     "output_type": "execute_result"
    }
   ],
   "source": [
    "nn.functional.sigmoid(torch.tensor([-100, 2, 3]))"
   ]
  },
  {
   "cell_type": "code",
   "execution_count": 64,
   "id": "015d9905",
   "metadata": {},
   "outputs": [
    {
     "data": {
      "text/plain": [
       "[<matplotlib.lines.Line2D at 0x21167777c50>]"
      ]
     },
     "execution_count": 64,
     "metadata": {},
     "output_type": "execute_result"
    },
    {
     "data": {
      "image/png": "[encoded data removed]",
      "text/plain": [
       "<Figure size 640x480 with 1 Axes>"
      ]
     },
     "metadata": {},
     "output_type": "display_data"
    }
   ],
   "source": [
    "X = torch.arange(-5, 5, step=0.1)\n",
    "y = nn.functional.sigmoid(X)\n",
    "plt.plot(X, y)"
   ]
  },
  {
   "cell_type": "markdown",
   "id": "685fd2bf",
   "metadata": {},
   "source": [
    "We are changing only the loss function not the neuron. Keep in mind"
   ]
  },
  {
   "cell_type": "code",
   "execution_count": 68,
   "id": "3211adaf",
   "metadata": {},
   "outputs": [
    {
     "name": "stdout",
     "output_type": "stream",
     "text": [
      "tensor(0.6846, grad_fn=<BinaryCrossEntropyWithLogitsBackward0>)\n",
      "tensor(0.5383, grad_fn=<BinaryCrossEntropyWithLogitsBackward0>)\n",
      "tensor(0.4686, grad_fn=<BinaryCrossEntropyWithLogitsBackward0>)\n",
      "tensor(0.4268, grad_fn=<BinaryCrossEntropyWithLogitsBackward0>)\n",
      "tensor(0.3974, grad_fn=<BinaryCrossEntropyWithLogitsBackward0>)\n",
      "tensor(0.3745, grad_fn=<BinaryCrossEntropyWithLogitsBackward0>)\n",
      "tensor(0.3555, grad_fn=<BinaryCrossEntropyWithLogitsBackward0>)\n",
      "tensor(0.3391, grad_fn=<BinaryCrossEntropyWithLogitsBackward0>)\n",
      "tensor(0.3246, grad_fn=<BinaryCrossEntropyWithLogitsBackward0>)\n",
      "tensor(0.3117, grad_fn=<BinaryCrossEntropyWithLogitsBackward0>)\n",
      "tensor(0.3001, grad_fn=<BinaryCrossEntropyWithLogitsBackward0>)\n",
      "tensor(0.2895, grad_fn=<BinaryCrossEntropyWithLogitsBackward0>)\n",
      "tensor(0.2799, grad_fn=<BinaryCrossEntropyWithLogitsBackward0>)\n",
      "tensor(0.2711, grad_fn=<BinaryCrossEntropyWithLogitsBackward0>)\n",
      "tensor(0.2630, grad_fn=<BinaryCrossEntropyWithLogitsBackward0>)\n",
      "tensor(0.2555, grad_fn=<BinaryCrossEntropyWithLogitsBackward0>)\n",
      "tensor(0.2486, grad_fn=<BinaryCrossEntropyWithLogitsBackward0>)\n",
      "tensor(0.2422, grad_fn=<BinaryCrossEntropyWithLogitsBackward0>)\n",
      "tensor(0.2363, grad_fn=<BinaryCrossEntropyWithLogitsBackward0>)\n",
      "tensor(0.2308, grad_fn=<BinaryCrossEntropyWithLogitsBackward0>)\n",
      "tensor(0.2256, grad_fn=<BinaryCrossEntropyWithLogitsBackward0>)\n",
      "tensor(0.2207, grad_fn=<BinaryCrossEntropyWithLogitsBackward0>)\n",
      "tensor(0.2162, grad_fn=<BinaryCrossEntropyWithLogitsBackward0>)\n",
      "tensor(0.2119, grad_fn=<BinaryCrossEntropyWithLogitsBackward0>)\n",
      "tensor(0.2079, grad_fn=<BinaryCrossEntropyWithLogitsBackward0>)\n",
      "tensor(0.2041, grad_fn=<BinaryCrossEntropyWithLogitsBackward0>)\n",
      "tensor(0.2005, grad_fn=<BinaryCrossEntropyWithLogitsBackward0>)\n",
      "tensor(0.1971, grad_fn=<BinaryCrossEntropyWithLogitsBackward0>)\n",
      "tensor(0.1938, grad_fn=<BinaryCrossEntropyWithLogitsBackward0>)\n",
      "tensor(0.1907, grad_fn=<BinaryCrossEntropyWithLogitsBackward0>)\n",
      "tensor(0.1878, grad_fn=<BinaryCrossEntropyWithLogitsBackward0>)\n",
      "tensor(0.1850, grad_fn=<BinaryCrossEntropyWithLogitsBackward0>)\n",
      "tensor(0.1823, grad_fn=<BinaryCrossEntropyWithLogitsBackward0>)\n",
      "tensor(0.1798, grad_fn=<BinaryCrossEntropyWithLogitsBackward0>)\n",
      "tensor(0.1774, grad_fn=<BinaryCrossEntropyWithLogitsBackward0>)\n",
      "tensor(0.1750, grad_fn=<BinaryCrossEntropyWithLogitsBackward0>)\n",
      "tensor(0.1728, grad_fn=<BinaryCrossEntropyWithLogitsBackward0>)\n",
      "tensor(0.1706, grad_fn=<BinaryCrossEntropyWithLogitsBackward0>)\n",
      "tensor(0.1686, grad_fn=<BinaryCrossEntropyWithLogitsBackward0>)\n",
      "tensor(0.1666, grad_fn=<BinaryCrossEntropyWithLogitsBackward0>)\n",
      "tensor(0.1647, grad_fn=<BinaryCrossEntropyWithLogitsBackward0>)\n",
      "tensor(0.1628, grad_fn=<BinaryCrossEntropyWithLogitsBackward0>)\n",
      "tensor(0.1610, grad_fn=<BinaryCrossEntropyWithLogitsBackward0>)\n",
      "tensor(0.1593, grad_fn=<BinaryCrossEntropyWithLogitsBackward0>)\n",
      "tensor(0.1577, grad_fn=<BinaryCrossEntropyWithLogitsBackward0>)\n",
      "tensor(0.1561, grad_fn=<BinaryCrossEntropyWithLogitsBackward0>)\n",
      "tensor(0.1545, grad_fn=<BinaryCrossEntropyWithLogitsBackward0>)\n",
      "tensor(0.1530, grad_fn=<BinaryCrossEntropyWithLogitsBackward0>)\n",
      "tensor(0.1516, grad_fn=<BinaryCrossEntropyWithLogitsBackward0>)\n",
      "tensor(0.1502, grad_fn=<BinaryCrossEntropyWithLogitsBackward0>)\n",
      "tensor(0.1488, grad_fn=<BinaryCrossEntropyWithLogitsBackward0>)\n",
      "tensor(0.1475, grad_fn=<BinaryCrossEntropyWithLogitsBackward0>)\n",
      "tensor(0.1462, grad_fn=<BinaryCrossEntropyWithLogitsBackward0>)\n",
      "tensor(0.1450, grad_fn=<BinaryCrossEntropyWithLogitsBackward0>)\n",
      "tensor(0.1438, grad_fn=<BinaryCrossEntropyWithLogitsBackward0>)\n",
      "tensor(0.1426, grad_fn=<BinaryCrossEntropyWithLogitsBackward0>)\n",
      "tensor(0.1415, grad_fn=<BinaryCrossEntropyWithLogitsBackward0>)\n",
      "tensor(0.1403, grad_fn=<BinaryCrossEntropyWithLogitsBackward0>)\n",
      "tensor(0.1393, grad_fn=<BinaryCrossEntropyWithLogitsBackward0>)\n",
      "tensor(0.1382, grad_fn=<BinaryCrossEntropyWithLogitsBackward0>)\n",
      "tensor(0.1372, grad_fn=<BinaryCrossEntropyWithLogitsBackward0>)\n",
      "tensor(0.1362, grad_fn=<BinaryCrossEntropyWithLogitsBackward0>)\n",
      "tensor(0.1352, grad_fn=<BinaryCrossEntropyWithLogitsBackward0>)\n",
      "tensor(0.1343, grad_fn=<BinaryCrossEntropyWithLogitsBackward0>)\n",
      "tensor(0.1333, grad_fn=<BinaryCrossEntropyWithLogitsBackward0>)\n",
      "tensor(0.1324, grad_fn=<BinaryCrossEntropyWithLogitsBackward0>)\n",
      "tensor(0.1315, grad_fn=<BinaryCrossEntropyWithLogitsBackward0>)\n",
      "tensor(0.1307, grad_fn=<BinaryCrossEntropyWithLogitsBackward0>)\n",
      "tensor(0.1298, grad_fn=<BinaryCrossEntropyWithLogitsBackward0>)\n",
      "tensor(0.1290, grad_fn=<BinaryCrossEntropyWithLogitsBackward0>)\n",
      "tensor(0.1282, grad_fn=<BinaryCrossEntropyWithLogitsBackward0>)\n",
      "tensor(0.1274, grad_fn=<BinaryCrossEntropyWithLogitsBackward0>)\n",
      "tensor(0.1266, grad_fn=<BinaryCrossEntropyWithLogitsBackward0>)\n",
      "tensor(0.1259, grad_fn=<BinaryCrossEntropyWithLogitsBackward0>)\n",
      "tensor(0.1252, grad_fn=<BinaryCrossEntropyWithLogitsBackward0>)\n",
      "tensor(0.1244, grad_fn=<BinaryCrossEntropyWithLogitsBackward0>)\n",
      "tensor(0.1237, grad_fn=<BinaryCrossEntropyWithLogitsBackward0>)\n",
      "tensor(0.1230, grad_fn=<BinaryCrossEntropyWithLogitsBackward0>)\n",
      "tensor(0.1223, grad_fn=<BinaryCrossEntropyWithLogitsBackward0>)\n",
      "tensor(0.1217, grad_fn=<BinaryCrossEntropyWithLogitsBackward0>)\n",
      "tensor(0.1210, grad_fn=<BinaryCrossEntropyWithLogitsBackward0>)\n",
      "tensor(0.1204, grad_fn=<BinaryCrossEntropyWithLogitsBackward0>)\n",
      "tensor(0.1198, grad_fn=<BinaryCrossEntropyWithLogitsBackward0>)\n",
      "tensor(0.1191, grad_fn=<BinaryCrossEntropyWithLogitsBackward0>)\n",
      "tensor(0.1185, grad_fn=<BinaryCrossEntropyWithLogitsBackward0>)\n",
      "tensor(0.1179, grad_fn=<BinaryCrossEntropyWithLogitsBackward0>)\n",
      "tensor(0.1174, grad_fn=<BinaryCrossEntropyWithLogitsBackward0>)\n",
      "tensor(0.1168, grad_fn=<BinaryCrossEntropyWithLogitsBackward0>)\n",
      "tensor(0.1162, grad_fn=<BinaryCrossEntropyWithLogitsBackward0>)\n",
      "tensor(0.1157, grad_fn=<BinaryCrossEntropyWithLogitsBackward0>)\n",
      "tensor(0.1151, grad_fn=<BinaryCrossEntropyWithLogitsBackward0>)\n",
      "tensor(0.1146, grad_fn=<BinaryCrossEntropyWithLogitsBackward0>)\n",
      "tensor(0.1141, grad_fn=<BinaryCrossEntropyWithLogitsBackward0>)\n",
      "tensor(0.1135, grad_fn=<BinaryCrossEntropyWithLogitsBackward0>)\n",
      "tensor(0.1130, grad_fn=<BinaryCrossEntropyWithLogitsBackward0>)\n",
      "tensor(0.1125, grad_fn=<BinaryCrossEntropyWithLogitsBackward0>)\n",
      "tensor(0.1120, grad_fn=<BinaryCrossEntropyWithLogitsBackward0>)\n",
      "tensor(0.1116, grad_fn=<BinaryCrossEntropyWithLogitsBackward0>)\n",
      "tensor(0.1111, grad_fn=<BinaryCrossEntropyWithLogitsBackward0>)\n",
      "tensor(0.1106, grad_fn=<BinaryCrossEntropyWithLogitsBackward0>)\n",
      "tensor([[-3.6595],\n",
      "        [-3.3020],\n",
      "        [ 2.6768],\n",
      "        ...,\n",
      "        [-3.6798],\n",
      "        [-2.8184],\n",
      "        [-2.5432]])\n",
      "tensor(-16.6541)\n",
      "tensor(7.3566)\n"
     ]
    }
   ],
   "source": [
    "import torch\n",
    "from torch import nn\n",
    "import pandas as pd\n",
    "from sklearn.feature_extraction.text import CountVectorizer\n",
    "\n",
    "df = pd.read_csv(\"./data/SMSSpamCollection\", \n",
    "                 sep=\"\\t\", \n",
    "                 names=[\"type\", \"message\"])\n",
    "\n",
    "df[\"spam\"] = df[\"type\"] == \"spam\"\n",
    "df.drop(\"type\", axis=1, inplace=True)\n",
    "\n",
    "cv = CountVectorizer(max_features=1000)\n",
    "messages = cv.fit_transform(df[\"message\"])\n",
    "\n",
    "X = torch.tensor(messages.todense(), dtype=torch.float32)\n",
    "y = torch.tensor(df[\"spam\"], dtype=torch.float32)\\\n",
    "        .reshape((-1, 1))\n",
    "\n",
    "model = nn.Linear(1000, 1)\n",
    "loss_fn = torch.nn.BCEWithLogitsLoss()\n",
    "optimizer = torch.optim.SGD(model.parameters(), lr=0.01)\n",
    "\n",
    "for i in range(0, 10000):\n",
    "    # Training pass\n",
    "    optimizer.zero_grad()\n",
    "    outputs = model(X)\n",
    "    loss = loss_fn(outputs, y)\n",
    "    loss.backward()\n",
    "    optimizer.step()\n",
    "\n",
    "    if i % 100 == 0:\n",
    "        print(loss)\n",
    "model.eval()\n",
    "with torch.no_grad():\n",
    "    y_pred = model(X)\n",
    "    print(y_pred)\n",
    "    print(y_pred.min())\n",
    "    print(y_pred.max())"
   ]
  },
  {
   "cell_type": "markdown",
   "id": "8db34ec4",
   "metadata": {},
   "source": [
    "Still the output contains the negative values. increasing learning rate from 0.01 to 0.02"
   ]
  },
  {
   "cell_type": "code",
   "execution_count": 70,
   "id": "634ea06b",
   "metadata": {},
   "outputs": [
    {
     "name": "stdout",
     "output_type": "stream",
     "text": [
      "tensor(0.6947, grad_fn=<BinaryCrossEntropyWithLogitsBackward0>)\n",
      "tensor(0.2245, grad_fn=<BinaryCrossEntropyWithLogitsBackward0>)\n",
      "tensor(0.1639, grad_fn=<BinaryCrossEntropyWithLogitsBackward0>)\n",
      "tensor(0.1366, grad_fn=<BinaryCrossEntropyWithLogitsBackward0>)\n",
      "tensor(0.1205, grad_fn=<BinaryCrossEntropyWithLogitsBackward0>)\n",
      "tensor(0.1097, grad_fn=<BinaryCrossEntropyWithLogitsBackward0>)\n",
      "tensor(0.1018, grad_fn=<BinaryCrossEntropyWithLogitsBackward0>)\n",
      "tensor(0.0957, grad_fn=<BinaryCrossEntropyWithLogitsBackward0>)\n",
      "tensor(0.0908, grad_fn=<BinaryCrossEntropyWithLogitsBackward0>)\n",
      "tensor(0.0867, grad_fn=<BinaryCrossEntropyWithLogitsBackward0>)\n",
      "tensor([[0.0126],\n",
      "        [0.0213],\n",
      "        [0.9715],\n",
      "        ...,\n",
      "        [0.0144],\n",
      "        [0.0427],\n",
      "        [0.0384]])\n",
      "tensor(1.3779e-10)\n",
      "tensor(0.9999)\n"
     ]
    }
   ],
   "source": [
    "model = nn.Linear(1000, 1)\n",
    "loss_fn = torch.nn.BCEWithLogitsLoss()\n",
    "optimizer = torch.optim.SGD(model.parameters(), lr=0.02)\n",
    "\n",
    "for i in range(0, 10000):\n",
    "    # Training pass\n",
    "    optimizer.zero_grad()\n",
    "    outputs = model(X)\n",
    "    loss = loss_fn(outputs, y)\n",
    "    loss.backward()\n",
    "    optimizer.step()\n",
    "\n",
    "    if i % 1000 == 0: \n",
    "        print(loss)\n",
    "\n",
    "model.eval()\n",
    "with torch.no_grad():\n",
    "    y_pred = nn.functional.sigmoid(model(X)) # model will be predicted and sent to sigmoid function to get the values from 0 to 1 only\n",
    "    print(y_pred)\n",
    "    print(y_pred.min())\n",
    "    print(y_pred.max())"
   ]
  },
  {
   "cell_type": "markdown",
   "id": "c781b133",
   "metadata": {},
   "source": [
    "Now how to evaluate the model with performance metrics"
   ]
  },
  {
   "cell_type": "code",
   "execution_count": 71,
   "id": "6f70e7a1",
   "metadata": {},
   "outputs": [
    {
     "name": "stdout",
     "output_type": "stream",
     "text": [
      "tensor(0.7042, grad_fn=<BinaryCrossEntropyWithLogitsBackward0>)\n",
      "tensor(0.2250, grad_fn=<BinaryCrossEntropyWithLogitsBackward0>)\n",
      "tensor(0.1641, grad_fn=<BinaryCrossEntropyWithLogitsBackward0>)\n",
      "tensor(0.1367, grad_fn=<BinaryCrossEntropyWithLogitsBackward0>)\n",
      "tensor(0.1207, grad_fn=<BinaryCrossEntropyWithLogitsBackward0>)\n",
      "tensor(0.1098, grad_fn=<BinaryCrossEntropyWithLogitsBackward0>)\n",
      "tensor(0.1019, grad_fn=<BinaryCrossEntropyWithLogitsBackward0>)\n",
      "tensor(0.0958, grad_fn=<BinaryCrossEntropyWithLogitsBackward0>)\n",
      "tensor(0.0909, grad_fn=<BinaryCrossEntropyWithLogitsBackward0>)\n",
      "tensor(0.0868, grad_fn=<BinaryCrossEntropyWithLogitsBackward0>)\n",
      "accuracy: tensor(0.9803)\n",
      "sensitivity: tensor(0.9224)\n",
      "specificity: tensor(0.9892)\n",
      "precision: tensor(0.9298)\n"
     ]
    }
   ],
   "source": [
    "import torch\n",
    "from torch import nn\n",
    "import pandas as pd\n",
    "from sklearn.feature_extraction.text import CountVectorizer\n",
    "\n",
    "df = pd.read_csv(\"./data/SMSSpamCollection\", \n",
    "                 sep=\"\\t\", \n",
    "                 names=[\"type\", \"message\"])\n",
    "\n",
    "df[\"spam\"] = df[\"type\"] == \"spam\"\n",
    "df.drop(\"type\", axis=1, inplace=True)\n",
    "\n",
    "cv = CountVectorizer(max_features=1000)\n",
    "messages = cv.fit_transform(df[\"message\"])\n",
    "\n",
    "X = torch.tensor(messages.todense(), dtype=torch.float32)\n",
    "y = torch.tensor(df[\"spam\"], dtype=torch.float32)\\\n",
    "        .reshape((-1, 1))\n",
    "\n",
    "model = nn.Linear(1000, 1)\n",
    "loss_fn = torch.nn.BCEWithLogitsLoss()\n",
    "optimizer = torch.optim.SGD(model.parameters(), lr=0.02)\n",
    "\n",
    "for i in range(0, 10000):\n",
    "    # Training pass\n",
    "    optimizer.zero_grad()\n",
    "    outputs = model(X)\n",
    "    loss = loss_fn(outputs, y)\n",
    "    loss.backward()\n",
    "    optimizer.step()\n",
    "\n",
    "    if i % 1000 == 0: \n",
    "        print(loss)\n",
    "\n",
    "model.eval()\n",
    "with torch.no_grad():\n",
    "    y_pred = nn.functional.sigmoid(model(X)) > 0.25\n",
    "    print(\"accuracy:\", (y_pred == y)\\\n",
    "        .type(torch.float32).mean())\n",
    "    \n",
    "    print(\"sensitivity:\", (y_pred[y == 1] == y[y == 1])\\\n",
    "        .type(torch.float32).mean())\n",
    "    \n",
    "    print(\"specificity:\", (y_pred[y == 0] == y[y == 0])\\\n",
    "        .type(torch.float32).mean())\n",
    "\n",
    "    print(\"precision:\", (y_pred[y_pred == 1] == y[y_pred == 1])\\\n",
    "        .type(torch.float32).mean()) \n",
    "   "
   ]
  },
  {
   "cell_type": "code",
   "execution_count": 80,
   "id": "ba473a4e",
   "metadata": {},
   "outputs": [
    {
     "name": "stdout",
     "output_type": "stream",
     "text": [
      "tensor(0.1341)\n",
      "tensor(0.8659)\n",
      "======\n",
      "tensor(0.1330)\n",
      "tensor(0.8670)\n"
     ]
    }
   ],
   "source": [
    "print((y == 1).type(torch.float32).mean())\n",
    "print((y == 0).type(torch.float32).mean())\n",
    "print(\"======\")\n",
    "print((y_pred == 1).type(torch.float32).mean())\n",
    "print((y_pred == 0).type(torch.float32).mean())"
   ]
  },
  {
   "cell_type": "code",
   "execution_count": 81,
   "id": "76d271d8",
   "metadata": {},
   "outputs": [
    {
     "name": "stdout",
     "output_type": "stream",
     "text": [
      "tensor(1.)\n",
      "tensor(0.)\n",
      "======\n",
      "tensor(0.9298)\n",
      "tensor(0.0120)\n"
     ]
    }
   ],
   "source": [
    "print((y[y == 1]).type(torch.float32).mean())\n",
    "print((y[y == 0]).type(torch.float32).mean())\n",
    "print(\"======\")\n",
    "print((y[y_pred == 1]).type(torch.float32).mean())\n",
    "print((y[y_pred == 0]).type(torch.float32).mean())"
   ]
  },
  {
   "cell_type": "code",
   "execution_count": 82,
   "id": "7edf1e63",
   "metadata": {},
   "outputs": [
    {
     "name": "stdout",
     "output_type": "stream",
     "text": [
      "tensor(0.9224)\n",
      "tensor(0.0108)\n",
      "======\n",
      "tensor(1.)\n",
      "tensor(0.)\n"
     ]
    }
   ],
   "source": [
    "print((y_pred[y == 1]).type(torch.float32).mean())\n",
    "print((y_pred[y == 0]).type(torch.float32).mean())\n",
    "print(\"======\")\n",
    "print((y_pred[y_pred == 1]).type(torch.float32).mean())\n",
    "print((y_pred[y_pred == 0]).type(torch.float32).mean())"
   ]
  },
  {
   "cell_type": "markdown",
   "id": "e25214f5",
   "metadata": {},
   "source": [
    "Let's train the model with training data and do the validation with validation data"
   ]
  },
  {
   "cell_type": "code",
   "execution_count": 83,
   "id": "34d7e105",
   "metadata": {},
   "outputs": [],
   "source": [
    "import sys\n",
    "import torch\n",
    "from torch import nn\n",
    "import pandas as pd\n",
    "from sklearn.feature_extraction.text import CountVectorizer\n",
    "\n",
    "df = pd.read_csv(\"./data/SMSSpamCollection\", \n",
    "                 sep=\"\\t\", \n",
    "                 names=[\"type\", \"message\"])\n",
    "\n",
    "df[\"spam\"] = df[\"type\"] == \"spam\"\n",
    "df.drop(\"type\", axis=1, inplace=True)\n",
    "\n",
    "df_train = df.sample(frac=0.8, random_state=0)\n",
    "df_val = df.drop(index=df_train.index)\n",
    "\n",
    "cv = CountVectorizer(max_features=5000)\n",
    "messages_train = cv.fit_transform(df_train[\"message\"])\n",
    "messages_val = cv.transform(df_val[\"message\"])\n",
    "\n",
    "X_train = torch.tensor(messages_train.todense(), dtype=torch.float32)\n",
    "y_train = torch.tensor(df_train[\"spam\"].values, dtype=torch.float32)\\\n",
    "        .reshape((-1, 1))\n",
    "\n",
    "X_val = torch.tensor(messages_val.todense(), dtype=torch.float32)\n",
    "y_val = torch.tensor(df_val[\"spam\"].values, dtype=torch.float32)\\\n",
    "        .reshape((-1, 1))\n",
    "\n",
    "model = nn.Linear(5000, 1)\n",
    "loss_fn = torch.nn.BCEWithLogitsLoss()\n",
    "optimizer = torch.optim.SGD(model.parameters(), lr=0.02)"
   ]
  },
  {
   "cell_type": "code",
   "execution_count": 84,
   "id": "79759246",
   "metadata": {},
   "outputs": [],
   "source": [
    "def evaluate_model(X, y): \n",
    "    model.eval()\n",
    "    with torch.no_grad():\n",
    "        y_pred = nn.functional.sigmoid(model(X)) > 0.25\n",
    "        print(\"accuracy:\", (y_pred == y)\\\n",
    "            .type(torch.float32).mean())\n",
    "        \n",
    "        print(\"sensitivity:\", (y_pred[y == 1] == y[y == 1])\\\n",
    "            .type(torch.float32).mean())\n",
    "        \n",
    "        print(\"specificity:\", (y_pred[y == 0] == y[y == 0])\\\n",
    "            .type(torch.float32).mean())\n",
    "\n",
    "        print(\"precision:\", (y_pred[y_pred == 1] == y[y_pred == 1])\\\n",
    "            .type(torch.float32).mean())"
   ]
  },
  {
   "cell_type": "code",
   "execution_count": 85,
   "id": "14ee3bfe",
   "metadata": {},
   "outputs": [
    {
     "name": "stdout",
     "output_type": "stream",
     "text": [
      "tensor(0.6917, grad_fn=<BinaryCrossEntropyWithLogitsBackward0>)\n",
      "Evaluating on the training data\n",
      "accuracy: tensor(0.9632)\n",
      "sensitivity: tensor(0.8569)\n",
      "specificity: tensor(0.9800)\n",
      "precision: tensor(0.8712)\n",
      "Evaluating on the validation data\n",
      "accuracy: tensor(0.9632)\n",
      "sensitivity: tensor(0.8633)\n",
      "specificity: tensor(0.9774)\n",
      "precision: tensor(0.8451)\n"
     ]
    }
   ],
   "source": [
    "for i in range(0, 1000): # Change from 1000, 5000, to 10000 and see the differen\n",
    "    # Training pass\n",
    "    optimizer.zero_grad()\n",
    "    outputs = model(X_train)\n",
    "    loss = loss_fn(outputs, y_train)\n",
    "    loss.backward()\n",
    "    optimizer.step()\n",
    "\n",
    "    if i % 1000 == 0: \n",
    "        print(loss) \n",
    "        \n",
    "print(\"Evaluating on the training data\")\n",
    "evaluate_model(X_train, y_train)\n",
    "\n",
    "print(\"Evaluating on the validation data\")\n",
    "evaluate_model(X_val, y_val)"
   ]
  },
  {
   "cell_type": "code",
   "execution_count": 86,
   "id": "8281f7e6",
   "metadata": {},
   "outputs": [
    {
     "name": "stdout",
     "output_type": "stream",
     "text": [
      "tensor(0.2218, grad_fn=<BinaryCrossEntropyWithLogitsBackward0>)\n",
      "tensor(0.1604, grad_fn=<BinaryCrossEntropyWithLogitsBackward0>)\n",
      "tensor(0.1325, grad_fn=<BinaryCrossEntropyWithLogitsBackward0>)\n",
      "tensor(0.1160, grad_fn=<BinaryCrossEntropyWithLogitsBackward0>)\n",
      "tensor(0.1047, grad_fn=<BinaryCrossEntropyWithLogitsBackward0>)\n",
      "Evaluating on the training data\n",
      "accuracy: tensor(0.9776)\n",
      "sensitivity: tensor(0.9178)\n",
      "specificity: tensor(0.9870)\n",
      "precision: tensor(0.9178)\n",
      "Evaluating on the validation data\n",
      "accuracy: tensor(0.9740)\n",
      "sensitivity: tensor(0.9137)\n",
      "specificity: tensor(0.9826)\n",
      "precision: tensor(0.8819)\n"
     ]
    }
   ],
   "source": [
    "for i in range(0, 5000): # Change from 1000, 5000, to 10000 and see the differen\n",
    "    # Training pass\n",
    "    optimizer.zero_grad()\n",
    "    outputs = model(X_train)\n",
    "    loss = loss_fn(outputs, y_train)\n",
    "    loss.backward()\n",
    "    optimizer.step()\n",
    "\n",
    "    if i % 1000 == 0: \n",
    "        print(loss) \n",
    "        \n",
    "print(\"Evaluating on the training data\")\n",
    "evaluate_model(X_train, y_train)\n",
    "\n",
    "print(\"Evaluating on the validation data\")\n",
    "evaluate_model(X_val, y_val)"
   ]
  },
  {
   "cell_type": "code",
   "execution_count": 87,
   "id": "c49e443e",
   "metadata": {},
   "outputs": [
    {
     "name": "stdout",
     "output_type": "stream",
     "text": [
      "tensor(0.0964, grad_fn=<BinaryCrossEntropyWithLogitsBackward0>)\n",
      "tensor(0.0900, grad_fn=<BinaryCrossEntropyWithLogitsBackward0>)\n",
      "tensor(0.0847, grad_fn=<BinaryCrossEntropyWithLogitsBackward0>)\n",
      "tensor(0.0804, grad_fn=<BinaryCrossEntropyWithLogitsBackward0>)\n",
      "tensor(0.0766, grad_fn=<BinaryCrossEntropyWithLogitsBackward0>)\n",
      "tensor(0.0734, grad_fn=<BinaryCrossEntropyWithLogitsBackward0>)\n",
      "tensor(0.0705, grad_fn=<BinaryCrossEntropyWithLogitsBackward0>)\n",
      "tensor(0.0680, grad_fn=<BinaryCrossEntropyWithLogitsBackward0>)\n",
      "tensor(0.0657, grad_fn=<BinaryCrossEntropyWithLogitsBackward0>)\n",
      "tensor(0.0636, grad_fn=<BinaryCrossEntropyWithLogitsBackward0>)\n",
      "Evaluating on the training data\n",
      "accuracy: tensor(0.9841)\n",
      "sensitivity: tensor(0.9391)\n",
      "specificity: tensor(0.9912)\n",
      "precision: tensor(0.9438)\n",
      "Evaluating on the validation data\n",
      "accuracy: tensor(0.9794)\n",
      "sensitivity: tensor(0.9209)\n",
      "specificity: tensor(0.9877)\n",
      "precision: tensor(0.9143)\n"
     ]
    }
   ],
   "source": [
    "for i in range(0, 10000): # Change from 1000, 5000, to 10000 and see the differen\n",
    "    # Training pass\n",
    "    optimizer.zero_grad()\n",
    "    outputs = model(X_train)\n",
    "    loss = loss_fn(outputs, y_train)\n",
    "    loss.backward()\n",
    "    optimizer.step()\n",
    "\n",
    "    if i % 1000 == 0:\n",
    "        print(loss)\n",
    "\n",
    "print(\"Evaluating on the training data\")\n",
    "evaluate_model(X_train, y_train)\n",
    "\n",
    "print(\"Evaluating on the validation data\")\n",
    "evaluate_model(X_val, y_val)"
   ]
  },
  {
   "cell_type": "markdown",
   "id": "e37a0a60",
   "metadata": {},
   "source": [
    "If you observe the above one, it has a good precision than others"
   ]
  },
  {
   "cell_type": "markdown",
   "id": "f8386dce",
   "metadata": {},
   "source": [
    "Now the model is ready for testing"
   ]
  },
  {
   "cell_type": "markdown",
   "id": "cf70dae3",
   "metadata": {},
   "source": [
    "### Main code"
   ]
  },
  {
   "cell_type": "code",
   "execution_count": 88,
   "id": "4793ba3f",
   "metadata": {},
   "outputs": [
    {
     "name": "stdout",
     "output_type": "stream",
     "text": [
      "tensor(0.6972, grad_fn=<BinaryCrossEntropyWithLogitsBackward0>)\n",
      "tensor(0.2250, grad_fn=<BinaryCrossEntropyWithLogitsBackward0>)\n",
      "tensor(0.1642, grad_fn=<BinaryCrossEntropyWithLogitsBackward0>)\n",
      "tensor(0.1366, grad_fn=<BinaryCrossEntropyWithLogitsBackward0>)\n",
      "tensor(0.1203, grad_fn=<BinaryCrossEntropyWithLogitsBackward0>)\n",
      "tensor(0.1093, grad_fn=<BinaryCrossEntropyWithLogitsBackward0>)\n",
      "tensor(0.1013, grad_fn=<BinaryCrossEntropyWithLogitsBackward0>)\n",
      "tensor(0.0950, grad_fn=<BinaryCrossEntropyWithLogitsBackward0>)\n",
      "tensor(0.0900, grad_fn=<BinaryCrossEntropyWithLogitsBackward0>)\n",
      "tensor(0.0858, grad_fn=<BinaryCrossEntropyWithLogitsBackward0>)\n",
      "Evaluating on the training data\n",
      "accuracy: tensor(0.9787)\n",
      "sensitivity: tensor(0.9211)\n",
      "specificity: tensor(0.9878)\n",
      "precision: tensor(0.9226)\n",
      "Evaluating on the validation data\n",
      "accuracy: tensor(0.9740)\n",
      "sensitivity: tensor(0.9137)\n",
      "specificity: tensor(0.9826)\n",
      "precision: tensor(0.8819)\n",
      "tensor([[0.0524],\n",
      "        [0.6096],\n",
      "        [0.0129]])\n"
     ]
    }
   ],
   "source": [
    "import sys\n",
    "import torch\n",
    "from torch import nn\n",
    "import pandas as pd\n",
    "from sklearn.feature_extraction.text import CountVectorizer\n",
    "\n",
    "df = pd.read_csv(\"./data/SMSSpamCollection\", \n",
    "                 sep=\"\\t\", \n",
    "                 names=[\"type\", \"message\"])\n",
    "\n",
    "df[\"spam\"] = df[\"type\"] == \"spam\"\n",
    "df.drop(\"type\", axis=1, inplace=True)\n",
    "\n",
    "df_train = df.sample(frac=0.8, random_state=0)\n",
    "df_val = df.drop(index=df_train.index)\n",
    "\n",
    "cv = CountVectorizer(max_features=1000)\n",
    "messages_train = cv.fit_transform(df_train[\"message\"])\n",
    "messages_val = cv.transform(df_val[\"message\"])\n",
    "\n",
    "X_train = torch.tensor(messages_train.todense(), dtype=torch.float32)\n",
    "y_train = torch.tensor(df_train[\"spam\"].values, dtype=torch.float32)\\\n",
    "        .reshape((-1, 1))\n",
    "\n",
    "X_val = torch.tensor(messages_val.todense(), dtype=torch.float32)\n",
    "y_val = torch.tensor(df_val[\"spam\"].values, dtype=torch.float32)\\\n",
    "        .reshape((-1, 1))\n",
    "\n",
    "model = nn.Linear(1000, 1)\n",
    "loss_fn = torch.nn.BCEWithLogitsLoss()\n",
    "optimizer = torch.optim.SGD(model.parameters(), lr=0.02)\n",
    "\n",
    "for i in range(0, 10000):\n",
    "    # Training pass\n",
    "    optimizer.zero_grad()\n",
    "    outputs = model(X_train)\n",
    "    loss = loss_fn(outputs, y_train)\n",
    "    loss.backward()\n",
    "    optimizer.step()\n",
    "\n",
    "    if i % 1000 == 0: \n",
    "        print(loss)\n",
    "\n",
    "def evaluate_model(X, y): \n",
    "    model.eval()\n",
    "    with torch.no_grad():\n",
    "        y_pred = nn.functional.sigmoid(model(X)) > 0.25\n",
    "        print(\"accuracy:\", (y_pred == y)\\\n",
    "            .type(torch.float32).mean())\n",
    "        \n",
    "        print(\"sensitivity:\", (y_pred[y == 1] == y[y == 1])\\\n",
    "            .type(torch.float32).mean())\n",
    "        \n",
    "        print(\"specificity:\", (y_pred[y == 0] == y[y == 0])\\\n",
    "            .type(torch.float32).mean())\n",
    "\n",
    "        print(\"precision:\", (y_pred[y_pred == 1] == y[y_pred == 1])\\\n",
    "            .type(torch.float32).mean()) \n",
    "        \n",
    "print(\"Evaluating on the training data\")\n",
    "evaluate_model(X_train, y_train)\n",
    "\n",
    "print(\"Evaluating on the validation data\")\n",
    "evaluate_model(X_val, y_val)\n",
    "\n",
    "custom_messages = cv.transform([\n",
    "    \"We have release a new product, do you want to buy it?\", \n",
    "    \"Winner! Great deal, call us to get this product for free\",\n",
    "    \"Tomorrow is my birthday, do you come to the party?\"\n",
    "])\n",
    "\n",
    "X_custom = torch.tensor(custom_messages.todense(), dtype=torch.float32)\n",
    "\n",
    "model.eval()\n",
    "with torch.no_grad():\n",
    "    pred = nn.functional.sigmoid(model(X_custom))\n",
    "    print(pred)\n"
   ]
  },
  {
   "cell_type": "markdown",
   "id": "5b120058",
   "metadata": {},
   "source": []
  },
  {
   "cell_type": "markdown",
   "id": "47426f95",
   "metadata": {},
   "source": [
    "### Another way using transformers"
   ]
  },
  {
   "cell_type": "markdown",
   "id": "f2626d3f",
   "metadata": {},
   "source": [
    "Normal way to generate embeddings"
   ]
  },
  {
   "cell_type": "code",
   "execution_count": 93,
   "id": "1319195d",
   "metadata": {},
   "outputs": [
    {
     "name": "stdout",
     "output_type": "stream",
     "text": [
      "{'input_ids': [[0, 170, 33, 800, 10, 92, 1152, 6, 109, 47, 236, 7, 907, 24, 116, 2], [0, 46722, 328, 2860, 432, 6, 486, 201, 7, 120, 42, 1152, 13, 481, 2], [0, 38849, 16, 127, 4115, 6, 109, 47, 283, 7, 5, 537, 116, 2]], 'attention_mask': [[1, 1, 1, 1, 1, 1, 1, 1, 1, 1, 1, 1, 1, 1, 1, 1], [1, 1, 1, 1, 1, 1, 1, 1, 1, 1, 1, 1, 1, 1, 1], [1, 1, 1, 1, 1, 1, 1, 1, 1, 1, 1, 1, 1, 1]]}\n"
     ]
    }
   ],
   "source": [
    "from transformers import BartTokenizer, BartModel\n",
    "import torch\n",
    "from torch import nn\n",
    "\n",
    "messages = [\n",
    "    \"We have release a new product, do you want to buy it?\", \n",
    "    \"Winner! Great deal, call us to get this product for free\",\n",
    "    \"Tomorrow is my birthday, do you come to the party?\",\n",
    "]\n",
    "\n",
    "tokenizer = BartTokenizer.from_pretrained(\"facebook/bart-base\")\n",
    "out = tokenizer(messages)\n",
    "print(out)"
   ]
  },
  {
   "cell_type": "code",
   "execution_count": 96,
   "id": "e89ea943",
   "metadata": {},
   "outputs": [
    {
     "name": "stdout",
     "output_type": "stream",
     "text": [
      "{'input_ids': [[0, 170, 33, 800, 10, 92, 1152, 6, 109, 47, 236, 7, 907, 24, 116, 2], [0, 46722, 328, 2860, 432, 6, 486, 201, 7, 120, 42, 1152, 13, 481, 2, 1], [0, 38849, 16, 127, 4115, 6, 109, 47, 283, 7, 5, 537, 116, 2, 1, 1]], 'attention_mask': [[1, 1, 1, 1, 1, 1, 1, 1, 1, 1, 1, 1, 1, 1, 1, 1], [1, 1, 1, 1, 1, 1, 1, 1, 1, 1, 1, 1, 1, 1, 1, 0], [1, 1, 1, 1, 1, 1, 1, 1, 1, 1, 1, 1, 1, 1, 0, 0]]}\n"
     ]
    }
   ],
   "source": [
    "# Observe the padding difference\n",
    "out = tokenizer(messages, padding=True)\n",
    "print(out)"
   ]
  },
  {
   "cell_type": "code",
   "execution_count": 95,
   "id": "6a47b8b1",
   "metadata": {},
   "outputs": [
    {
     "name": "stdout",
     "output_type": "stream",
     "text": [
      "{'input_ids': [[0, 170, 33, 800, 10, 92, 1152, 6, 109, 47, 236, 7, 907, 24, 116, 2], [0, 46722, 328, 2860, 432, 6, 486, 201, 7, 120, 42, 1152, 13, 481, 2, 1], [0, 38849, 16, 127, 4115, 6, 109, 47, 283, 7, 5, 537, 116, 2, 1, 1]], 'attention_mask': [[1, 1, 1, 1, 1, 1, 1, 1, 1, 1, 1, 1, 1, 1, 1, 1], [1, 1, 1, 1, 1, 1, 1, 1, 1, 1, 1, 1, 1, 1, 1, 0], [1, 1, 1, 1, 1, 1, 1, 1, 1, 1, 1, 1, 1, 1, 0, 0]]}\n"
     ]
    }
   ],
   "source": [
    "# Now it says to process only 512 tokens to process. Only 512 tokens not 512 characters. If it exceed 512 tokens do the truncation\n",
    "out = tokenizer(messages, \n",
    "                padding=True, \n",
    "                max_length=512, \n",
    "                truncation=True) # \n",
    "print(out)"
   ]
  },
  {
   "cell_type": "code",
   "execution_count": 103,
   "id": "941a9fb0",
   "metadata": {},
   "outputs": [
    {
     "name": "stdout",
     "output_type": "stream",
     "text": [
      "{'input_ids': tensor([[    0,   170,    33,   800,    10,    92,  1152,     6,   109,    47,\n",
      "           236,     7,   907,    24,   116,     2],\n",
      "        [    0, 46722,   328,  2860,   432,     6,   486,   201,     7,   120,\n",
      "            42,  1152,    13,   481,     2,     1],\n",
      "        [    0, 38849,    16,   127,  4115,     6,   109,    47,   283,     7,\n",
      "             5,   537,   116,     2,     1,     1]]), 'attention_mask': tensor([[1, 1, 1, 1, 1, 1, 1, 1, 1, 1, 1, 1, 1, 1, 1, 1],\n",
      "        [1, 1, 1, 1, 1, 1, 1, 1, 1, 1, 1, 1, 1, 1, 1, 0],\n",
      "        [1, 1, 1, 1, 1, 1, 1, 1, 1, 1, 1, 1, 1, 1, 0, 0]])}\n",
      "torch.Size([3, 16, 768])\n",
      "torch.Size([3, 768])\n",
      "tensor([-4.1475e-01, -9.5950e-01, -1.9372e+00, -1.8202e+00, -1.3529e+00,\n",
      "        -3.2617e-01, -4.3142e-02, -2.8496e-01, -4.4574e-01, -2.8201e+00,\n",
      "        -7.7632e-01,  9.4290e-01,  3.7461e-01,  3.3576e-01,  5.2033e-01,\n",
      "         7.1250e-01, -9.4961e-01,  7.0305e-01, -3.9577e-01, -1.0670e+00,\n",
      "         2.0777e-01, -1.6843e-01, -1.0866e+00,  8.7861e-01,  3.0825e-01,\n",
      "        -8.2243e-01,  5.6214e-01,  2.9970e+00,  3.1303e-01, -3.6227e+00,\n",
      "         6.2353e-01,  3.4955e-01,  1.5166e-01, -9.7267e-01, -1.5525e+00,\n",
      "         1.6685e+00, -1.1180e-01,  1.4668e+00,  1.0774e-01, -2.3462e-01,\n",
      "         3.8726e-01,  1.2186e+00,  4.9061e-01, -4.8987e-01,  3.9203e-01,\n",
      "         4.2587e-01, -1.9299e+00,  5.9904e-01, -6.1466e-01,  7.6263e-01,\n",
      "        -1.3223e+00,  6.8178e-01, -8.5019e-01,  1.1885e-01, -6.4347e-02,\n",
      "        -1.0802e+00,  3.9521e-01, -1.3715e-02, -1.4325e-01,  3.8025e-01,\n",
      "         2.1685e-01,  7.3130e-01,  3.3559e-01,  6.3142e-01, -7.0818e-01,\n",
      "        -1.4830e-01,  7.6586e-01,  5.2708e-01,  9.9074e-01,  1.5059e-01,\n",
      "         3.7120e-01, -2.2960e+00, -5.4099e-01,  6.0844e-02, -6.0287e-01,\n",
      "         4.0135e-01, -1.3555e+00, -8.2851e-01,  5.8254e-02, -5.3966e-01,\n",
      "         3.3954e-01, -4.1404e-01,  7.1217e-01,  7.1192e-02,  3.3282e-01,\n",
      "        -8.0114e-01, -1.8887e-01,  1.0675e-01,  6.4967e-01,  7.1149e-02,\n",
      "        -5.4697e-01,  2.0469e-01,  1.0316e+00, -2.8317e-01,  7.7322e-01,\n",
      "         1.8169e+00,  1.3140e-01, -1.0399e+00, -1.5442e-01, -1.8674e-01,\n",
      "         1.1935e+00,  8.4956e-01, -1.1487e+00,  1.8479e-01,  1.7713e+00,\n",
      "         2.9089e-01,  1.0326e+00,  5.9302e-01,  4.7164e-01,  2.2687e-01,\n",
      "        -1.4431e+00,  2.6868e-01,  6.6778e-01, -1.5047e-01, -7.7921e-01,\n",
      "        -4.5424e-01, -1.4516e+00, -7.8665e-01,  2.0442e+00, -4.3260e-01,\n",
      "         2.0610e+00,  7.0859e-01, -7.7400e-01,  7.4771e-01,  1.1789e-01,\n",
      "        -2.6061e-02, -1.0395e+00,  7.3904e-01, -1.1985e+00, -1.8468e-01,\n",
      "         8.6259e-01,  1.5406e+00,  1.3009e+00, -9.2566e-02,  2.5857e-01,\n",
      "        -1.3698e+00,  4.3143e-01,  9.4272e-01,  9.5243e-01, -3.1455e-01,\n",
      "         1.1327e-01, -8.5425e-01, -2.0648e-01, -9.7961e-01,  1.7658e-01,\n",
      "         2.2374e-01, -9.8801e-02, -1.4849e-01,  3.2218e-01,  7.8808e-01,\n",
      "         2.5684e-01,  7.6109e-01,  6.6792e-01,  4.9622e-01, -4.2776e-02,\n",
      "         7.5357e-01, -3.7806e-01,  9.1128e-01,  8.9477e-01, -2.5515e-01,\n",
      "        -6.1028e-01,  1.0094e-01, -4.0385e-01,  5.1562e-02, -2.6430e-01,\n",
      "        -5.6223e-01,  4.2568e-01,  6.4352e-01,  8.1615e-01,  2.2419e-01,\n",
      "        -6.2836e-02,  7.7046e-01, -1.1277e+00,  9.8505e-01, -2.1810e-01,\n",
      "        -5.7274e-01, -6.7072e-01, -5.3110e-01,  1.3541e-01,  6.0107e-01,\n",
      "         4.3962e-01,  1.8937e-01,  4.5798e-01, -1.1746e+00,  4.9404e-01,\n",
      "         7.9294e-01,  7.9963e-01,  5.7125e-01, -7.7112e-01, -1.0891e+00,\n",
      "         6.6052e-01,  3.8090e-01,  1.8508e-01, -8.2274e-01, -1.5393e-01,\n",
      "         3.9580e-01, -3.0838e-01,  1.3217e+00,  1.0522e+00,  1.8827e-01,\n",
      "         1.3554e+00, -1.1751e-01,  6.2035e-01,  5.5142e-01,  1.9135e+00,\n",
      "        -5.8111e-01,  6.9197e-01, -2.2210e-01, -3.9427e-01,  4.9954e-01,\n",
      "        -4.7491e-01, -5.1088e-02,  9.0249e-01,  1.0499e+00, -7.2501e-01,\n",
      "         6.9397e-02, -1.3099e-01, -8.0542e-01,  1.7105e+00, -1.4883e+00,\n",
      "         3.4443e-01, -1.1071e+00,  1.1600e+00,  2.1013e-01,  1.1625e+00,\n",
      "         3.8705e-01, -5.8038e-01,  1.7525e+00,  3.4043e-01,  4.5692e-01,\n",
      "         5.6630e-01, -2.2989e-02, -1.4226e-01, -3.5858e-01, -2.0539e-01,\n",
      "         1.0087e+00, -1.2032e+00,  1.1797e+00, -1.4366e+00, -5.3436e-01,\n",
      "         1.1397e-01,  2.2150e+00,  9.5714e-01,  1.6787e+00, -7.7719e-01,\n",
      "         8.8115e-01,  2.6390e-01, -3.4971e-01,  9.6814e-01,  7.4955e-01,\n",
      "        -5.3866e-01,  5.1850e-01, -1.3745e+00, -5.3499e-01,  2.8552e-01,\n",
      "        -6.2070e-01,  3.9283e-01,  7.1961e-01, -6.6272e-02,  6.3013e-01,\n",
      "        -7.6092e-01,  1.2916e-01, -5.2718e-01, -4.8940e-01,  5.4991e-01,\n",
      "         3.2553e-01, -2.4546e-01,  1.0580e+00,  2.0011e-02, -8.6345e-01,\n",
      "        -9.9340e-01,  5.9760e-02,  2.5060e-01, -4.0710e-01,  7.3701e-01,\n",
      "        -3.7636e-01,  9.4704e-02, -2.5705e-01, -4.8306e-01,  1.2695e+00,\n",
      "         1.3508e+00,  1.2664e+00,  9.7701e-01, -2.0097e+00,  2.3033e-01,\n",
      "        -2.6531e-01,  4.9801e-01,  5.6048e-01,  4.4079e-02, -2.2131e-01,\n",
      "         1.6945e+00,  1.3591e+00, -1.1824e+00, -3.9429e-01,  1.4459e+00,\n",
      "        -5.0818e-01, -1.2323e+00,  1.8119e-01, -6.0612e-01,  1.4180e-01,\n",
      "        -1.2813e+00,  8.3170e-01, -8.5895e-03,  1.0103e+00, -6.4637e-02,\n",
      "         2.0448e-01, -5.9049e-02, -8.4107e-02, -4.2917e-01, -8.7000e-01,\n",
      "         8.8375e-01,  3.1787e-01, -4.0937e-01, -5.6909e-02,  1.3654e+00,\n",
      "         1.1932e+00,  3.2359e-01, -4.6136e-01, -2.2596e-01,  7.1680e-02,\n",
      "         9.9944e-01,  5.0000e-01, -3.4226e-01, -1.3771e-01, -3.8507e-01,\n",
      "        -2.3808e-02,  4.7299e-01, -1.5213e-01,  7.3155e-01,  1.5441e+00,\n",
      "        -3.1469e-01,  5.9238e-01,  4.2674e+00,  4.1413e-01,  1.6818e-01,\n",
      "        -1.2494e+00,  2.7738e-01,  7.4282e-02,  2.3215e-01,  3.6279e-02,\n",
      "         7.7495e-01, -2.1801e-01, -8.6731e-01,  6.0887e-01,  1.3523e+00,\n",
      "         8.0288e-01,  7.0077e-01,  1.7358e-01, -7.6069e-01, -1.6251e-01,\n",
      "        -7.6872e-01, -1.2867e+00,  8.9310e-03, -4.8212e-01,  1.5390e+00,\n",
      "        -5.8121e-01,  3.0819e-01, -5.9069e-01,  1.6313e+00,  8.9079e-01,\n",
      "         1.0093e-01, -8.9053e-01,  6.9939e-02,  2.0636e-01, -7.1217e-01,\n",
      "         2.7811e-03, -1.2153e-01,  7.6926e-01, -5.6563e-01, -2.2855e-01,\n",
      "        -1.1961e+00,  4.1718e-01,  7.0554e-01, -1.5196e+00, -1.6051e+00,\n",
      "        -1.6529e-01,  9.7834e-01, -1.5735e+00,  6.2087e-01,  6.3398e-01,\n",
      "        -6.1600e-01,  1.2622e-01,  8.4936e-02,  1.9111e-01,  1.7907e-01,\n",
      "         1.9763e+00,  1.0605e+00, -9.5546e-01, -2.1608e+00,  7.2820e-01,\n",
      "         9.9788e-01,  1.5679e-01,  1.1343e+00,  1.2692e-01,  8.6366e-01,\n",
      "         5.6870e-01, -1.1499e-02,  1.4351e+00,  4.6019e-01,  9.9197e-01,\n",
      "         1.5703e+00, -1.6681e-01,  1.3047e+00,  1.6867e-01, -1.2434e+00,\n",
      "         2.9224e+00, -2.7053e-02,  5.7483e-01,  6.5371e-01,  3.1998e-01,\n",
      "        -5.6605e-01,  2.2950e-01,  3.5763e-01,  1.4066e-01,  1.0723e+00,\n",
      "         1.4006e-01, -3.0236e-01,  2.3099e-01, -1.4623e+00, -7.5033e-01,\n",
      "         2.0951e-01, -2.6283e-01, -3.1380e-01, -1.7540e+00,  4.8429e-01,\n",
      "        -2.7652e-01,  5.0351e-01,  3.2027e-01, -2.9000e-01,  3.3029e-01,\n",
      "         3.2933e-01,  2.9229e-02,  3.7104e-01,  6.2425e-01,  2.7658e-01,\n",
      "         3.2014e-01,  5.0463e-01, -1.6570e+00, -4.1505e-01,  8.7000e-01,\n",
      "        -1.3688e+00, -2.6004e-01,  8.1837e-01, -6.3115e-01, -2.5408e-01,\n",
      "        -6.1117e-01,  1.8765e-01,  5.9824e-01,  4.5026e-01,  1.0128e+00,\n",
      "        -1.7212e-01,  1.9344e-01,  3.0133e-01,  6.9407e-01,  3.4426e-01,\n",
      "         7.7636e-01, -6.8282e-01, -2.7234e-01,  2.6596e-01, -1.3303e+00,\n",
      "        -7.2119e-01,  1.6488e-01,  1.8021e-02,  3.7510e-01, -4.0045e-01,\n",
      "        -9.2344e-02,  1.8157e-02,  1.3516e-01,  7.6951e-01,  3.3846e-01,\n",
      "        -1.2066e-01, -3.6541e-01, -4.0758e-01, -2.2845e-03, -5.8193e-01,\n",
      "         6.5466e-01,  5.0772e-01, -2.9894e-01,  2.2297e-01, -6.9664e-01,\n",
      "         4.4005e-01,  7.0804e-01, -2.1537e-01,  1.0084e+00, -7.6860e-01,\n",
      "         9.7583e-01, -3.3504e-01, -6.4838e-01,  1.7211e+00,  1.0415e+00,\n",
      "         5.8568e-01,  2.9294e-01, -2.9926e-01, -9.1095e-02,  2.0280e-01,\n",
      "         6.9967e-01, -1.1933e-01, -9.6195e+00,  3.7097e-01,  9.4654e-01,\n",
      "         3.2910e-01, -4.5670e-02,  2.1232e-01, -3.5392e-01,  1.0385e+00,\n",
      "         4.4189e-01,  1.4281e+00,  5.5003e-01,  9.7709e-01,  8.6210e-01,\n",
      "         1.1561e-01,  1.4830e+00,  1.7212e+00,  4.9961e-03, -2.7197e-01,\n",
      "        -4.3734e-01,  1.1509e-01, -1.2504e-01, -6.5717e-01,  9.6498e-01,\n",
      "        -1.0891e-01, -1.1341e+00, -3.5492e-01, -1.0765e+00, -1.3831e-01,\n",
      "        -1.1789e-01,  1.2428e+00, -3.5665e-01,  3.3932e-01, -3.3820e-01,\n",
      "        -5.0657e-02, -1.0472e+00, -6.0159e-02, -1.2930e-01,  7.4063e-01,\n",
      "        -1.1751e-01, -2.0110e-01,  2.5657e-01, -3.1756e-01,  1.0400e+00,\n",
      "        -4.7883e-01,  6.1821e-03,  9.6114e-01, -7.0611e-01, -2.3108e-01,\n",
      "        -3.2789e-02, -7.3197e-02, -3.2422e-01,  6.7265e-01,  4.5614e-03,\n",
      "         1.6397e-01,  1.1572e-01, -3.4807e-01,  3.5522e-02, -7.6326e-01,\n",
      "        -9.8880e-01,  4.2391e-01, -1.0604e+00,  4.4391e-01,  7.3092e-01,\n",
      "        -2.7843e-01,  7.7305e-01,  1.0912e-02,  1.2804e-01, -1.9877e+00,\n",
      "        -4.1987e-01, -6.7400e-02,  1.6773e+00, -2.8985e-01,  8.0948e-02,\n",
      "         3.2138e-01,  1.2680e+00, -9.1868e-01, -4.4133e-01, -2.1895e+00,\n",
      "        -1.0830e+00,  1.1698e-01, -3.4169e-02, -7.0342e-01,  1.0932e+00,\n",
      "        -1.5132e+00,  4.7418e-01, -8.1649e-01,  6.9834e-01, -1.1079e+00,\n",
      "        -1.1196e+00,  1.2320e+00,  1.0540e-01, -4.2402e-01,  2.6490e-01,\n",
      "        -3.4179e-01,  1.2152e+00,  4.1531e-01, -1.7933e+00, -5.8630e-02,\n",
      "        -3.4828e-01,  1.9136e-01,  6.0939e-01, -5.8915e-01, -8.4627e-01,\n",
      "         3.8768e-01,  5.0225e-02, -1.5636e-01, -3.7990e-01, -1.4397e-01,\n",
      "        -4.3956e-01, -3.6644e-02,  3.9146e-01,  1.1234e+00, -1.5707e+00,\n",
      "        -1.3412e+00, -1.0952e+00,  1.8899e-01, -2.7015e+00,  6.2977e-01,\n",
      "        -1.4042e-01,  2.8649e-01,  6.3594e-01,  6.1251e-02,  2.9926e-01,\n",
      "         4.1174e-01, -2.5452e-01, -4.7790e-01, -1.4842e-01,  2.8987e-02,\n",
      "         1.7393e-01,  5.4744e-01,  4.4667e-02, -1.7993e-01,  7.4249e-01,\n",
      "        -2.9704e-01,  3.4378e-01, -2.6330e-01,  1.0131e+00, -8.9129e-01,\n",
      "        -2.3721e-02,  2.7531e-01,  1.8356e-01,  7.6636e-01, -1.7368e-01,\n",
      "         5.6646e-01,  1.2159e+00,  3.5576e-01,  2.0316e-01, -6.0107e-02,\n",
      "         7.1822e-01, -1.2945e-01, -3.2068e-01, -6.7184e-01,  7.5909e-01,\n",
      "         5.0962e-01,  8.8232e-01, -5.2475e-01, -5.9834e-01, -3.5976e-01,\n",
      "        -4.7668e-01, -3.8678e-01,  2.3469e-01,  3.0678e-01, -2.4896e-02,\n",
      "        -4.8672e-01,  1.2892e+00,  1.5046e+00, -6.7389e-01,  6.8612e-01,\n",
      "         2.4584e-02,  6.8452e-01,  5.7767e-01,  5.2325e-01,  1.9233e-01,\n",
      "         9.7426e-01,  4.7114e-02,  4.7954e-01,  4.0537e-02, -4.0769e-02,\n",
      "        -8.3592e-01,  7.0256e-01,  7.6637e-01,  5.6338e-01,  5.8097e-01,\n",
      "         8.0496e-01, -5.3367e-01,  4.8584e-01, -1.5728e-01, -9.4478e-01,\n",
      "         1.1926e+00,  5.5034e-01, -1.3355e+00, -5.9969e-01, -6.5493e-01,\n",
      "         2.4563e-01, -3.4545e-01,  1.6127e-01,  7.1841e-01, -9.3089e-01,\n",
      "         4.4266e-01,  4.5890e-01,  1.0778e+00,  2.2677e+00, -4.1448e-01,\n",
      "         4.8100e-01,  1.4988e+00,  9.3322e-01, -9.7011e-01,  2.9756e-01,\n",
      "         4.0917e-02,  3.2447e-01, -7.6698e-01,  4.3748e-01,  1.1181e+00,\n",
      "         1.0649e-01,  8.1863e-01, -8.4058e-01,  1.8906e-01,  8.4732e-01,\n",
      "         2.0598e+00, -3.5787e-01,  5.7401e-01, -3.6052e-01, -1.1555e+00,\n",
      "        -1.2010e-01,  5.5122e-01, -8.8001e-01, -4.8224e-01, -3.5766e-01,\n",
      "        -1.4321e+00,  3.6758e-01, -6.9261e-01,  2.8020e-01,  1.8237e-01,\n",
      "         7.8736e-01,  5.5919e-01, -1.9522e-01,  1.2480e+00,  1.9598e-01,\n",
      "         1.9535e+00, -6.4246e-01, -1.5658e-02, -2.7994e-01,  1.5930e-01,\n",
      "         1.7171e-01,  1.5765e+00,  9.6485e-01, -6.0651e-02,  3.7454e-01,\n",
      "         3.3513e-01,  7.8092e-01, -2.6718e-01, -5.5345e-01, -2.2483e-01,\n",
      "        -4.7379e-01, -3.8963e-03,  7.0742e-01,  6.7253e-01, -9.8426e-01,\n",
      "         5.1378e-01,  9.8561e-01,  5.6448e-01,  7.5835e-01, -2.9731e-01,\n",
      "        -8.3579e-01,  6.1841e-01, -2.7562e-02, -3.1357e-01,  8.2651e-02,\n",
      "        -3.6701e-03, -2.9639e-01, -2.1399e-02])\n"
     ]
    }
   ],
   "source": [
    "out = tokenizer(messages, \n",
    "                padding=True, \n",
    "                max_length=512, \n",
    "                truncation=True, \n",
    "                return_tensors=\"pt\")\n",
    "\n",
    "bart_model = BartModel.from_pretrained(\"facebook/bart-base\")\n",
    "with torch.no_grad():\n",
    "    bart_model.eval()\n",
    "    print(out)\n",
    "    # print(*out)\n",
    "    # pred = bart_model(**out) # This sentence is same as below\n",
    "    pred = bart_model(\n",
    "        input_ids=out[\"input_ids\"], \n",
    "        attention_mask=out[\"attention_mask\"]\n",
    "    )\n",
    "    print(pred.last_hidden_state.shape) \n",
    "    embeddings = pred.last_hidden_state.mean(dim=1)\n",
    "    print(embeddings.shape)\n",
    "    print(embeddings[0, :])"
   ]
  },
  {
   "cell_type": "markdown",
   "id": "a368a148",
   "metadata": {},
   "source": [
    "torch.Size([3, 16, 768])\n",
    "there are 3 dimensions here.\n",
    "our LLM predicted 1 token at a time.\n",
    "So it took 16 iterations for each sentence\n",
    "\n",
    "\n",
    "torch.Size([3, 16, 768]) Breakdown:\n",
    "\n",
    "3 — Batch size: You passed in a batch of 3 sequences (probably 3 sentences or documents).\n",
    "\n",
    "16 — Sequence length: Each input sequence is padded or truncated to a length of 16 tokens.\n",
    "\n",
    "768 — Hidden size: Each token in the sequence is represented by a 768-dimensional vector. This is a common hidden size for BART-base (similar to BERT-base).\n",
    "\n",
    "what is last_hidden_state?\n",
    "\n",
    "It's a tensor containing the final hidden layer's output for each token in each sequence.\n",
    "\n",
    "You can think of it as a 3D matrix:\\\n",
    "For each of the 3 input sequences →\\\n",
    "For each of the 16 tokens in the sequence →\\\n",
    "There's a 768-dimensional vector representing the model's internal understanding at that position."
   ]
  },
  {
   "cell_type": "code",
   "execution_count": 104,
   "id": "74b0263c",
   "metadata": {},
   "outputs": [
    {
     "name": "stderr",
     "output_type": "stream",
     "text": [
      "100%|██████████| 3/3 [00:00<00:00,  3.01it/s]"
     ]
    },
    {
     "name": "stdout",
     "output_type": "stream",
     "text": [
      "torch.Size([3, 768])\n"
     ]
    },
    {
     "name": "stderr",
     "output_type": "stream",
     "text": [
      "\n"
     ]
    }
   ],
   "source": [
    "from transformers import BartTokenizer, BartModel\n",
    "import torch\n",
    "from torch import nn\n",
    "from tqdm import tqdm\n",
    "\n",
    "messages = [\n",
    "    \"We have release a new product, do you want to buy it?\", \n",
    "    \"Winner! Great deal, call us to get this product for free\",\n",
    "    \"Tomorrow is my birthday, do you come to the party?\",\n",
    "]\n",
    "tokenizer = BartTokenizer.from_pretrained(\"facebook/bart-base\")\n",
    "bart_model = BartModel.from_pretrained(\"facebook/bart-base\")\n",
    "\n",
    "def convert_to_embeddings(messages):\n",
    "    embeddings_list = []\n",
    "    for message in tqdm(messages):\n",
    "        out = tokenizer([message], \n",
    "                        padding=True,\n",
    "                        max_length=512, \n",
    "                        truncation=True, \n",
    "                        return_tensors=\"pt\")\n",
    "\n",
    "        with torch.no_grad():\n",
    "            bart_model.eval()\n",
    "\n",
    "            pred = bart_model(\n",
    "                input_ids=out[\"input_ids\"], \n",
    "                attention_mask=out[\"attention_mask\"]\n",
    "            )\n",
    "            embeddings = pred.last_hidden_state.mean(dim=1)\\\n",
    "                .reshape((-1)) # It is going to matrix ([1, 768]) to a vector([768]) or tensor, so it can be easily processed by the neuron \n",
    "            embeddings_list.append(embeddings)\n",
    "    return torch.stack(embeddings_list)\n",
    "X = convert_to_embeddings(messages)\n",
    "print(X.shape)\n"
   ]
  },
  {
   "cell_type": "markdown",
   "id": "da54aaa3",
   "metadata": {},
   "source": [
    "Now implement this code in the neuron. Here instead of Count Vectorizer we are using Bart model. The reason it works more accurate because it is working with meanings(LLM embeddings) not just the words(CV)"
   ]
  },
  {
   "cell_type": "code",
   "execution_count": 105,
   "id": "55e75903",
   "metadata": {},
   "outputs": [
    {
     "name": "stderr",
     "output_type": "stream",
     "text": [
      "100%|██████████| 4458/4458 [11:53<00:00,  6.25it/s]\n",
      "100%|██████████| 1114/1114 [02:13<00:00,  8.36it/s]\n"
     ]
    },
    {
     "name": "stdout",
     "output_type": "stream",
     "text": [
      "tensor(1.1423, grad_fn=<BinaryCrossEntropyWithLogitsBackward0>)\n",
      "tensor(0.0268, grad_fn=<BinaryCrossEntropyWithLogitsBackward0>)\n",
      "tensor(0.0200, grad_fn=<BinaryCrossEntropyWithLogitsBackward0>)\n",
      "tensor(0.0164, grad_fn=<BinaryCrossEntropyWithLogitsBackward0>)\n",
      "tensor(0.0140, grad_fn=<BinaryCrossEntropyWithLogitsBackward0>)\n",
      "tensor(0.0124, grad_fn=<BinaryCrossEntropyWithLogitsBackward0>)\n",
      "tensor(0.0111, grad_fn=<BinaryCrossEntropyWithLogitsBackward0>)\n",
      "tensor(0.0100, grad_fn=<BinaryCrossEntropyWithLogitsBackward0>)\n",
      "tensor(0.0092, grad_fn=<BinaryCrossEntropyWithLogitsBackward0>)\n",
      "tensor(0.0085, grad_fn=<BinaryCrossEntropyWithLogitsBackward0>)\n",
      "Evaluating on the training data\n",
      "accuracy: tensor(0.9989)\n",
      "sensitivity: tensor(0.9984)\n",
      "specificity: tensor(0.9990)\n",
      "precision: tensor(0.9935)\n",
      "Evaluating on the validation data\n",
      "accuracy: tensor(0.9928)\n",
      "sensitivity: tensor(0.9856)\n",
      "specificity: tensor(0.9938)\n",
      "precision: tensor(0.9580)\n"
     ]
    },
    {
     "name": "stderr",
     "output_type": "stream",
     "text": [
      "100%|██████████| 3/3 [00:00<00:00, 11.72it/s]"
     ]
    },
    {
     "name": "stdout",
     "output_type": "stream",
     "text": [
      "tensor([[3.2270e-03],\n",
      "        [8.5227e-01],\n",
      "        [5.1804e-07]])\n"
     ]
    },
    {
     "name": "stderr",
     "output_type": "stream",
     "text": [
      "\n"
     ]
    }
   ],
   "source": [
    "import sys\n",
    "import torch\n",
    "from torch import nn\n",
    "import pandas as pd\n",
    "from transformers import BartTokenizer, BartModel\n",
    "from tqdm import tqdm\n",
    "from sklearn.feature_extraction.text import CountVectorizer\n",
    "\n",
    "tokenizer = BartTokenizer.from_pretrained(\"facebook/bart-base\")\n",
    "bart_model = BartModel.from_pretrained(\"facebook/bart-base\")\n",
    "\n",
    "def convert_to_embeddings(messages):\n",
    "    embeddings_list = []\n",
    "    for message in tqdm(messages):\n",
    "        out = tokenizer([message], \n",
    "                        padding=True,\n",
    "                        max_length=512, \n",
    "                        truncation=True, \n",
    "                        return_tensors=\"pt\")\n",
    "\n",
    "        with torch.no_grad():\n",
    "            bart_model.eval()\n",
    "\n",
    "            pred = bart_model(\n",
    "                input_ids=out[\"input_ids\"], \n",
    "                attention_mask=out[\"attention_mask\"]\n",
    "            )\n",
    "            embeddings = pred.last_hidden_state.mean(dim=1)\\\n",
    "                .reshape((-1))\n",
    "            embeddings_list.append(embeddings)\n",
    "    return torch.stack(embeddings_list)\n",
    "\n",
    "df = pd.read_csv(\"./data/SMSSpamCollection\", \n",
    "                 sep=\"\\t\", \n",
    "                 names=[\"type\", \"message\"])\n",
    "\n",
    "df[\"spam\"] = df[\"type\"] == \"spam\"\n",
    "df.drop(\"type\", axis=1, inplace=True)\n",
    "\n",
    "df_train = df.sample(frac=0.8, random_state=0)\n",
    "df_val = df.drop(index=df_train.index)\n",
    "\n",
    "X_train = convert_to_embeddings(df_train[\"message\"].tolist())\n",
    "X_val = convert_to_embeddings(df_val[\"message\"].tolist())\n",
    "\n",
    "y_train = torch.tensor(df_train[\"spam\"].values, dtype=torch.float32)\\\n",
    "        .reshape((-1, 1))\n",
    "\n",
    "y_val = torch.tensor(df_val[\"spam\"].values, dtype=torch.float32)\\\n",
    "        .reshape((-1, 1))\n",
    "\n",
    "model = nn.Linear(768, 1)\n",
    "loss_fn = torch.nn.BCEWithLogitsLoss()\n",
    "optimizer = torch.optim.SGD(model.parameters(), lr=0.02)\n",
    "\n",
    "for i in range(0, 10000):\n",
    "    # Training pass\n",
    "    optimizer.zero_grad()\n",
    "    outputs = model(X_train)\n",
    "    loss = loss_fn(outputs, y_train)\n",
    "    loss.backward()\n",
    "    optimizer.step()\n",
    "\n",
    "    if i % 1000 == 0: \n",
    "        print(loss)\n",
    "\n",
    "def evaluate_model(X, y): \n",
    "    model.eval()\n",
    "    with torch.no_grad():\n",
    "        y_pred = nn.functional.sigmoid(model(X)) > 0.25\n",
    "        print(\"accuracy:\", (y_pred == y)\\\n",
    "            .type(torch.float32).mean())\n",
    "        \n",
    "        print(\"sensitivity:\", (y_pred[y == 1] == y[y == 1])\\\n",
    "            .type(torch.float32).mean())\n",
    "        \n",
    "        print(\"specificity:\", (y_pred[y == 0] == y[y == 0])\\\n",
    "            .type(torch.float32).mean())\n",
    "\n",
    "        print(\"precision:\", (y_pred[y_pred == 1] == y[y_pred == 1])\\\n",
    "            .type(torch.float32).mean()) \n",
    "        \n",
    "print(\"Evaluating on the training data\")\n",
    "evaluate_model(X_train, y_train)\n",
    "\n",
    "print(\"Evaluating on the validation data\")\n",
    "evaluate_model(X_val, y_val)\n",
    "\n",
    "X_custom = convert_to_embeddings([\n",
    "    \"We have release a new product, do you want to buy it?\", \n",
    "    \"Winner! Great deal, call us to get this product for free\",\n",
    "    \"Tomorrow is my birthday, do you come to the party?\"\n",
    "])\n",
    "\n",
    "model.eval()\n",
    "with torch.no_grad():\n",
    "    pred = nn.functional.sigmoid(model(X_custom))\n",
    "    print(pred)\n"
   ]
  },
  {
   "cell_type": "markdown",
   "id": "17ed0dc3",
   "metadata": {},
   "source": [
    "### Optional"
   ]
  },
  {
   "cell_type": "code",
   "execution_count": 1,
   "id": "476232ba",
   "metadata": {},
   "outputs": [
    {
     "name": "stderr",
     "output_type": "stream",
     "text": [
      "c:\\Program Files\\Python313\\Lib\\site-packages\\tqdm\\auto.py:21: TqdmWarning: IProgress not found. Please update jupyter and ipywidgets. See https://ipywidgets.readthedocs.io/en/stable/user_install.html\n",
      "  from .autonotebook import tqdm as notebook_tqdm\n"
     ]
    },
    {
     "name": "stdout",
     "output_type": "stream",
     "text": [
      "Tokenizing and transforming training data...\n"
     ]
    },
    {
     "name": "stderr",
     "output_type": "stream",
     "text": [
      "  0%|          | 0/4457 [00:00<?, ?it/s]Passing a tuple of `past_key_values` is deprecated and will be removed in Transformers v4.58.0. You should pass an instance of `EncoderDecoderCache` instead, e.g. `past_key_values=EncoderDecoderCache.from_legacy_cache(past_key_values)`.\n",
      "  4%|▍         | 173/4457 [03:06<1:16:49,  1.08s/it]\n"
     ]
    },
    {
     "ename": "KeyboardInterrupt",
     "evalue": "",
     "output_type": "error",
     "traceback": [
      "\u001b[31m---------------------------------------------------------------------------\u001b[39m",
      "\u001b[31mKeyboardInterrupt\u001b[39m                         Traceback (most recent call last)",
      "\u001b[36mCell\u001b[39m\u001b[36m \u001b[39m\u001b[32mIn[1]\u001b[39m\u001b[32m, line 38\u001b[39m\n\u001b[32m     36\u001b[39m \u001b[38;5;28;01mfor\u001b[39;00m i \u001b[38;5;129;01min\u001b[39;00m tqdm(\u001b[38;5;28mrange\u001b[39m(\u001b[38;5;28mlen\u001b[39m(tokens_train[\u001b[33m'\u001b[39m\u001b[33minput_ids\u001b[39m\u001b[33m'\u001b[39m]))):\n\u001b[32m     37\u001b[39m     \u001b[38;5;28;01mwith\u001b[39;00m torch.no_grad():\n\u001b[32m---> \u001b[39m\u001b[32m38\u001b[39m         output = \u001b[43mmodel_bart\u001b[49m\u001b[43m(\u001b[49m\u001b[43minput_ids\u001b[49m\u001b[43m=\u001b[49m\u001b[43mtokens_train\u001b[49m\u001b[43m[\u001b[49m\u001b[33;43m'\u001b[39;49m\u001b[33;43minput_ids\u001b[39;49m\u001b[33;43m'\u001b[39;49m\u001b[43m]\u001b[49m\u001b[43m[\u001b[49m\u001b[43mi\u001b[49m\u001b[43m]\u001b[49m\u001b[43m.\u001b[49m\u001b[43munsqueeze\u001b[49m\u001b[43m(\u001b[49m\u001b[32;43m0\u001b[39;49m\u001b[43m)\u001b[49m\u001b[43m,\u001b[49m\u001b[43m \u001b[49m\n\u001b[32m     39\u001b[39m \u001b[43m                            \u001b[49m\u001b[43mattention_mask\u001b[49m\u001b[43m=\u001b[49m\u001b[43mtokens_train\u001b[49m\u001b[43m[\u001b[49m\u001b[33;43m'\u001b[39;49m\u001b[33;43mattention_mask\u001b[39;49m\u001b[33;43m'\u001b[39;49m\u001b[43m]\u001b[49m\u001b[43m[\u001b[49m\u001b[43mi\u001b[49m\u001b[43m]\u001b[49m\u001b[43m.\u001b[49m\u001b[43munsqueeze\u001b[49m\u001b[43m(\u001b[49m\u001b[32;43m0\u001b[39;49m\u001b[43m)\u001b[49m\u001b[43m)\u001b[49m\n\u001b[32m     40\u001b[39m         embeddings_train.append(output.last_hidden_state.mean(dim=\u001b[32m1\u001b[39m).squeeze(\u001b[32m0\u001b[39m))\n\u001b[32m     42\u001b[39m \u001b[38;5;66;03m# Transform validation data with progress bar\u001b[39;00m\n",
      "\u001b[36mFile \u001b[39m\u001b[32m~\\AppData\\Roaming\\Python\\Python313\\site-packages\\torch\\nn\\modules\\module.py:1773\u001b[39m, in \u001b[36mModule._wrapped_call_impl\u001b[39m\u001b[34m(self, *args, **kwargs)\u001b[39m\n\u001b[32m   1771\u001b[39m     \u001b[38;5;28;01mreturn\u001b[39;00m \u001b[38;5;28mself\u001b[39m._compiled_call_impl(*args, **kwargs)  \u001b[38;5;66;03m# type: ignore[misc]\u001b[39;00m\n\u001b[32m   1772\u001b[39m \u001b[38;5;28;01melse\u001b[39;00m:\n\u001b[32m-> \u001b[39m\u001b[32m1773\u001b[39m     \u001b[38;5;28;01mreturn\u001b[39;00m \u001b[38;5;28;43mself\u001b[39;49m\u001b[43m.\u001b[49m\u001b[43m_call_impl\u001b[49m\u001b[43m(\u001b[49m\u001b[43m*\u001b[49m\u001b[43margs\u001b[49m\u001b[43m,\u001b[49m\u001b[43m \u001b[49m\u001b[43m*\u001b[49m\u001b[43m*\u001b[49m\u001b[43mkwargs\u001b[49m\u001b[43m)\u001b[49m\n",
      "\u001b[36mFile \u001b[39m\u001b[32m~\\AppData\\Roaming\\Python\\Python313\\site-packages\\torch\\nn\\modules\\module.py:1784\u001b[39m, in \u001b[36mModule._call_impl\u001b[39m\u001b[34m(self, *args, **kwargs)\u001b[39m\n\u001b[32m   1779\u001b[39m \u001b[38;5;66;03m# If we don't have any hooks, we want to skip the rest of the logic in\u001b[39;00m\n\u001b[32m   1780\u001b[39m \u001b[38;5;66;03m# this function, and just call forward.\u001b[39;00m\n\u001b[32m   1781\u001b[39m \u001b[38;5;28;01mif\u001b[39;00m \u001b[38;5;129;01mnot\u001b[39;00m (\u001b[38;5;28mself\u001b[39m._backward_hooks \u001b[38;5;129;01mor\u001b[39;00m \u001b[38;5;28mself\u001b[39m._backward_pre_hooks \u001b[38;5;129;01mor\u001b[39;00m \u001b[38;5;28mself\u001b[39m._forward_hooks \u001b[38;5;129;01mor\u001b[39;00m \u001b[38;5;28mself\u001b[39m._forward_pre_hooks\n\u001b[32m   1782\u001b[39m         \u001b[38;5;129;01mor\u001b[39;00m _global_backward_pre_hooks \u001b[38;5;129;01mor\u001b[39;00m _global_backward_hooks\n\u001b[32m   1783\u001b[39m         \u001b[38;5;129;01mor\u001b[39;00m _global_forward_hooks \u001b[38;5;129;01mor\u001b[39;00m _global_forward_pre_hooks):\n\u001b[32m-> \u001b[39m\u001b[32m1784\u001b[39m     \u001b[38;5;28;01mreturn\u001b[39;00m \u001b[43mforward_call\u001b[49m\u001b[43m(\u001b[49m\u001b[43m*\u001b[49m\u001b[43margs\u001b[49m\u001b[43m,\u001b[49m\u001b[43m \u001b[49m\u001b[43m*\u001b[49m\u001b[43m*\u001b[49m\u001b[43mkwargs\u001b[49m\u001b[43m)\u001b[49m\n\u001b[32m   1786\u001b[39m result = \u001b[38;5;28;01mNone\u001b[39;00m\n\u001b[32m   1787\u001b[39m called_always_called_hooks = \u001b[38;5;28mset\u001b[39m()\n",
      "\u001b[36mFile \u001b[39m\u001b[32m~\\AppData\\Roaming\\Python\\Python313\\site-packages\\transformers\\models\\bart\\modeling_bart.py:1288\u001b[39m, in \u001b[36mBartModel.forward\u001b[39m\u001b[34m(self, input_ids, attention_mask, decoder_input_ids, decoder_attention_mask, head_mask, decoder_head_mask, cross_attn_head_mask, encoder_outputs, past_key_values, inputs_embeds, decoder_inputs_embeds, use_cache, output_attentions, output_hidden_states, return_dict, cache_position)\u001b[39m\n\u001b[32m   1281\u001b[39m     encoder_outputs = BaseModelOutput(\n\u001b[32m   1282\u001b[39m         last_hidden_state=encoder_outputs[\u001b[32m0\u001b[39m],\n\u001b[32m   1283\u001b[39m         hidden_states=encoder_outputs[\u001b[32m1\u001b[39m] \u001b[38;5;28;01mif\u001b[39;00m \u001b[38;5;28mlen\u001b[39m(encoder_outputs) > \u001b[32m1\u001b[39m \u001b[38;5;28;01melse\u001b[39;00m \u001b[38;5;28;01mNone\u001b[39;00m,\n\u001b[32m   1284\u001b[39m         attentions=encoder_outputs[\u001b[32m2\u001b[39m] \u001b[38;5;28;01mif\u001b[39;00m \u001b[38;5;28mlen\u001b[39m(encoder_outputs) > \u001b[32m2\u001b[39m \u001b[38;5;28;01melse\u001b[39;00m \u001b[38;5;28;01mNone\u001b[39;00m,\n\u001b[32m   1285\u001b[39m     )\n\u001b[32m   1287\u001b[39m \u001b[38;5;66;03m# decoder outputs consists of (dec_features, past_key_value, dec_hidden, dec_attn)\u001b[39;00m\n\u001b[32m-> \u001b[39m\u001b[32m1288\u001b[39m decoder_outputs = \u001b[38;5;28;43mself\u001b[39;49m\u001b[43m.\u001b[49m\u001b[43mdecoder\u001b[49m\u001b[43m(\u001b[49m\n\u001b[32m   1289\u001b[39m \u001b[43m    \u001b[49m\u001b[43minput_ids\u001b[49m\u001b[43m=\u001b[49m\u001b[43mdecoder_input_ids\u001b[49m\u001b[43m,\u001b[49m\n\u001b[32m   1290\u001b[39m \u001b[43m    \u001b[49m\u001b[43mattention_mask\u001b[49m\u001b[43m=\u001b[49m\u001b[43mdecoder_attention_mask\u001b[49m\u001b[43m,\u001b[49m\n\u001b[32m   1291\u001b[39m \u001b[43m    \u001b[49m\u001b[43mencoder_hidden_states\u001b[49m\u001b[43m=\u001b[49m\u001b[43mencoder_outputs\u001b[49m\u001b[43m[\u001b[49m\u001b[32;43m0\u001b[39;49m\u001b[43m]\u001b[49m\u001b[43m,\u001b[49m\n\u001b[32m   1292\u001b[39m \u001b[43m    \u001b[49m\u001b[43mencoder_attention_mask\u001b[49m\u001b[43m=\u001b[49m\u001b[43mattention_mask\u001b[49m\u001b[43m,\u001b[49m\n\u001b[32m   1293\u001b[39m \u001b[43m    \u001b[49m\u001b[43mhead_mask\u001b[49m\u001b[43m=\u001b[49m\u001b[43mdecoder_head_mask\u001b[49m\u001b[43m,\u001b[49m\n\u001b[32m   1294\u001b[39m \u001b[43m    \u001b[49m\u001b[43mcross_attn_head_mask\u001b[49m\u001b[43m=\u001b[49m\u001b[43mcross_attn_head_mask\u001b[49m\u001b[43m,\u001b[49m\n\u001b[32m   1295\u001b[39m \u001b[43m    \u001b[49m\u001b[43mpast_key_values\u001b[49m\u001b[43m=\u001b[49m\u001b[43mpast_key_values\u001b[49m\u001b[43m,\u001b[49m\n\u001b[32m   1296\u001b[39m \u001b[43m    \u001b[49m\u001b[43minputs_embeds\u001b[49m\u001b[43m=\u001b[49m\u001b[43mdecoder_inputs_embeds\u001b[49m\u001b[43m,\u001b[49m\n\u001b[32m   1297\u001b[39m \u001b[43m    \u001b[49m\u001b[43muse_cache\u001b[49m\u001b[43m=\u001b[49m\u001b[43muse_cache\u001b[49m\u001b[43m,\u001b[49m\n\u001b[32m   1298\u001b[39m \u001b[43m    \u001b[49m\u001b[43moutput_attentions\u001b[49m\u001b[43m=\u001b[49m\u001b[43moutput_attentions\u001b[49m\u001b[43m,\u001b[49m\n\u001b[32m   1299\u001b[39m \u001b[43m    \u001b[49m\u001b[43moutput_hidden_states\u001b[49m\u001b[43m=\u001b[49m\u001b[43moutput_hidden_states\u001b[49m\u001b[43m,\u001b[49m\n\u001b[32m   1300\u001b[39m \u001b[43m    \u001b[49m\u001b[43mreturn_dict\u001b[49m\u001b[43m=\u001b[49m\u001b[43mreturn_dict\u001b[49m\u001b[43m,\u001b[49m\n\u001b[32m   1301\u001b[39m \u001b[43m    \u001b[49m\u001b[43mcache_position\u001b[49m\u001b[43m=\u001b[49m\u001b[43mcache_position\u001b[49m\u001b[43m,\u001b[49m\n\u001b[32m   1302\u001b[39m \u001b[43m\u001b[49m\u001b[43m)\u001b[49m\n\u001b[32m   1304\u001b[39m \u001b[38;5;28;01mif\u001b[39;00m \u001b[38;5;129;01mnot\u001b[39;00m return_dict:\n\u001b[32m   1305\u001b[39m     \u001b[38;5;28;01mreturn\u001b[39;00m decoder_outputs + encoder_outputs\n",
      "\u001b[36mFile \u001b[39m\u001b[32m~\\AppData\\Roaming\\Python\\Python313\\site-packages\\torch\\nn\\modules\\module.py:1773\u001b[39m, in \u001b[36mModule._wrapped_call_impl\u001b[39m\u001b[34m(self, *args, **kwargs)\u001b[39m\n\u001b[32m   1771\u001b[39m     \u001b[38;5;28;01mreturn\u001b[39;00m \u001b[38;5;28mself\u001b[39m._compiled_call_impl(*args, **kwargs)  \u001b[38;5;66;03m# type: ignore[misc]\u001b[39;00m\n\u001b[32m   1772\u001b[39m \u001b[38;5;28;01melse\u001b[39;00m:\n\u001b[32m-> \u001b[39m\u001b[32m1773\u001b[39m     \u001b[38;5;28;01mreturn\u001b[39;00m \u001b[38;5;28;43mself\u001b[39;49m\u001b[43m.\u001b[49m\u001b[43m_call_impl\u001b[49m\u001b[43m(\u001b[49m\u001b[43m*\u001b[49m\u001b[43margs\u001b[49m\u001b[43m,\u001b[49m\u001b[43m \u001b[49m\u001b[43m*\u001b[49m\u001b[43m*\u001b[49m\u001b[43mkwargs\u001b[49m\u001b[43m)\u001b[49m\n",
      "\u001b[36mFile \u001b[39m\u001b[32m~\\AppData\\Roaming\\Python\\Python313\\site-packages\\torch\\nn\\modules\\module.py:1784\u001b[39m, in \u001b[36mModule._call_impl\u001b[39m\u001b[34m(self, *args, **kwargs)\u001b[39m\n\u001b[32m   1779\u001b[39m \u001b[38;5;66;03m# If we don't have any hooks, we want to skip the rest of the logic in\u001b[39;00m\n\u001b[32m   1780\u001b[39m \u001b[38;5;66;03m# this function, and just call forward.\u001b[39;00m\n\u001b[32m   1781\u001b[39m \u001b[38;5;28;01mif\u001b[39;00m \u001b[38;5;129;01mnot\u001b[39;00m (\u001b[38;5;28mself\u001b[39m._backward_hooks \u001b[38;5;129;01mor\u001b[39;00m \u001b[38;5;28mself\u001b[39m._backward_pre_hooks \u001b[38;5;129;01mor\u001b[39;00m \u001b[38;5;28mself\u001b[39m._forward_hooks \u001b[38;5;129;01mor\u001b[39;00m \u001b[38;5;28mself\u001b[39m._forward_pre_hooks\n\u001b[32m   1782\u001b[39m         \u001b[38;5;129;01mor\u001b[39;00m _global_backward_pre_hooks \u001b[38;5;129;01mor\u001b[39;00m _global_backward_hooks\n\u001b[32m   1783\u001b[39m         \u001b[38;5;129;01mor\u001b[39;00m _global_forward_hooks \u001b[38;5;129;01mor\u001b[39;00m _global_forward_pre_hooks):\n\u001b[32m-> \u001b[39m\u001b[32m1784\u001b[39m     \u001b[38;5;28;01mreturn\u001b[39;00m \u001b[43mforward_call\u001b[49m\u001b[43m(\u001b[49m\u001b[43m*\u001b[49m\u001b[43margs\u001b[49m\u001b[43m,\u001b[49m\u001b[43m \u001b[49m\u001b[43m*\u001b[49m\u001b[43m*\u001b[49m\u001b[43mkwargs\u001b[49m\u001b[43m)\u001b[49m\n\u001b[32m   1786\u001b[39m result = \u001b[38;5;28;01mNone\u001b[39;00m\n\u001b[32m   1787\u001b[39m called_always_called_hooks = \u001b[38;5;28mset\u001b[39m()\n",
      "\u001b[36mFile \u001b[39m\u001b[32m~\\AppData\\Roaming\\Python\\Python313\\site-packages\\transformers\\models\\bart\\modeling_bart.py:1115\u001b[39m, in \u001b[36mBartDecoder.forward\u001b[39m\u001b[34m(self, input_ids, attention_mask, encoder_hidden_states, encoder_attention_mask, head_mask, cross_attn_head_mask, past_key_values, inputs_embeds, use_cache, output_attentions, output_hidden_states, return_dict, cache_position)\u001b[39m\n\u001b[32m   1112\u001b[39m     \u001b[38;5;28;01mif\u001b[39;00m dropout_probability < \u001b[38;5;28mself\u001b[39m.layerdrop:\n\u001b[32m   1113\u001b[39m         \u001b[38;5;28;01mcontinue\u001b[39;00m\n\u001b[32m-> \u001b[39m\u001b[32m1115\u001b[39m layer_outputs = \u001b[43mdecoder_layer\u001b[49m\u001b[43m(\u001b[49m\n\u001b[32m   1116\u001b[39m \u001b[43m    \u001b[49m\u001b[43mhidden_states\u001b[49m\u001b[43m,\u001b[49m\n\u001b[32m   1117\u001b[39m \u001b[43m    \u001b[49m\u001b[43mattention_mask\u001b[49m\u001b[43m,\u001b[49m\n\u001b[32m   1118\u001b[39m \u001b[43m    \u001b[49m\u001b[43mencoder_hidden_states\u001b[49m\u001b[43m,\u001b[49m\u001b[43m  \u001b[49m\u001b[38;5;66;43;03m# as a positional argument for gradient checkpointing\u001b[39;49;00m\n\u001b[32m   1119\u001b[39m \u001b[43m    \u001b[49m\u001b[43mencoder_attention_mask\u001b[49m\u001b[43m=\u001b[49m\u001b[43mencoder_attention_mask\u001b[49m\u001b[43m,\u001b[49m\n\u001b[32m   1120\u001b[39m \u001b[43m    \u001b[49m\u001b[43mlayer_head_mask\u001b[49m\u001b[43m=\u001b[49m\u001b[43m(\u001b[49m\u001b[43mhead_mask\u001b[49m\u001b[43m[\u001b[49m\u001b[43midx\u001b[49m\u001b[43m]\u001b[49m\u001b[43m \u001b[49m\u001b[38;5;28;43;01mif\u001b[39;49;00m\u001b[43m \u001b[49m\u001b[43mhead_mask\u001b[49m\u001b[43m \u001b[49m\u001b[38;5;129;43;01mis\u001b[39;49;00m\u001b[43m \u001b[49m\u001b[38;5;129;43;01mnot\u001b[39;49;00m\u001b[43m \u001b[49m\u001b[38;5;28;43;01mNone\u001b[39;49;00m\u001b[43m \u001b[49m\u001b[38;5;28;43;01melse\u001b[39;49;00m\u001b[43m \u001b[49m\u001b[38;5;28;43;01mNone\u001b[39;49;00m\u001b[43m)\u001b[49m\u001b[43m,\u001b[49m\n\u001b[32m   1121\u001b[39m \u001b[43m    \u001b[49m\u001b[43mcross_attn_layer_head_mask\u001b[49m\u001b[43m=\u001b[49m\u001b[43m(\u001b[49m\u001b[43mcross_attn_head_mask\u001b[49m\u001b[43m[\u001b[49m\u001b[43midx\u001b[49m\u001b[43m]\u001b[49m\u001b[43m \u001b[49m\u001b[38;5;28;43;01mif\u001b[39;49;00m\u001b[43m \u001b[49m\u001b[43mcross_attn_head_mask\u001b[49m\u001b[43m \u001b[49m\u001b[38;5;129;43;01mis\u001b[39;49;00m\u001b[43m \u001b[49m\u001b[38;5;129;43;01mnot\u001b[39;49;00m\u001b[43m \u001b[49m\u001b[38;5;28;43;01mNone\u001b[39;49;00m\u001b[43m \u001b[49m\u001b[38;5;28;43;01melse\u001b[39;49;00m\u001b[43m \u001b[49m\u001b[38;5;28;43;01mNone\u001b[39;49;00m\u001b[43m)\u001b[49m\u001b[43m,\u001b[49m\n\u001b[32m   1122\u001b[39m \u001b[43m    \u001b[49m\u001b[43mpast_key_value\u001b[49m\u001b[43m=\u001b[49m\u001b[43mpast_key_values\u001b[49m\u001b[43m,\u001b[49m\n\u001b[32m   1123\u001b[39m \u001b[43m    \u001b[49m\u001b[43moutput_attentions\u001b[49m\u001b[43m=\u001b[49m\u001b[43moutput_attentions\u001b[49m\u001b[43m,\u001b[49m\n\u001b[32m   1124\u001b[39m \u001b[43m    \u001b[49m\u001b[43muse_cache\u001b[49m\u001b[43m=\u001b[49m\u001b[43muse_cache\u001b[49m\u001b[43m,\u001b[49m\n\u001b[32m   1125\u001b[39m \u001b[43m    \u001b[49m\u001b[43mcache_position\u001b[49m\u001b[43m=\u001b[49m\u001b[43mcache_position\u001b[49m\u001b[43m,\u001b[49m\n\u001b[32m   1126\u001b[39m \u001b[43m\u001b[49m\u001b[43m)\u001b[49m\n\u001b[32m   1127\u001b[39m hidden_states = layer_outputs[\u001b[32m0\u001b[39m]\n\u001b[32m   1128\u001b[39m \u001b[38;5;28;01mif\u001b[39;00m output_attentions:\n",
      "\u001b[36mFile \u001b[39m\u001b[32m~\\AppData\\Roaming\\Python\\Python313\\site-packages\\transformers\\modeling_layers.py:93\u001b[39m, in \u001b[36mGradientCheckpointingLayer.__call__\u001b[39m\u001b[34m(self, *args, **kwargs)\u001b[39m\n\u001b[32m     90\u001b[39m         logger.warning(message)\n\u001b[32m     92\u001b[39m     \u001b[38;5;28;01mreturn\u001b[39;00m \u001b[38;5;28mself\u001b[39m._gradient_checkpointing_func(partial(\u001b[38;5;28msuper\u001b[39m().\u001b[34m__call__\u001b[39m, **kwargs), *args)\n\u001b[32m---> \u001b[39m\u001b[32m93\u001b[39m \u001b[38;5;28;01mreturn\u001b[39;00m \u001b[38;5;28;43msuper\u001b[39;49m\u001b[43m(\u001b[49m\u001b[43m)\u001b[49m\u001b[43m.\u001b[49m\u001b[34;43m__call__\u001b[39;49m\u001b[43m(\u001b[49m\u001b[43m*\u001b[49m\u001b[43margs\u001b[49m\u001b[43m,\u001b[49m\u001b[43m \u001b[49m\u001b[43m*\u001b[49m\u001b[43m*\u001b[49m\u001b[43mkwargs\u001b[49m\u001b[43m)\u001b[49m\n",
      "\u001b[36mFile \u001b[39m\u001b[32m~\\AppData\\Roaming\\Python\\Python313\\site-packages\\torch\\nn\\modules\\module.py:1773\u001b[39m, in \u001b[36mModule._wrapped_call_impl\u001b[39m\u001b[34m(self, *args, **kwargs)\u001b[39m\n\u001b[32m   1771\u001b[39m     \u001b[38;5;28;01mreturn\u001b[39;00m \u001b[38;5;28mself\u001b[39m._compiled_call_impl(*args, **kwargs)  \u001b[38;5;66;03m# type: ignore[misc]\u001b[39;00m\n\u001b[32m   1772\u001b[39m \u001b[38;5;28;01melse\u001b[39;00m:\n\u001b[32m-> \u001b[39m\u001b[32m1773\u001b[39m     \u001b[38;5;28;01mreturn\u001b[39;00m \u001b[38;5;28;43mself\u001b[39;49m\u001b[43m.\u001b[49m\u001b[43m_call_impl\u001b[49m\u001b[43m(\u001b[49m\u001b[43m*\u001b[49m\u001b[43margs\u001b[49m\u001b[43m,\u001b[49m\u001b[43m \u001b[49m\u001b[43m*\u001b[49m\u001b[43m*\u001b[49m\u001b[43mkwargs\u001b[49m\u001b[43m)\u001b[49m\n",
      "\u001b[36mFile \u001b[39m\u001b[32m~\\AppData\\Roaming\\Python\\Python313\\site-packages\\torch\\nn\\modules\\module.py:1784\u001b[39m, in \u001b[36mModule._call_impl\u001b[39m\u001b[34m(self, *args, **kwargs)\u001b[39m\n\u001b[32m   1779\u001b[39m \u001b[38;5;66;03m# If we don't have any hooks, we want to skip the rest of the logic in\u001b[39;00m\n\u001b[32m   1780\u001b[39m \u001b[38;5;66;03m# this function, and just call forward.\u001b[39;00m\n\u001b[32m   1781\u001b[39m \u001b[38;5;28;01mif\u001b[39;00m \u001b[38;5;129;01mnot\u001b[39;00m (\u001b[38;5;28mself\u001b[39m._backward_hooks \u001b[38;5;129;01mor\u001b[39;00m \u001b[38;5;28mself\u001b[39m._backward_pre_hooks \u001b[38;5;129;01mor\u001b[39;00m \u001b[38;5;28mself\u001b[39m._forward_hooks \u001b[38;5;129;01mor\u001b[39;00m \u001b[38;5;28mself\u001b[39m._forward_pre_hooks\n\u001b[32m   1782\u001b[39m         \u001b[38;5;129;01mor\u001b[39;00m _global_backward_pre_hooks \u001b[38;5;129;01mor\u001b[39;00m _global_backward_hooks\n\u001b[32m   1783\u001b[39m         \u001b[38;5;129;01mor\u001b[39;00m _global_forward_hooks \u001b[38;5;129;01mor\u001b[39;00m _global_forward_pre_hooks):\n\u001b[32m-> \u001b[39m\u001b[32m1784\u001b[39m     \u001b[38;5;28;01mreturn\u001b[39;00m \u001b[43mforward_call\u001b[49m\u001b[43m(\u001b[49m\u001b[43m*\u001b[49m\u001b[43margs\u001b[49m\u001b[43m,\u001b[49m\u001b[43m \u001b[49m\u001b[43m*\u001b[49m\u001b[43m*\u001b[49m\u001b[43mkwargs\u001b[49m\u001b[43m)\u001b[49m\n\u001b[32m   1786\u001b[39m result = \u001b[38;5;28;01mNone\u001b[39;00m\n\u001b[32m   1787\u001b[39m called_always_called_hooks = \u001b[38;5;28mset\u001b[39m()\n",
      "\u001b[36mFile \u001b[39m\u001b[32m~\\AppData\\Roaming\\Python\\Python313\\site-packages\\transformers\\models\\bart\\modeling_bart.py:430\u001b[39m, in \u001b[36mBartDecoderLayer.forward\u001b[39m\u001b[34m(self, hidden_states, attention_mask, encoder_hidden_states, encoder_attention_mask, layer_head_mask, cross_attn_layer_head_mask, past_key_value, output_attentions, use_cache, cache_position)\u001b[39m\n\u001b[32m    427\u001b[39m \u001b[38;5;28;01mif\u001b[39;00m encoder_hidden_states \u001b[38;5;129;01mis\u001b[39;00m \u001b[38;5;129;01mnot\u001b[39;00m \u001b[38;5;28;01mNone\u001b[39;00m:\n\u001b[32m    428\u001b[39m     residual = hidden_states\n\u001b[32m--> \u001b[39m\u001b[32m430\u001b[39m     hidden_states, cross_attn_weights = \u001b[38;5;28;43mself\u001b[39;49m\u001b[43m.\u001b[49m\u001b[43mencoder_attn\u001b[49m\u001b[43m(\u001b[49m\n\u001b[32m    431\u001b[39m \u001b[43m        \u001b[49m\u001b[43mhidden_states\u001b[49m\u001b[43m=\u001b[49m\u001b[43mhidden_states\u001b[49m\u001b[43m,\u001b[49m\n\u001b[32m    432\u001b[39m \u001b[43m        \u001b[49m\u001b[43mkey_value_states\u001b[49m\u001b[43m=\u001b[49m\u001b[43mencoder_hidden_states\u001b[49m\u001b[43m,\u001b[49m\n\u001b[32m    433\u001b[39m \u001b[43m        \u001b[49m\u001b[43mattention_mask\u001b[49m\u001b[43m=\u001b[49m\u001b[43mencoder_attention_mask\u001b[49m\u001b[43m,\u001b[49m\n\u001b[32m    434\u001b[39m \u001b[43m        \u001b[49m\u001b[43mlayer_head_mask\u001b[49m\u001b[43m=\u001b[49m\u001b[43mcross_attn_layer_head_mask\u001b[49m\u001b[43m,\u001b[49m\n\u001b[32m    435\u001b[39m \u001b[43m        \u001b[49m\u001b[43mpast_key_value\u001b[49m\u001b[43m=\u001b[49m\u001b[43mpast_key_value\u001b[49m\u001b[43m,\u001b[49m\n\u001b[32m    436\u001b[39m \u001b[43m        \u001b[49m\u001b[43moutput_attentions\u001b[49m\u001b[43m=\u001b[49m\u001b[43moutput_attentions\u001b[49m\u001b[43m,\u001b[49m\n\u001b[32m    437\u001b[39m \u001b[43m        \u001b[49m\u001b[43mcache_position\u001b[49m\u001b[43m=\u001b[49m\u001b[43mcache_position\u001b[49m\u001b[43m,\u001b[49m\n\u001b[32m    438\u001b[39m \u001b[43m    \u001b[49m\u001b[43m)\u001b[49m\n\u001b[32m    439\u001b[39m     hidden_states = nn.functional.dropout(hidden_states, p=\u001b[38;5;28mself\u001b[39m.dropout, training=\u001b[38;5;28mself\u001b[39m.training)\n\u001b[32m    440\u001b[39m     hidden_states = residual + hidden_states\n",
      "\u001b[36mFile \u001b[39m\u001b[32m~\\AppData\\Roaming\\Python\\Python313\\site-packages\\torch\\nn\\modules\\module.py:1773\u001b[39m, in \u001b[36mModule._wrapped_call_impl\u001b[39m\u001b[34m(self, *args, **kwargs)\u001b[39m\n\u001b[32m   1771\u001b[39m     \u001b[38;5;28;01mreturn\u001b[39;00m \u001b[38;5;28mself\u001b[39m._compiled_call_impl(*args, **kwargs)  \u001b[38;5;66;03m# type: ignore[misc]\u001b[39;00m\n\u001b[32m   1772\u001b[39m \u001b[38;5;28;01melse\u001b[39;00m:\n\u001b[32m-> \u001b[39m\u001b[32m1773\u001b[39m     \u001b[38;5;28;01mreturn\u001b[39;00m \u001b[38;5;28;43mself\u001b[39;49m\u001b[43m.\u001b[49m\u001b[43m_call_impl\u001b[49m\u001b[43m(\u001b[49m\u001b[43m*\u001b[49m\u001b[43margs\u001b[49m\u001b[43m,\u001b[49m\u001b[43m \u001b[49m\u001b[43m*\u001b[49m\u001b[43m*\u001b[49m\u001b[43mkwargs\u001b[49m\u001b[43m)\u001b[49m\n",
      "\u001b[36mFile \u001b[39m\u001b[32m~\\AppData\\Roaming\\Python\\Python313\\site-packages\\torch\\nn\\modules\\module.py:1784\u001b[39m, in \u001b[36mModule._call_impl\u001b[39m\u001b[34m(self, *args, **kwargs)\u001b[39m\n\u001b[32m   1779\u001b[39m \u001b[38;5;66;03m# If we don't have any hooks, we want to skip the rest of the logic in\u001b[39;00m\n\u001b[32m   1780\u001b[39m \u001b[38;5;66;03m# this function, and just call forward.\u001b[39;00m\n\u001b[32m   1781\u001b[39m \u001b[38;5;28;01mif\u001b[39;00m \u001b[38;5;129;01mnot\u001b[39;00m (\u001b[38;5;28mself\u001b[39m._backward_hooks \u001b[38;5;129;01mor\u001b[39;00m \u001b[38;5;28mself\u001b[39m._backward_pre_hooks \u001b[38;5;129;01mor\u001b[39;00m \u001b[38;5;28mself\u001b[39m._forward_hooks \u001b[38;5;129;01mor\u001b[39;00m \u001b[38;5;28mself\u001b[39m._forward_pre_hooks\n\u001b[32m   1782\u001b[39m         \u001b[38;5;129;01mor\u001b[39;00m _global_backward_pre_hooks \u001b[38;5;129;01mor\u001b[39;00m _global_backward_hooks\n\u001b[32m   1783\u001b[39m         \u001b[38;5;129;01mor\u001b[39;00m _global_forward_hooks \u001b[38;5;129;01mor\u001b[39;00m _global_forward_pre_hooks):\n\u001b[32m-> \u001b[39m\u001b[32m1784\u001b[39m     \u001b[38;5;28;01mreturn\u001b[39;00m \u001b[43mforward_call\u001b[49m\u001b[43m(\u001b[49m\u001b[43m*\u001b[49m\u001b[43margs\u001b[49m\u001b[43m,\u001b[49m\u001b[43m \u001b[49m\u001b[43m*\u001b[49m\u001b[43m*\u001b[49m\u001b[43mkwargs\u001b[49m\u001b[43m)\u001b[49m\n\u001b[32m   1786\u001b[39m result = \u001b[38;5;28;01mNone\u001b[39;00m\n\u001b[32m   1787\u001b[39m called_always_called_hooks = \u001b[38;5;28mset\u001b[39m()\n",
      "\u001b[36mFile \u001b[39m\u001b[32m~\\AppData\\Roaming\\Python\\Python313\\site-packages\\transformers\\models\\bart\\modeling_bart.py:235\u001b[39m, in \u001b[36mBartAttention.forward\u001b[39m\u001b[34m(self, hidden_states, key_value_states, past_key_value, attention_mask, layer_head_mask, output_attentions, cache_position, **kwargs)\u001b[39m\n\u001b[32m    233\u001b[39m     value_states = curr_past_key_value.layers[\u001b[38;5;28mself\u001b[39m.layer_idx].values\n\u001b[32m    234\u001b[39m \u001b[38;5;28;01melse\u001b[39;00m:\n\u001b[32m--> \u001b[39m\u001b[32m235\u001b[39m     key_states = \u001b[38;5;28;43mself\u001b[39;49m\u001b[43m.\u001b[49m\u001b[43mk_proj\u001b[49m\u001b[43m(\u001b[49m\u001b[43mcurrent_states\u001b[49m\u001b[43m)\u001b[49m\n\u001b[32m    236\u001b[39m     value_states = \u001b[38;5;28mself\u001b[39m.v_proj(current_states)\n\u001b[32m    237\u001b[39m     key_states = key_states.view(*kv_input_shape).transpose(\u001b[32m1\u001b[39m, \u001b[32m2\u001b[39m)\n",
      "\u001b[36mFile \u001b[39m\u001b[32m~\\AppData\\Roaming\\Python\\Python313\\site-packages\\torch\\nn\\modules\\module.py:1773\u001b[39m, in \u001b[36mModule._wrapped_call_impl\u001b[39m\u001b[34m(self, *args, **kwargs)\u001b[39m\n\u001b[32m   1771\u001b[39m     \u001b[38;5;28;01mreturn\u001b[39;00m \u001b[38;5;28mself\u001b[39m._compiled_call_impl(*args, **kwargs)  \u001b[38;5;66;03m# type: ignore[misc]\u001b[39;00m\n\u001b[32m   1772\u001b[39m \u001b[38;5;28;01melse\u001b[39;00m:\n\u001b[32m-> \u001b[39m\u001b[32m1773\u001b[39m     \u001b[38;5;28;01mreturn\u001b[39;00m \u001b[38;5;28;43mself\u001b[39;49m\u001b[43m.\u001b[49m\u001b[43m_call_impl\u001b[49m\u001b[43m(\u001b[49m\u001b[43m*\u001b[49m\u001b[43margs\u001b[49m\u001b[43m,\u001b[49m\u001b[43m \u001b[49m\u001b[43m*\u001b[49m\u001b[43m*\u001b[49m\u001b[43mkwargs\u001b[49m\u001b[43m)\u001b[49m\n",
      "\u001b[36mFile \u001b[39m\u001b[32m~\\AppData\\Roaming\\Python\\Python313\\site-packages\\torch\\nn\\modules\\module.py:1784\u001b[39m, in \u001b[36mModule._call_impl\u001b[39m\u001b[34m(self, *args, **kwargs)\u001b[39m\n\u001b[32m   1779\u001b[39m \u001b[38;5;66;03m# If we don't have any hooks, we want to skip the rest of the logic in\u001b[39;00m\n\u001b[32m   1780\u001b[39m \u001b[38;5;66;03m# this function, and just call forward.\u001b[39;00m\n\u001b[32m   1781\u001b[39m \u001b[38;5;28;01mif\u001b[39;00m \u001b[38;5;129;01mnot\u001b[39;00m (\u001b[38;5;28mself\u001b[39m._backward_hooks \u001b[38;5;129;01mor\u001b[39;00m \u001b[38;5;28mself\u001b[39m._backward_pre_hooks \u001b[38;5;129;01mor\u001b[39;00m \u001b[38;5;28mself\u001b[39m._forward_hooks \u001b[38;5;129;01mor\u001b[39;00m \u001b[38;5;28mself\u001b[39m._forward_pre_hooks\n\u001b[32m   1782\u001b[39m         \u001b[38;5;129;01mor\u001b[39;00m _global_backward_pre_hooks \u001b[38;5;129;01mor\u001b[39;00m _global_backward_hooks\n\u001b[32m   1783\u001b[39m         \u001b[38;5;129;01mor\u001b[39;00m _global_forward_hooks \u001b[38;5;129;01mor\u001b[39;00m _global_forward_pre_hooks):\n\u001b[32m-> \u001b[39m\u001b[32m1784\u001b[39m     \u001b[38;5;28;01mreturn\u001b[39;00m \u001b[43mforward_call\u001b[49m\u001b[43m(\u001b[49m\u001b[43m*\u001b[49m\u001b[43margs\u001b[49m\u001b[43m,\u001b[49m\u001b[43m \u001b[49m\u001b[43m*\u001b[49m\u001b[43m*\u001b[49m\u001b[43mkwargs\u001b[49m\u001b[43m)\u001b[49m\n\u001b[32m   1786\u001b[39m result = \u001b[38;5;28;01mNone\u001b[39;00m\n\u001b[32m   1787\u001b[39m called_always_called_hooks = \u001b[38;5;28mset\u001b[39m()\n",
      "\u001b[36mFile \u001b[39m\u001b[32m~\\AppData\\Roaming\\Python\\Python313\\site-packages\\torch\\nn\\modules\\linear.py:125\u001b[39m, in \u001b[36mLinear.forward\u001b[39m\u001b[34m(self, input)\u001b[39m\n\u001b[32m    124\u001b[39m \u001b[38;5;28;01mdef\u001b[39;00m\u001b[38;5;250m \u001b[39m\u001b[34mforward\u001b[39m(\u001b[38;5;28mself\u001b[39m, \u001b[38;5;28minput\u001b[39m: Tensor) -> Tensor:\n\u001b[32m--> \u001b[39m\u001b[32m125\u001b[39m     \u001b[38;5;28;01mreturn\u001b[39;00m \u001b[43mF\u001b[49m\u001b[43m.\u001b[49m\u001b[43mlinear\u001b[49m\u001b[43m(\u001b[49m\u001b[38;5;28;43minput\u001b[39;49m\u001b[43m,\u001b[49m\u001b[43m \u001b[49m\u001b[38;5;28;43mself\u001b[39;49m\u001b[43m.\u001b[49m\u001b[43mweight\u001b[49m\u001b[43m,\u001b[49m\u001b[43m \u001b[49m\u001b[38;5;28;43mself\u001b[39;49m\u001b[43m.\u001b[49m\u001b[43mbias\u001b[49m\u001b[43m)\u001b[49m\n",
      "\u001b[31mKeyboardInterrupt\u001b[39m: "
     ]
    }
   ],
   "source": [
    "import sys\n",
    "import torch\n",
    "from torch import nn\n",
    "import pandas as pd\n",
    "from transformers import BartTokenizer, BartModel\n",
    "from sklearn.model_selection import train_test_split\n",
    "from tqdm import tqdm\n",
    "\n",
    "# Load the data\n",
    "df = pd.read_csv(\"./data/SMSSpamCollection\", \n",
    "                 sep=\"\\t\", \n",
    "                 names=[\"type\", \"message\"])\n",
    "\n",
    "df[\"spam\"] = (df[\"type\"] == \"spam\").astype(int)\n",
    "df.drop(\"type\", axis=1, inplace=True)\n",
    "\n",
    "# Split the data\n",
    "df_train, df_val = train_test_split(df, test_size=0.2, random_state=0)\n",
    "\n",
    "# Load BART and tokenizer\n",
    "tokenizer = BartTokenizer.from_pretrained(\"facebook/bart-base\")\n",
    "model_bart = BartModel.from_pretrained(\"facebook/bart-base\")\n",
    "\n",
    "# Tokenize messages with a progress bar\n",
    "def tokenize_texts(texts):\n",
    "    return tokenizer(texts.tolist(), \n",
    "                     padding=True, \n",
    "                     truncation=True, \n",
    "                     return_tensors=\"pt\", \n",
    "                     max_length=512)\n",
    "\n",
    "# Transform training data with progress bar\n",
    "print(\"Tokenizing and transforming training data...\")\n",
    "tokens_train = tokenize_texts(df_train[\"message\"])\n",
    "embeddings_train = []\n",
    "for i in tqdm(range(len(tokens_train['input_ids']))):\n",
    "    with torch.no_grad():\n",
    "        output = model_bart(input_ids=tokens_train['input_ids'][i].unsqueeze(0), \n",
    "                            attention_mask=tokens_train['attention_mask'][i].unsqueeze(0))\n",
    "        embeddings_train.append(output.last_hidden_state.mean(dim=1).squeeze(0))\n",
    "\n",
    "# Transform validation data with progress bar\n",
    "print(\"Tokenizing and transforming validation data...\")\n",
    "tokens_val = tokenize_texts(df_val[\"message\"])\n",
    "embeddings_val = []\n",
    "for i in tqdm(range(len(tokens_val['input_ids']))):\n",
    "    with torch.no_grad():\n",
    "        output = model_bart(input_ids=tokens_val['input_ids'][i].unsqueeze(0), \n",
    "                            attention_mask=tokens_val['attention_mask'][i].unsqueeze(0))\n",
    "        embeddings_val.append(output.last_hidden_state.mean(dim=1).squeeze(0))\n",
    "\n",
    "# Stack the embeddings into tensors\n",
    "X_train = torch.stack(embeddings_train)\n",
    "y_train = torch.tensor(df_train[\"spam\"].values, dtype=torch.float32).unsqueeze(1)\n",
    "\n",
    "X_val = torch.stack(embeddings_val)\n",
    "y_val = torch.tensor(df_val[\"spam\"].values, dtype=torch.float32).unsqueeze(1)\n",
    "\n",
    "# Define a simple linear model\n",
    "model = nn.Linear(X_train.size(1), 1)\n",
    "loss_fn = nn.BCEWithLogitsLoss()\n",
    "optimizer = torch.optim.SGD(model.parameters(), lr=0.02)\n",
    "\n",
    "# Training loop\n",
    "for i in range(10000):\n",
    "    model.train()\n",
    "    optimizer.zero_grad()\n",
    "    outputs = model(X_train)\n",
    "    loss = loss_fn(outputs, y_train)\n",
    "    loss.backward()\n",
    "    optimizer.step()\n",
    "\n",
    "    if i % 1000 == 0: \n",
    "        print(f\"Iteration {i}, Loss: {loss.item()}\")\n",
    "\n",
    "# Evaluation function\n",
    "def evaluate_model(X, y): \n",
    "    model.eval()\n",
    "    with torch.no_grad():\n",
    "        y_pred = torch.sigmoid(model(X)) > 0.25\n",
    "        accuracy = (y_pred == y).type(torch.float32).mean().item()\n",
    "        sensitivity = (y_pred[y == 1] == y[y == 1]).type(torch.float32).mean().item()\n",
    "        specificity = (y_pred[y == 0] == y[y == 0]).type(torch.float32).mean().item()\n",
    "        precision = (y_pred[y_pred == 1] == y[y_pred == 1]).type(torch.float32).mean().item()\n",
    "        \n",
    "        print(f\"Accuracy: {accuracy}\")\n",
    "        print(f\"Sensitivity: {sensitivity}\")\n",
    "        print(f\"Specificity: {specificity}\")\n",
    "        print(f\"Precision: {precision}\")\n",
    "\n",
    "# Evaluate on training data\n",
    "print(\"Evaluating on the training data\")\n",
    "evaluate_model(X_train, y_train)\n",
    "\n",
    "# Evaluate on validation data\n",
    "print(\"Evaluating on the validation data\")\n",
    "evaluate_model(X_val, y_val)\n",
    "\n",
    "# Custom messages for prediction\n",
    "custom_messages = pd.Series([\n",
    "    \"We have released a new product, do you want to buy it?\", \n",
    "    \"Winner! Great deal, call us to get this product for free\",\n",
    "    \"Tomorrow is my birthday, do you want to come to the party?\"\n",
    "])\n",
    "\n",
    "tokens_custom = tokenize_texts(custom_messages)\n",
    "embeddings_custom = []\n",
    "print(\"Transforming custom messages...\")\n",
    "for i in tqdm(range(len(tokens_custom['input_ids']))):\n",
    "    with torch.no_grad():\n",
    "        output = model_bart(input_ids=tokens_custom['input_ids'][i].unsqueeze(0), \n",
    "                            attention_mask=tokens_custom['attention_mask'][i].unsqueeze(0))\n",
    "        embeddings_custom.append(output.last_hidden_state.mean(dim=1).squeeze(0))\n",
    "\n",
    "X_custom = torch.stack(embeddings_custom)\n",
    "with torch.no_grad():\n",
    "    model.eval()\n",
    "    pred = torch.sigmoid(model(X_custom))\n",
    "    print(pred)\n"
   ]
  },
  {
   "cell_type": "code",
   "execution_count": null,
   "id": "9f5d2ea0",
   "metadata": {},
   "outputs": [],
   "source": []
  }
 ],
 "metadata": {
  "kernelspec": {
   "display_name": "Python 3",
   "language": "python",
   "name": "python3"
  },
  "language_info": {
   "codemirror_mode": {
    "name": "ipython",
    "version": 3
   },
   "file_extension": ".py",
   "mimetype": "text/x-python",
   "name": "python",
   "nbconvert_exporter": "python",
   "pygments_lexer": "ipython3",
   "version": "3.13.1"
  }
 },
 "nbformat": 4,
 "nbformat_minor": 5
}
