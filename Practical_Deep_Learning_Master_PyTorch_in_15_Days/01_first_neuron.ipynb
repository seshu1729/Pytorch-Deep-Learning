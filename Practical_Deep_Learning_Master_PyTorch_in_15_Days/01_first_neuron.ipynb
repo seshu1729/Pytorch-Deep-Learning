{
  "nbformat": 4,
  "nbformat_minor": 0,
  "metadata": {
    "colab": {
      "provenance": []
    },
    "kernelspec": {
      "name": "python3",
      "display_name": "Python 3"
    },
    "language_info": {
      "name": "python"
    }
  },
  "cells": [
    {
      "cell_type": "code",
      "source": [
        "b = 32\n",
        "w1 = 1.8\n",
        "\n",
        "X1 = 100\n",
        "\n",
        "y_pred = 1 * b + X1 * w1\n",
        "print(y_pred)"
      ],
      "metadata": {
        "colab": {
          "base_uri": "https://localhost:8080/"
        },
        "id": "34yq8JBuTgjx",
        "outputId": "9a9d030a-0ced-4796-b193-e8e5039e4194"
      },
      "execution_count": 30,
      "outputs": [
        {
          "output_type": "stream",
          "name": "stdout",
          "text": [
            "212.0\n"
          ]
        }
      ]
    },
    {
      "cell_type": "code",
      "execution_count": 5,
      "metadata": {
        "colab": {
          "base_uri": "https://localhost:8080/"
        },
        "id": "BMzs0hHnmX2R",
        "outputId": "a7bac1d9-5412-4a99-cc4f-d618ef496725"
      },
      "outputs": [
        {
          "output_type": "stream",
          "name": "stdout",
          "text": [
            "\n",
            " Prediction y_pred :  tensor([ 50.0000, 100.4000, 212.0000, 302.0000])\n",
            "100.4000015258789\n",
            "torch.Size([])\n",
            "torch.Size([4])\n",
            "torch.Size([])\n",
            "torch.Size([4])\n"
          ]
        }
      ],
      "source": [
        "import torch\n",
        "\n",
        "b = torch.tensor(32)\n",
        "w1 = torch.tensor(1.8)\n",
        "\n",
        "X1 = torch.tensor([10, 38, 100, 150])\n",
        "# X1 = torch.tensor([100]) # X1 can be single value also\n",
        "\n",
        "y_pred = 1 * b + X1 * w1\n",
        "# Explanation:  1*32 + [10, 38, 100, 150]*1.8 = 32+ [18, 68.4, 180, 270] = [50, 100.4, 212, 302]\n",
        "\n",
        "print(\"\\n Prediction y_pred : \", y_pred)\n",
        "print(y_pred[1].item())\n",
        "\n",
        "print(b.shape)\n",
        "print(X1.shape)\n",
        "print(b.size())\n",
        "print(X1.size())"
      ]
    },
    {
      "cell_type": "markdown",
      "source": [
        "In PyTorch, .size() and .shape are essentially the same.\n",
        "\n",
        "In NumPy, .shape returns the dimensions, and .size (without parentheses) returns the total number of elements."
      ],
      "metadata": {
        "id": "TDdIjPTQEpAk"
      }
    },
    {
      "cell_type": "markdown",
      "source": [
        "tensor(2.53) -> Zero-order tensor -> Scalar\n",
        "\n",
        "tensor([2.53]) -> First-order tensor -> Vector"
      ],
      "metadata": {
        "id": "0SeMDNvIpMuX"
      }
    },
    {
      "cell_type": "code",
      "source": [
        "# Matrix in a Tensor\n",
        "import torch\n",
        "\n",
        "X = torch.tensor([\n",
        "    [10],\n",
        "    [38],\n",
        "    [100],\n",
        "    [150]\n",
        "])\n",
        "\n",
        "print(X)\n",
        "print(X.shape)\n",
        "print(X.size())\n",
        "print(X.size(0)) # size in the 1st dimension"
      ],
      "metadata": {
        "id": "B-BltaLemoKl",
        "colab": {
          "base_uri": "https://localhost:8080/"
        },
        "outputId": "cb43b04f-0ee1-4091-c627-ac529e2c420c"
      },
      "execution_count": 14,
      "outputs": [
        {
          "output_type": "stream",
          "name": "stdout",
          "text": [
            "tensor([[ 10],\n",
            "        [ 38],\n",
            "        [100],\n",
            "        [150]])\n",
            "torch.Size([4, 1])\n",
            "torch.Size([4, 1])\n",
            "4\n"
          ]
        }
      ]
    },
    {
      "cell_type": "code",
      "source": [
        "print(X[0])     # Print 0th row\n",
        "print(X[0, 0])  # Print 0th row 0th value\n",
        "print(X[1])     # Print 1st row\n",
        "print(X[1, 0])  # Print 1st row 0th value\n",
        "print(X[2])     # Print 2nd row\n",
        "print(X[2, 0])  # Print 2nd row 0th value\n",
        "print(\"=================\")\n",
        "print(X[2, :])  # In 2nd row, All elements\n",
        "print(X[:, 0])  # All rows, only 1st element"
      ],
      "metadata": {
        "colab": {
          "base_uri": "https://localhost:8080/"
        },
        "id": "4KT1_eNHEUZG",
        "outputId": "d54e693f-fcb4-4d89-bfb1-8d4ca6edfa78"
      },
      "execution_count": 17,
      "outputs": [
        {
          "output_type": "stream",
          "name": "stdout",
          "text": [
            "tensor([10])\n",
            "tensor(10)\n",
            "tensor([38])\n",
            "tensor(38)\n",
            "tensor([100])\n",
            "tensor(100)\n",
            "=================\n",
            "tensor([100])\n",
            "tensor([ 10,  38, 100, 150])\n"
          ]
        }
      ]
    },
    {
      "cell_type": "code",
      "source": [
        "# Linear Neuron\n",
        "\n",
        "import torch\n",
        "from torch import nn\n",
        "\n",
        "X = torch.tensor([\n",
        "    [10.0],\n",
        "    [38.0],\n",
        "    [100.0],\n",
        "    [150.0]\n",
        "])\n",
        "\n",
        "model = nn.Linear(1, 1)\n",
        "\n",
        "print(model)\n",
        "print(\"Default bias: \", model.bias)      # Will vary everytime\n",
        "print(\"Default weight: \", model.weight)  # Will vary everytime\n",
        "\n",
        "y_pred = model(X)\n",
        "print(y_pred)"
      ],
      "metadata": {
        "colab": {
          "base_uri": "https://localhost:8080/"
        },
        "id": "bZYfO-TzJh0O",
        "outputId": "881092cb-06ed-426d-97be-4688be40a5bd"
      },
      "execution_count": 22,
      "outputs": [
        {
          "output_type": "stream",
          "name": "stdout",
          "text": [
            "Linear(in_features=1, out_features=1, bias=True)\n",
            "Default bias:  Parameter containing:\n",
            "tensor([0.0871], requires_grad=True)\n",
            "Default weight:  Parameter containing:\n",
            "tensor([[0.8502]], requires_grad=True)\n",
            "tensor([[  8.5894],\n",
            "        [ 32.3959],\n",
            "        [ 85.1102],\n",
            "        [127.6217]], grad_fn=<AddmmBackward0>)\n"
          ]
        }
      ]
    },
    {
      "cell_type": "code",
      "source": [
        "model.bias = nn.Parameter(\n",
        "    torch.tensor([32.0])\n",
        ")\n",
        "model.weight = nn.Parameter(\n",
        "    torch.tensor([[1.8]])\n",
        ")\n",
        "\n",
        "print(model.bias)\n",
        "print(model.weight)\n",
        "\n",
        "y_pred = model(X)\n",
        "print(y_pred)"
      ],
      "metadata": {
        "colab": {
          "base_uri": "https://localhost:8080/"
        },
        "id": "z1YFS9uIL_oo",
        "outputId": "1c918fe9-3973-4114-8975-57b34914a08c"
      },
      "execution_count": 23,
      "outputs": [
        {
          "output_type": "stream",
          "name": "stdout",
          "text": [
            "Parameter containing:\n",
            "tensor([32.], requires_grad=True)\n",
            "Parameter containing:\n",
            "tensor([[1.8000]], requires_grad=True)\n",
            "tensor([[ 50.0000],\n",
            "        [100.4000],\n",
            "        [212.0000],\n",
            "        [302.0000]], grad_fn=<AddmmBackward0>)\n"
          ]
        }
      ]
    },
    {
      "cell_type": "code",
      "source": [
        "import torch\n",
        "from torch import nn\n",
        "\n",
        "X = torch.tensor([\n",
        "    [10],\n",
        "    [38],\n",
        "    [100],\n",
        "    [150]\n",
        "], dtype=torch.float32)\n",
        "\n",
        "X = X.type(torch.int64)\n",
        "print(X)\n",
        "print(X.dtype)\n",
        "print(\"============\")\n",
        "result = X * 0.5\n",
        "print(result)\n",
        "print(result.dtype)"
      ],
      "metadata": {
        "colab": {
          "base_uri": "https://localhost:8080/"
        },
        "id": "DxCh-EpXQxbJ",
        "outputId": "db175967-82c0-4fcb-e1a3-38271afe968a"
      },
      "execution_count": 26,
      "outputs": [
        {
          "output_type": "stream",
          "name": "stdout",
          "text": [
            "tensor([[ 10],\n",
            "        [ 38],\n",
            "        [100],\n",
            "        [150]])\n",
            "torch.int64\n",
            "============\n",
            "tensor([[ 5.],\n",
            "        [19.],\n",
            "        [50.],\n",
            "        [75.]])\n",
            "torch.float32\n"
          ]
        }
      ]
    },
    {
      "cell_type": "code",
      "source": [
        "import torch\n",
        "from torch import nn\n",
        "\n",
        "X = torch.tensor([\n",
        "    [10],\n",
        "    [38],\n",
        "    [100],\n",
        "    [150]\n",
        "], dtype=torch.float32)\n",
        "\n",
        "model = nn.Linear(1, 1)\n",
        "\n",
        "# model.bias = nn.Parameter(torch.tensor([32]))  # This will fail so add float32\n",
        "model.bias = nn.Parameter(\n",
        "    torch.tensor([32], dtype=torch.float32)\n",
        ")\n",
        "model.weight = nn.Parameter(\n",
        "    torch.tensor([[1.8]], dtype=torch.float32)\n",
        ")\n",
        "\n",
        "print(model.bias)\n",
        "print(model.weight)\n",
        "\n",
        "y_pred = model(X)\n",
        "print(y_pred)"
      ],
      "metadata": {
        "colab": {
          "base_uri": "https://localhost:8080/"
        },
        "id": "81ZpIcfxRxGI",
        "outputId": "7310702c-5338-4d0a-e3bc-56eafac8389b"
      },
      "execution_count": 29,
      "outputs": [
        {
          "output_type": "stream",
          "name": "stdout",
          "text": [
            "Parameter containing:\n",
            "tensor([32.], requires_grad=True)\n",
            "Parameter containing:\n",
            "tensor([[1.8000]], requires_grad=True)\n",
            "tensor([[ 50.0000],\n",
            "        [100.4000],\n",
            "        [212.0000],\n",
            "        [302.0000]], grad_fn=<AddmmBackward0>)\n"
          ]
        }
      ]
    },
    {
      "cell_type": "code",
      "source": [],
      "metadata": {
        "id": "JcXBeOsISLft"
      },
      "execution_count": null,
      "outputs": []
    }
  ]
}